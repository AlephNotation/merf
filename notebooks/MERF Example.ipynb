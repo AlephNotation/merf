{
 "cells": [
  {
   "cell_type": "code",
   "execution_count": 1,
   "metadata": {},
   "outputs": [],
   "source": [
    "%load_ext autoreload\n",
    "%autoreload 2\n",
    "import os, sys\n",
    "sys.path.append('..')\n",
    "%matplotlib inline\n",
    "import matplotlib.pyplot as plt\n",
    "import seaborn as sns\n",
    "sns.set_context(\"poster\")\n",
    "%load_ext line_profiler\n",
    "import numpy as np\n",
    "import pandas as pd\n",
    "import matplotlib as mpl\n",
    "mpl.rcParams['figure.figsize'] = (11,8)"
   ]
  },
  {
   "cell_type": "code",
   "execution_count": 2,
   "metadata": {},
   "outputs": [],
   "source": [
    "from merf.utils import MERFDataGenerator\n",
    "from merf.merf import MERF"
   ]
  },
  {
   "cell_type": "markdown",
   "metadata": {},
   "source": [
    "# Test Data Generation"
   ]
  },
  {
   "cell_type": "code",
   "execution_count": 86,
   "metadata": {},
   "outputs": [],
   "source": [
    "dgm = MERFDataGenerator(m=.6, sigma_b=np.sqrt(4.5), sigma_e=1)"
   ]
  },
  {
   "cell_type": "code",
   "execution_count": 87,
   "metadata": {},
   "outputs": [],
   "source": [
    "num_clusters_each_size = 20\n",
    "train_sizes = [1, 3, 5, 7, 9]\n",
    "known_sizes = [9, 27, 45, 63, 81]\n",
    "new_sizes = [10, 30, 50, 70, 90]"
   ]
  },
  {
   "cell_type": "code",
   "execution_count": 88,
   "metadata": {},
   "outputs": [],
   "source": [
    "# Smaller set that can be used for debugging\n",
    "# num_clusters_each_size = 1\n",
    "# train_sizes = [1, 3]\n",
    "# known_sizes = [9, 27]\n",
    "# new_sizes = [10, 30]"
   ]
  },
  {
   "cell_type": "code",
   "execution_count": 89,
   "metadata": {},
   "outputs": [],
   "source": [
    "train_cluster_sizes = MERFDataGenerator.create_cluster_sizes_array(train_sizes, num_clusters_each_size)\n",
    "known_cluster_sizes = MERFDataGenerator.create_cluster_sizes_array(known_sizes, num_clusters_each_size)\n",
    "new_cluster_sizes = MERFDataGenerator.create_cluster_sizes_array(new_sizes, num_clusters_each_size)"
   ]
  },
  {
   "cell_type": "code",
   "execution_count": 90,
   "metadata": {},
   "outputs": [
    {
     "data": {
      "text/plain": [
       "(100, 100, 100)"
      ]
     },
     "execution_count": 90,
     "metadata": {},
     "output_type": "execute_result"
    }
   ],
   "source": [
    "len(train_cluster_sizes), len(known_cluster_sizes), len(new_cluster_sizes)"
   ]
  },
  {
   "cell_type": "code",
   "execution_count": 91,
   "metadata": {},
   "outputs": [
    {
     "name": "stderr",
     "output_type": "stream",
     "text": [
      "INFO     [utils.py:164] Drew 10000 samples from 200 clusters.\n",
      "INFO     [utils.py:165] PTEV = 90.31161262942693, PREV = 48.27479202090234.\n"
     ]
    }
   ],
   "source": [
    "train, test_known, test_new, training_cluster_ids, ptev, prev = dgm.generate_split_samples(train_cluster_sizes, known_cluster_sizes, new_cluster_sizes)"
   ]
  },
  {
   "cell_type": "code",
   "execution_count": 92,
   "metadata": {},
   "outputs": [
    {
     "data": {
      "text/plain": [
       "(500, 4500, 5000)"
      ]
     },
     "execution_count": 92,
     "metadata": {},
     "output_type": "execute_result"
    }
   ],
   "source": [
    "len(train), len(test_known), len(test_new)"
   ]
  },
  {
   "cell_type": "code",
   "execution_count": 94,
   "metadata": {},
   "outputs": [
    {
     "data": {
      "text/html": [
       "<div>\n",
       "<style>\n",
       "    .dataframe thead tr:only-child th {\n",
       "        text-align: right;\n",
       "    }\n",
       "\n",
       "    .dataframe thead th {\n",
       "        text-align: left;\n",
       "    }\n",
       "\n",
       "    .dataframe tbody tr th {\n",
       "        vertical-align: top;\n",
       "    }\n",
       "</style>\n",
       "<table border=\"1\" class=\"dataframe\">\n",
       "  <thead>\n",
       "    <tr style=\"text-align: right;\">\n",
       "      <th></th>\n",
       "      <th>y</th>\n",
       "      <th>X_0</th>\n",
       "      <th>X_1</th>\n",
       "      <th>X_2</th>\n",
       "      <th>Z</th>\n",
       "      <th>cluster</th>\n",
       "    </tr>\n",
       "  </thead>\n",
       "  <tbody>\n",
       "    <tr>\n",
       "      <th>0</th>\n",
       "      <td>2.189346</td>\n",
       "      <td>-1.279669</td>\n",
       "      <td>0.405272</td>\n",
       "      <td>-0.228557</td>\n",
       "      <td>1.0</td>\n",
       "      <td>0</td>\n",
       "    </tr>\n",
       "    <tr>\n",
       "      <th>10</th>\n",
       "      <td>2.623741</td>\n",
       "      <td>0.912176</td>\n",
       "      <td>0.369116</td>\n",
       "      <td>0.310904</td>\n",
       "      <td>1.0</td>\n",
       "      <td>1</td>\n",
       "    </tr>\n",
       "    <tr>\n",
       "      <th>20</th>\n",
       "      <td>4.077291</td>\n",
       "      <td>1.549341</td>\n",
       "      <td>-0.567705</td>\n",
       "      <td>-0.228081</td>\n",
       "      <td>1.0</td>\n",
       "      <td>2</td>\n",
       "    </tr>\n",
       "    <tr>\n",
       "      <th>30</th>\n",
       "      <td>5.370184</td>\n",
       "      <td>-0.517373</td>\n",
       "      <td>-0.542788</td>\n",
       "      <td>-0.574426</td>\n",
       "      <td>1.0</td>\n",
       "      <td>3</td>\n",
       "    </tr>\n",
       "    <tr>\n",
       "      <th>40</th>\n",
       "      <td>-1.380251</td>\n",
       "      <td>-0.400412</td>\n",
       "      <td>0.015064</td>\n",
       "      <td>0.343061</td>\n",
       "      <td>1.0</td>\n",
       "      <td>4</td>\n",
       "    </tr>\n",
       "  </tbody>\n",
       "</table>\n",
       "</div>"
      ],
      "text/plain": [
       "           y       X_0       X_1       X_2    Z  cluster\n",
       "0   2.189346 -1.279669  0.405272 -0.228557  1.0        0\n",
       "10  2.623741  0.912176  0.369116  0.310904  1.0        1\n",
       "20  4.077291  1.549341 -0.567705 -0.228081  1.0        2\n",
       "30  5.370184 -0.517373 -0.542788 -0.574426  1.0        3\n",
       "40 -1.380251 -0.400412  0.015064  0.343061  1.0        4"
      ]
     },
     "execution_count": 94,
     "metadata": {},
     "output_type": "execute_result"
    }
   ],
   "source": [
    "train.head()"
   ]
  },
  {
   "cell_type": "markdown",
   "metadata": {},
   "source": [
    "# MERF Training"
   ]
  },
  {
   "cell_type": "code",
   "execution_count": 95,
   "metadata": {},
   "outputs": [],
   "source": [
    "X_train = train[['X_0', 'X_1', 'X_2']]\n",
    "Z_train = train[['Z']]\n",
    "clusters_train = train['cluster']\n",
    "y_train = train['y']"
   ]
  },
  {
   "cell_type": "code",
   "execution_count": 96,
   "metadata": {},
   "outputs": [
    {
     "name": "stderr",
     "output_type": "stream",
     "text": [
      "INFO     [merf.py:235] GLL is 1291.7804577415209 at iteration 1.\n",
      "INFO     [merf.py:235] GLL is 1179.9023523167114 at iteration 2.\n",
      "INFO     [merf.py:235] GLL is 1176.4165351037682 at iteration 3.\n",
      "INFO     [merf.py:235] GLL is 1175.2606801803554 at iteration 4.\n",
      "INFO     [merf.py:235] GLL is 1175.9241345862292 at iteration 5.\n",
      "INFO     [merf.py:235] GLL is 1182.1901404216003 at iteration 6.\n",
      "INFO     [merf.py:235] GLL is 1177.595067113106 at iteration 7.\n",
      "INFO     [merf.py:235] GLL is 1177.4002093630356 at iteration 8.\n",
      "INFO     [merf.py:235] GLL is 1187.2345000139794 at iteration 9.\n",
      "INFO     [merf.py:235] GLL is 1180.6547097031867 at iteration 10.\n",
      "INFO     [merf.py:235] GLL is 1184.6269775274632 at iteration 11.\n",
      "INFO     [merf.py:235] GLL is 1175.8091438208626 at iteration 12.\n",
      "INFO     [merf.py:235] GLL is 1192.7325871619464 at iteration 13.\n",
      "INFO     [merf.py:235] GLL is 1176.7888008183634 at iteration 14.\n",
      "INFO     [merf.py:235] GLL is 1183.1224360273454 at iteration 15.\n",
      "INFO     [merf.py:235] GLL is 1180.585772422987 at iteration 16.\n",
      "INFO     [merf.py:235] GLL is 1180.0641556308544 at iteration 17.\n",
      "INFO     [merf.py:235] GLL is 1182.1837197104526 at iteration 18.\n",
      "INFO     [merf.py:235] GLL is 1187.0480379226694 at iteration 19.\n",
      "INFO     [merf.py:235] GLL is 1180.2453792633858 at iteration 20.\n",
      "INFO     [merf.py:235] GLL is 1168.4803570629506 at iteration 21.\n",
      "INFO     [merf.py:235] GLL is 1188.0035796858144 at iteration 22.\n",
      "INFO     [merf.py:235] GLL is 1176.2763235914226 at iteration 23.\n",
      "INFO     [merf.py:235] GLL is 1180.1871670876753 at iteration 24.\n",
      "INFO     [merf.py:235] GLL is 1178.4440558567026 at iteration 25.\n",
      "INFO     [merf.py:235] GLL is 1167.8380301051761 at iteration 26.\n",
      "INFO     [merf.py:235] GLL is 1166.3762254257224 at iteration 27.\n",
      "INFO     [merf.py:235] GLL is 1186.6299976040843 at iteration 28.\n",
      "INFO     [merf.py:235] GLL is 1158.9292910922745 at iteration 29.\n",
      "INFO     [merf.py:235] GLL is 1178.3111944712687 at iteration 30.\n",
      "INFO     [merf.py:235] GLL is 1169.842844052556 at iteration 31.\n",
      "INFO     [merf.py:235] GLL is 1182.0388551226754 at iteration 32.\n",
      "INFO     [merf.py:235] GLL is 1190.1029025430173 at iteration 33.\n",
      "INFO     [merf.py:235] GLL is 1177.1098518888246 at iteration 34.\n",
      "INFO     [merf.py:235] GLL is 1173.3730399846847 at iteration 35.\n",
      "INFO     [merf.py:235] GLL is 1154.863392209124 at iteration 36.\n",
      "INFO     [merf.py:235] GLL is 1160.9498943406895 at iteration 37.\n",
      "INFO     [merf.py:235] GLL is 1171.3575977970095 at iteration 38.\n",
      "INFO     [merf.py:235] GLL is 1172.96173520792 at iteration 39.\n",
      "INFO     [merf.py:235] GLL is 1162.3436008820133 at iteration 40.\n",
      "INFO     [merf.py:235] GLL is 1171.5342204570834 at iteration 41.\n",
      "INFO     [merf.py:235] GLL is 1161.4972834751618 at iteration 42.\n",
      "INFO     [merf.py:235] GLL is 1179.6227677457107 at iteration 43.\n",
      "INFO     [merf.py:235] GLL is 1171.1638638151228 at iteration 44.\n",
      "INFO     [merf.py:235] GLL is 1179.9249829531473 at iteration 45.\n",
      "INFO     [merf.py:235] GLL is 1175.287052893404 at iteration 46.\n",
      "INFO     [merf.py:235] GLL is 1167.9698385857546 at iteration 47.\n",
      "INFO     [merf.py:235] GLL is 1156.680910090381 at iteration 48.\n",
      "INFO     [merf.py:235] GLL is 1172.002158056031 at iteration 49.\n",
      "INFO     [merf.py:235] GLL is 1168.1634649894759 at iteration 50.\n",
      "INFO     [merf.py:235] GLL is 1180.4728061718652 at iteration 51.\n",
      "INFO     [merf.py:235] GLL is 1171.3873311479533 at iteration 52.\n",
      "INFO     [merf.py:235] GLL is 1164.3547191185357 at iteration 53.\n",
      "INFO     [merf.py:235] GLL is 1182.044116371831 at iteration 54.\n",
      "INFO     [merf.py:235] GLL is 1180.1030909718245 at iteration 55.\n",
      "INFO     [merf.py:235] GLL is 1167.781574780474 at iteration 56.\n",
      "INFO     [merf.py:235] GLL is 1194.4268156571004 at iteration 57.\n",
      "INFO     [merf.py:235] GLL is 1186.8683902005719 at iteration 58.\n",
      "INFO     [merf.py:235] GLL is 1197.026103238992 at iteration 59.\n",
      "INFO     [merf.py:235] GLL is 1186.672917891373 at iteration 60.\n",
      "INFO     [merf.py:235] GLL is 1165.067576581108 at iteration 61.\n",
      "INFO     [merf.py:235] GLL is 1173.5966217716855 at iteration 62.\n",
      "INFO     [merf.py:235] GLL is 1184.8808041532768 at iteration 63.\n",
      "INFO     [merf.py:235] GLL is 1173.1385665678124 at iteration 64.\n",
      "INFO     [merf.py:235] GLL is 1172.9535374691989 at iteration 65.\n",
      "INFO     [merf.py:235] GLL is 1179.9786763761877 at iteration 66.\n",
      "INFO     [merf.py:235] GLL is 1177.5982911418048 at iteration 67.\n",
      "INFO     [merf.py:235] GLL is 1192.6773411253334 at iteration 68.\n",
      "INFO     [merf.py:235] GLL is 1174.911583484259 at iteration 69.\n",
      "INFO     [merf.py:235] GLL is 1168.4757628350078 at iteration 70.\n",
      "INFO     [merf.py:235] GLL is 1176.985343708294 at iteration 71.\n",
      "INFO     [merf.py:235] GLL is 1177.460156240273 at iteration 72.\n",
      "INFO     [merf.py:235] GLL is 1186.622423142326 at iteration 73.\n",
      "INFO     [merf.py:235] GLL is 1179.3685957459381 at iteration 74.\n",
      "INFO     [merf.py:235] GLL is 1189.818126591208 at iteration 75.\n",
      "INFO     [merf.py:235] GLL is 1184.8302070775155 at iteration 76.\n",
      "INFO     [merf.py:235] GLL is 1177.7184174621407 at iteration 77.\n",
      "INFO     [merf.py:235] GLL is 1171.555682480229 at iteration 78.\n",
      "INFO     [merf.py:235] GLL is 1174.0000902681636 at iteration 79.\n",
      "INFO     [merf.py:235] GLL is 1171.859486018285 at iteration 80.\n",
      "INFO     [merf.py:235] GLL is 1182.599838867325 at iteration 81.\n",
      "INFO     [merf.py:235] GLL is 1189.534227331301 at iteration 82.\n",
      "INFO     [merf.py:235] GLL is 1180.421417445558 at iteration 83.\n",
      "INFO     [merf.py:235] GLL is 1177.356980324101 at iteration 84.\n",
      "INFO     [merf.py:235] GLL is 1175.3182350352365 at iteration 85.\n",
      "INFO     [merf.py:235] GLL is 1166.8374133157524 at iteration 86.\n",
      "INFO     [merf.py:235] GLL is 1185.2345009625942 at iteration 87.\n",
      "INFO     [merf.py:235] GLL is 1191.00251318592 at iteration 88.\n",
      "INFO     [merf.py:235] GLL is 1177.3111361528013 at iteration 89.\n",
      "INFO     [merf.py:235] GLL is 1170.8967057663915 at iteration 90.\n",
      "INFO     [merf.py:235] GLL is 1186.5009671261507 at iteration 91.\n",
      "INFO     [merf.py:235] GLL is 1177.175116898646 at iteration 92.\n",
      "INFO     [merf.py:235] GLL is 1172.2798461275358 at iteration 93.\n",
      "INFO     [merf.py:235] GLL is 1174.9123622041736 at iteration 94.\n",
      "INFO     [merf.py:235] GLL is 1171.194686378408 at iteration 95.\n",
      "INFO     [merf.py:235] GLL is 1168.7317398655136 at iteration 96.\n",
      "INFO     [merf.py:235] GLL is 1167.5171501062114 at iteration 97.\n",
      "INFO     [merf.py:235] GLL is 1185.6143407661768 at iteration 98.\n",
      "INFO     [merf.py:235] GLL is 1180.920053377938 at iteration 99.\n",
      "INFO     [merf.py:235] GLL is 1183.256942227212 at iteration 100.\n"
     ]
    },
    {
     "data": {
      "text/plain": [
       "<merf.merf.MERF at 0x111567320>"
      ]
     },
     "execution_count": 96,
     "metadata": {},
     "output_type": "execute_result"
    }
   ],
   "source": [
    "mrf = MERF(n_estimators=300, max_iterations=100)\n",
    "mrf.fit(X_train, Z_train, clusters_train, y_train)"
   ]
  },
  {
   "cell_type": "code",
   "execution_count": 97,
   "metadata": {},
   "outputs": [
    {
     "data": {
      "text/plain": [
       "Text(0.5,0,'Iteration')"
      ]
     },
     "execution_count": 97,
     "metadata": {},
     "output_type": "execute_result"
    },
    {
     "data": {
      "image/png": "[encoded data removed]",
      "text/plain": [
       "<matplotlib.figure.Figure at 0x111567438>"
      ]
     },
     "metadata": {},
     "output_type": "display_data"
    }
   ],
   "source": [
    "plt.figure(figsize=[15,10])\n",
    "plt.subplot(221)\n",
    "plt.plot(mrf.gll_history)\n",
    "plt.grid('on')\n",
    "plt.ylabel('GLL')\n",
    "plt.xlabel('Iteration')\n",
    "\n",
    "plt.subplot(222)\n",
    "D_hat_history = [x[0][0] for x in mrf.D_hat_history]\n",
    "plt.plot(D_hat_history)\n",
    "plt.grid('on')\n",
    "plt.ylabel('sigma_b2_hat')\n",
    "plt.xlabel('Iteration')\n",
    "\n",
    "plt.subplot(223)\n",
    "plt.plot(mrf.sigma2_hat_history)\n",
    "plt.grid('on')\n",
    "plt.ylabel('sigma_e2_hat')\n",
    "plt.xlabel('Iteration')\n",
    "\n",
    "plt.subplot(224)\n",
    "b_df = pd.concat(mrf.b_hat_history, axis=1)\n",
    "b_df.columns = range(0, 101)\n",
    "plt.plot(b_df.loc[0])\n",
    "plt.plot(b_df.loc[10])\n",
    "plt.plot(b_df.loc[20])\n",
    "plt.plot(b_df.loc[30])\n",
    "plt.plot(b_df.loc[40])\n",
    "plt.plot(b_df.loc[50])\n",
    "plt.plot(b_df.loc[60])\n",
    "plt.grid('on')\n",
    "plt.ylabel('b_hat')\n",
    "plt.xlabel('Iteration')"
   ]
  },
  {
   "cell_type": "code",
   "execution_count": 98,
   "metadata": {},
   "outputs": [
    {
     "data": {
      "text/plain": [
       "Text(0.5,1,'Distribution of b_is')"
      ]
     },
     "execution_count": 98,
     "metadata": {},
     "output_type": "execute_result"
    },
    {
     "data": {
      "image/png": "[encoded data removed]",
      "text/plain": [
       "<matplotlib.figure.Figure at 0x1115ddda0>"
      ]
     },
     "metadata": {},
     "output_type": "display_data"
    }
   ],
   "source": [
    "mrf.trained_b.hist(bins=15)\n",
    "plt.xlabel('b_i')\n",
    "plt.title('Distribution of b_is')"
   ]
  },
  {
   "cell_type": "markdown",
   "metadata": {},
   "source": [
    "# MERF Prediction"
   ]
  },
  {
   "cell_type": "code",
   "execution_count": 99,
   "metadata": {},
   "outputs": [],
   "source": [
    "X_known = test_known[['X_0', 'X_1', 'X_2']]\n",
    "Z_known = test_known[['Z']]\n",
    "clusters_known = test_known['cluster']\n",
    "y_known = test_known['y']"
   ]
  },
  {
   "cell_type": "code",
   "execution_count": 100,
   "metadata": {},
   "outputs": [],
   "source": [
    "assert len(y_hat_known) == len(y_known)"
   ]
  },
  {
   "cell_type": "code",
   "execution_count": 101,
   "metadata": {},
   "outputs": [],
   "source": [
    "X_new = test_new[['X_0', 'X_1', 'X_2']]\n",
    "Z_new = test_new[['Z']]\n",
    "clusters_new = test_new['cluster']\n",
    "y_new = test_new['y']"
   ]
  },
  {
   "cell_type": "code",
   "execution_count": 102,
   "metadata": {},
   "outputs": [
    {
     "data": {
      "text/plain": [
       "array([ 6.57673186, -1.43042298,  4.01878245, ...,  4.70579036,\n",
       "        2.67607293,  0.28441851])"
      ]
     },
     "execution_count": 102,
     "metadata": {},
     "output_type": "execute_result"
    }
   ],
   "source": [
    "y_hat_known = mrf.predict(X_known, Z_known, clusters_known)\n",
    "y_hat_known"
   ]
  },
  {
   "cell_type": "code",
   "execution_count": 103,
   "metadata": {},
   "outputs": [
    {
     "data": {
      "text/plain": [
       "array([ 4.54853784,  2.67002571,  1.2784949 , ...,  0.33731191,\n",
       "        3.15116351,  1.44227498])"
      ]
     },
     "execution_count": 103,
     "metadata": {},
     "output_type": "execute_result"
    }
   ],
   "source": [
    "y_hat_new = mrf.predict(X_new, Z_new, clusters_new)\n",
    "y_hat_new"
   ]
  },
  {
   "cell_type": "code",
   "execution_count": 104,
   "metadata": {},
   "outputs": [],
   "source": [
    "assert len(y_hat_new) == len(y_new)"
   ]
  },
  {
   "cell_type": "markdown",
   "metadata": {},
   "source": [
    "# MERF vs. Random Forest on Fixed Effects"
   ]
  },
  {
   "cell_type": "code",
   "execution_count": null,
   "metadata": {},
   "outputs": [],
   "source": [
    "mrf."
   ]
  },
  {
   "cell_type": "code",
   "execution_count": 73,
   "metadata": {},
   "outputs": [],
   "source": [
    "# Train and test using classic random forest. \n",
    "from sklearn.ensemble import RandomForestRegressor\n",
    "import numpy as np"
   ]
  },
  {
   "cell_type": "code",
   "execution_count": 74,
   "metadata": {},
   "outputs": [],
   "source": [
    "rf = RandomForestRegressor(n_estimators=300, n_jobs=-1)"
   ]
  },
  {
   "cell_type": "code",
   "execution_count": 75,
   "metadata": {},
   "outputs": [
    {
     "data": {
      "text/plain": [
       "RandomForestRegressor(bootstrap=True, criterion='mse', max_depth=None,\n",
       "           max_features='auto', max_leaf_nodes=None,\n",
       "           min_impurity_decrease=0.0, min_impurity_split=None,\n",
       "           min_samples_leaf=1, min_samples_split=2,\n",
       "           min_weight_fraction_leaf=0.0, n_estimators=300, n_jobs=-1,\n",
       "           oob_score=False, random_state=None, verbose=0, warm_start=False)"
      ]
     },
     "execution_count": 75,
     "metadata": {},
     "output_type": "execute_result"
    }
   ],
   "source": [
    "rf.fit(X_train, y_train)"
   ]
  },
  {
   "cell_type": "code",
   "execution_count": 76,
   "metadata": {},
   "outputs": [],
   "source": [
    "y_hat_known_rf = rf.predict(X_known)"
   ]
  },
  {
   "cell_type": "code",
   "execution_count": 77,
   "metadata": {},
   "outputs": [
    {
     "data": {
      "text/plain": [
       "6.1108047838575983"
      ]
     },
     "execution_count": 77,
     "metadata": {},
     "output_type": "execute_result"
    }
   ],
   "source": [
    "pmse_known_rf = np.mean((y_known - y_hat_known_rf) ** 2)\n",
    "pmse_known_rf"
   ]
  },
  {
   "cell_type": "code",
   "execution_count": 78,
   "metadata": {},
   "outputs": [],
   "source": [
    "y_hat_known_merf = mrf.predict(X_known, Z_known, clusters_known)"
   ]
  },
  {
   "cell_type": "code",
   "execution_count": 79,
   "metadata": {},
   "outputs": [
    {
     "data": {
      "text/plain": [
       "2.1615926011237274"
      ]
     },
     "execution_count": 79,
     "metadata": {},
     "output_type": "execute_result"
    }
   ],
   "source": [
    "pmse_known_merf = np.mean((y_known - y_hat_known_merf) ** 2)\n",
    "pmse_known_merf"
   ]
  },
  {
   "cell_type": "code",
   "execution_count": 80,
   "metadata": {},
   "outputs": [
    {
     "data": {
      "text/plain": [
       "64.626711577600616"
      ]
     },
     "execution_count": 80,
     "metadata": {},
     "output_type": "execute_result"
    }
   ],
   "source": [
    "rd_known = 100 * (pmse_known_rf - pmse_known_merf) / pmse_known_rf\n",
    "rd_known"
   ]
  },
  {
   "cell_type": "code",
   "execution_count": 81,
   "metadata": {},
   "outputs": [],
   "source": [
    "y_hat_new_rf = rf.predict(X_new)"
   ]
  },
  {
   "cell_type": "code",
   "execution_count": 82,
   "metadata": {},
   "outputs": [
    {
     "data": {
      "text/plain": [
       "7.5871359870667101"
      ]
     },
     "execution_count": 82,
     "metadata": {},
     "output_type": "execute_result"
    }
   ],
   "source": [
    "pmse_new_rf = np.mean((y_new - y_hat_new_rf) ** 2)\n",
    "pmse_new_rf"
   ]
  },
  {
   "cell_type": "code",
   "execution_count": 83,
   "metadata": {},
   "outputs": [],
   "source": [
    "y_hat_new_merf = mrf.predict(X_new, Z_new, clusters_new)"
   ]
  },
  {
   "cell_type": "code",
   "execution_count": 84,
   "metadata": {},
   "outputs": [
    {
     "data": {
      "text/plain": [
       "8.7643625665834453"
      ]
     },
     "execution_count": 84,
     "metadata": {},
     "output_type": "execute_result"
    }
   ],
   "source": [
    "pmse_new_merf = np.mean((y_new - y_hat_new_merf) ** 2)\n",
    "pmse_new_merf"
   ]
  },
  {
   "cell_type": "code",
   "execution_count": 85,
   "metadata": {},
   "outputs": [
    {
     "data": {
      "text/plain": [
       "-15.516086459020578"
      ]
     },
     "execution_count": 85,
     "metadata": {},
     "output_type": "execute_result"
    }
   ],
   "source": [
    "rd_new = 100 * (pmse_new_rf - pmse_new_merf) / pmse_new_rf\n",
    "rd_new"
   ]
  },
  {
   "cell_type": "markdown",
   "metadata": {},
   "source": [
    "# MERF vs Random Forest with OHE Cluster Ids"
   ]
  },
  {
   "cell_type": "code",
   "execution_count": 105,
   "metadata": {},
   "outputs": [],
   "source": [
    "rf_ohe = RandomForestRegressor(n_estimators=300, n_jobs=-1)"
   ]
  },
  {
   "cell_type": "code",
   "execution_count": 106,
   "metadata": {},
   "outputs": [],
   "source": [
    "categories = np.sort(clusters_train.unique())"
   ]
  },
  {
   "cell_type": "code",
   "execution_count": 108,
   "metadata": {},
   "outputs": [],
   "source": [
    "clusters_train_prime = clusters_train.astype('category', categories=categories)"
   ]
  },
  {
   "cell_type": "code",
   "execution_count": 109,
   "metadata": {},
   "outputs": [],
   "source": [
    "X_ohe = pd.get_dummies(clusters_train_prime, prefix='cluster')"
   ]
  },
  {
   "cell_type": "code",
   "execution_count": 110,
   "metadata": {},
   "outputs": [
    {
     "data": {
      "text/html": [
       "<div>\n",
       "<style>\n",
       "    .dataframe thead tr:only-child th {\n",
       "        text-align: right;\n",
       "    }\n",
       "\n",
       "    .dataframe thead th {\n",
       "        text-align: left;\n",
       "    }\n",
       "\n",
       "    .dataframe tbody tr th {\n",
       "        vertical-align: top;\n",
       "    }\n",
       "</style>\n",
       "<table border=\"1\" class=\"dataframe\">\n",
       "  <thead>\n",
       "    <tr style=\"text-align: right;\">\n",
       "      <th></th>\n",
       "      <th>cluster_0</th>\n",
       "      <th>cluster_1</th>\n",
       "      <th>cluster_2</th>\n",
       "      <th>cluster_3</th>\n",
       "      <th>cluster_4</th>\n",
       "      <th>cluster_5</th>\n",
       "      <th>cluster_6</th>\n",
       "      <th>cluster_7</th>\n",
       "      <th>cluster_8</th>\n",
       "      <th>cluster_9</th>\n",
       "      <th>...</th>\n",
       "      <th>cluster_90</th>\n",
       "      <th>cluster_91</th>\n",
       "      <th>cluster_92</th>\n",
       "      <th>cluster_93</th>\n",
       "      <th>cluster_94</th>\n",
       "      <th>cluster_95</th>\n",
       "      <th>cluster_96</th>\n",
       "      <th>cluster_97</th>\n",
       "      <th>cluster_98</th>\n",
       "      <th>cluster_99</th>\n",
       "    </tr>\n",
       "  </thead>\n",
       "  <tbody>\n",
       "    <tr>\n",
       "      <th>0</th>\n",
       "      <td>1</td>\n",
       "      <td>0</td>\n",
       "      <td>0</td>\n",
       "      <td>0</td>\n",
       "      <td>0</td>\n",
       "      <td>0</td>\n",
       "      <td>0</td>\n",
       "      <td>0</td>\n",
       "      <td>0</td>\n",
       "      <td>0</td>\n",
       "      <td>...</td>\n",
       "      <td>0</td>\n",
       "      <td>0</td>\n",
       "      <td>0</td>\n",
       "      <td>0</td>\n",
       "      <td>0</td>\n",
       "      <td>0</td>\n",
       "      <td>0</td>\n",
       "      <td>0</td>\n",
       "      <td>0</td>\n",
       "      <td>0</td>\n",
       "    </tr>\n",
       "    <tr>\n",
       "      <th>10</th>\n",
       "      <td>0</td>\n",
       "      <td>1</td>\n",
       "      <td>0</td>\n",
       "      <td>0</td>\n",
       "      <td>0</td>\n",
       "      <td>0</td>\n",
       "      <td>0</td>\n",
       "      <td>0</td>\n",
       "      <td>0</td>\n",
       "      <td>0</td>\n",
       "      <td>...</td>\n",
       "      <td>0</td>\n",
       "      <td>0</td>\n",
       "      <td>0</td>\n",
       "      <td>0</td>\n",
       "      <td>0</td>\n",
       "      <td>0</td>\n",
       "      <td>0</td>\n",
       "      <td>0</td>\n",
       "      <td>0</td>\n",
       "      <td>0</td>\n",
       "    </tr>\n",
       "    <tr>\n",
       "      <th>20</th>\n",
       "      <td>0</td>\n",
       "      <td>0</td>\n",
       "      <td>1</td>\n",
       "      <td>0</td>\n",
       "      <td>0</td>\n",
       "      <td>0</td>\n",
       "      <td>0</td>\n",
       "      <td>0</td>\n",
       "      <td>0</td>\n",
       "      <td>0</td>\n",
       "      <td>...</td>\n",
       "      <td>0</td>\n",
       "      <td>0</td>\n",
       "      <td>0</td>\n",
       "      <td>0</td>\n",
       "      <td>0</td>\n",
       "      <td>0</td>\n",
       "      <td>0</td>\n",
       "      <td>0</td>\n",
       "      <td>0</td>\n",
       "      <td>0</td>\n",
       "    </tr>\n",
       "    <tr>\n",
       "      <th>30</th>\n",
       "      <td>0</td>\n",
       "      <td>0</td>\n",
       "      <td>0</td>\n",
       "      <td>1</td>\n",
       "      <td>0</td>\n",
       "      <td>0</td>\n",
       "      <td>0</td>\n",
       "      <td>0</td>\n",
       "      <td>0</td>\n",
       "      <td>0</td>\n",
       "      <td>...</td>\n",
       "      <td>0</td>\n",
       "      <td>0</td>\n",
       "      <td>0</td>\n",
       "      <td>0</td>\n",
       "      <td>0</td>\n",
       "      <td>0</td>\n",
       "      <td>0</td>\n",
       "      <td>0</td>\n",
       "      <td>0</td>\n",
       "      <td>0</td>\n",
       "    </tr>\n",
       "    <tr>\n",
       "      <th>40</th>\n",
       "      <td>0</td>\n",
       "      <td>0</td>\n",
       "      <td>0</td>\n",
       "      <td>0</td>\n",
       "      <td>1</td>\n",
       "      <td>0</td>\n",
       "      <td>0</td>\n",
       "      <td>0</td>\n",
       "      <td>0</td>\n",
       "      <td>0</td>\n",
       "      <td>...</td>\n",
       "      <td>0</td>\n",
       "      <td>0</td>\n",
       "      <td>0</td>\n",
       "      <td>0</td>\n",
       "      <td>0</td>\n",
       "      <td>0</td>\n",
       "      <td>0</td>\n",
       "      <td>0</td>\n",
       "      <td>0</td>\n",
       "      <td>0</td>\n",
       "    </tr>\n",
       "  </tbody>\n",
       "</table>\n",
       "<p>5 rows × 100 columns</p>\n",
       "</div>"
      ],
      "text/plain": [
       "    cluster_0  cluster_1  cluster_2  cluster_3  cluster_4  cluster_5  \\\n",
       "0           1          0          0          0          0          0   \n",
       "10          0          1          0          0          0          0   \n",
       "20          0          0          1          0          0          0   \n",
       "30          0          0          0          1          0          0   \n",
       "40          0          0          0          0          1          0   \n",
       "\n",
       "    cluster_6  cluster_7  cluster_8  cluster_9     ...      cluster_90  \\\n",
       "0           0          0          0          0     ...               0   \n",
       "10          0          0          0          0     ...               0   \n",
       "20          0          0          0          0     ...               0   \n",
       "30          0          0          0          0     ...               0   \n",
       "40          0          0          0          0     ...               0   \n",
       "\n",
       "    cluster_91  cluster_92  cluster_93  cluster_94  cluster_95  cluster_96  \\\n",
       "0            0           0           0           0           0           0   \n",
       "10           0           0           0           0           0           0   \n",
       "20           0           0           0           0           0           0   \n",
       "30           0           0           0           0           0           0   \n",
       "40           0           0           0           0           0           0   \n",
       "\n",
       "    cluster_97  cluster_98  cluster_99  \n",
       "0            0           0           0  \n",
       "10           0           0           0  \n",
       "20           0           0           0  \n",
       "30           0           0           0  \n",
       "40           0           0           0  \n",
       "\n",
       "[5 rows x 100 columns]"
      ]
     },
     "execution_count": 110,
     "metadata": {},
     "output_type": "execute_result"
    }
   ],
   "source": [
    "X_ohe.head()"
   ]
  },
  {
   "cell_type": "code",
   "execution_count": 111,
   "metadata": {},
   "outputs": [],
   "source": [
    "X_train_ohe = pd.merge(X_train, X_ohe, left_index=True, right_index=True)"
   ]
  },
  {
   "cell_type": "code",
   "execution_count": 112,
   "metadata": {},
   "outputs": [
    {
     "data": {
      "text/plain": [
       "RandomForestRegressor(bootstrap=True, criterion='mse', max_depth=None,\n",
       "           max_features='auto', max_leaf_nodes=None,\n",
       "           min_impurity_decrease=0.0, min_impurity_split=None,\n",
       "           min_samples_leaf=1, min_samples_split=2,\n",
       "           min_weight_fraction_leaf=0.0, n_estimators=300, n_jobs=-1,\n",
       "           oob_score=False, random_state=None, verbose=0, warm_start=False)"
      ]
     },
     "execution_count": 112,
     "metadata": {},
     "output_type": "execute_result"
    }
   ],
   "source": [
    "rf_ohe.fit(X_train_ohe, y_train)"
   ]
  },
  {
   "cell_type": "code",
   "execution_count": 113,
   "metadata": {},
   "outputs": [],
   "source": [
    "clusters_known_prime = clusters_known.astype('category', categories=categories)"
   ]
  },
  {
   "cell_type": "code",
   "execution_count": 114,
   "metadata": {},
   "outputs": [],
   "source": [
    "X_known_ohe = pd.get_dummies(clusters_known_prime, prefix='cluster')"
   ]
  },
  {
   "cell_type": "code",
   "execution_count": 115,
   "metadata": {},
   "outputs": [
    {
     "data": {
      "text/html": [
       "<div>\n",
       "<style>\n",
       "    .dataframe thead tr:only-child th {\n",
       "        text-align: right;\n",
       "    }\n",
       "\n",
       "    .dataframe thead th {\n",
       "        text-align: left;\n",
       "    }\n",
       "\n",
       "    .dataframe tbody tr th {\n",
       "        vertical-align: top;\n",
       "    }\n",
       "</style>\n",
       "<table border=\"1\" class=\"dataframe\">\n",
       "  <thead>\n",
       "    <tr style=\"text-align: right;\">\n",
       "      <th></th>\n",
       "      <th>cluster_0</th>\n",
       "      <th>cluster_1</th>\n",
       "      <th>cluster_2</th>\n",
       "      <th>cluster_3</th>\n",
       "      <th>cluster_4</th>\n",
       "      <th>cluster_5</th>\n",
       "      <th>cluster_6</th>\n",
       "      <th>cluster_7</th>\n",
       "      <th>cluster_8</th>\n",
       "      <th>cluster_9</th>\n",
       "      <th>...</th>\n",
       "      <th>cluster_90</th>\n",
       "      <th>cluster_91</th>\n",
       "      <th>cluster_92</th>\n",
       "      <th>cluster_93</th>\n",
       "      <th>cluster_94</th>\n",
       "      <th>cluster_95</th>\n",
       "      <th>cluster_96</th>\n",
       "      <th>cluster_97</th>\n",
       "      <th>cluster_98</th>\n",
       "      <th>cluster_99</th>\n",
       "    </tr>\n",
       "  </thead>\n",
       "  <tbody>\n",
       "    <tr>\n",
       "      <th>1</th>\n",
       "      <td>1</td>\n",
       "      <td>0</td>\n",
       "      <td>0</td>\n",
       "      <td>0</td>\n",
       "      <td>0</td>\n",
       "      <td>0</td>\n",
       "      <td>0</td>\n",
       "      <td>0</td>\n",
       "      <td>0</td>\n",
       "      <td>0</td>\n",
       "      <td>...</td>\n",
       "      <td>0</td>\n",
       "      <td>0</td>\n",
       "      <td>0</td>\n",
       "      <td>0</td>\n",
       "      <td>0</td>\n",
       "      <td>0</td>\n",
       "      <td>0</td>\n",
       "      <td>0</td>\n",
       "      <td>0</td>\n",
       "      <td>0</td>\n",
       "    </tr>\n",
       "    <tr>\n",
       "      <th>2</th>\n",
       "      <td>1</td>\n",
       "      <td>0</td>\n",
       "      <td>0</td>\n",
       "      <td>0</td>\n",
       "      <td>0</td>\n",
       "      <td>0</td>\n",
       "      <td>0</td>\n",
       "      <td>0</td>\n",
       "      <td>0</td>\n",
       "      <td>0</td>\n",
       "      <td>...</td>\n",
       "      <td>0</td>\n",
       "      <td>0</td>\n",
       "      <td>0</td>\n",
       "      <td>0</td>\n",
       "      <td>0</td>\n",
       "      <td>0</td>\n",
       "      <td>0</td>\n",
       "      <td>0</td>\n",
       "      <td>0</td>\n",
       "      <td>0</td>\n",
       "    </tr>\n",
       "    <tr>\n",
       "      <th>3</th>\n",
       "      <td>1</td>\n",
       "      <td>0</td>\n",
       "      <td>0</td>\n",
       "      <td>0</td>\n",
       "      <td>0</td>\n",
       "      <td>0</td>\n",
       "      <td>0</td>\n",
       "      <td>0</td>\n",
       "      <td>0</td>\n",
       "      <td>0</td>\n",
       "      <td>...</td>\n",
       "      <td>0</td>\n",
       "      <td>0</td>\n",
       "      <td>0</td>\n",
       "      <td>0</td>\n",
       "      <td>0</td>\n",
       "      <td>0</td>\n",
       "      <td>0</td>\n",
       "      <td>0</td>\n",
       "      <td>0</td>\n",
       "      <td>0</td>\n",
       "    </tr>\n",
       "    <tr>\n",
       "      <th>4</th>\n",
       "      <td>1</td>\n",
       "      <td>0</td>\n",
       "      <td>0</td>\n",
       "      <td>0</td>\n",
       "      <td>0</td>\n",
       "      <td>0</td>\n",
       "      <td>0</td>\n",
       "      <td>0</td>\n",
       "      <td>0</td>\n",
       "      <td>0</td>\n",
       "      <td>...</td>\n",
       "      <td>0</td>\n",
       "      <td>0</td>\n",
       "      <td>0</td>\n",
       "      <td>0</td>\n",
       "      <td>0</td>\n",
       "      <td>0</td>\n",
       "      <td>0</td>\n",
       "      <td>0</td>\n",
       "      <td>0</td>\n",
       "      <td>0</td>\n",
       "    </tr>\n",
       "    <tr>\n",
       "      <th>5</th>\n",
       "      <td>1</td>\n",
       "      <td>0</td>\n",
       "      <td>0</td>\n",
       "      <td>0</td>\n",
       "      <td>0</td>\n",
       "      <td>0</td>\n",
       "      <td>0</td>\n",
       "      <td>0</td>\n",
       "      <td>0</td>\n",
       "      <td>0</td>\n",
       "      <td>...</td>\n",
       "      <td>0</td>\n",
       "      <td>0</td>\n",
       "      <td>0</td>\n",
       "      <td>0</td>\n",
       "      <td>0</td>\n",
       "      <td>0</td>\n",
       "      <td>0</td>\n",
       "      <td>0</td>\n",
       "      <td>0</td>\n",
       "      <td>0</td>\n",
       "    </tr>\n",
       "  </tbody>\n",
       "</table>\n",
       "<p>5 rows × 100 columns</p>\n",
       "</div>"
      ],
      "text/plain": [
       "   cluster_0  cluster_1  cluster_2  cluster_3  cluster_4  cluster_5  \\\n",
       "1          1          0          0          0          0          0   \n",
       "2          1          0          0          0          0          0   \n",
       "3          1          0          0          0          0          0   \n",
       "4          1          0          0          0          0          0   \n",
       "5          1          0          0          0          0          0   \n",
       "\n",
       "   cluster_6  cluster_7  cluster_8  cluster_9     ...      cluster_90  \\\n",
       "1          0          0          0          0     ...               0   \n",
       "2          0          0          0          0     ...               0   \n",
       "3          0          0          0          0     ...               0   \n",
       "4          0          0          0          0     ...               0   \n",
       "5          0          0          0          0     ...               0   \n",
       "\n",
       "   cluster_91  cluster_92  cluster_93  cluster_94  cluster_95  cluster_96  \\\n",
       "1           0           0           0           0           0           0   \n",
       "2           0           0           0           0           0           0   \n",
       "3           0           0           0           0           0           0   \n",
       "4           0           0           0           0           0           0   \n",
       "5           0           0           0           0           0           0   \n",
       "\n",
       "   cluster_97  cluster_98  cluster_99  \n",
       "1           0           0           0  \n",
       "2           0           0           0  \n",
       "3           0           0           0  \n",
       "4           0           0           0  \n",
       "5           0           0           0  \n",
       "\n",
       "[5 rows x 100 columns]"
      ]
     },
     "execution_count": 115,
     "metadata": {},
     "output_type": "execute_result"
    }
   ],
   "source": [
    "X_known_ohe.head()"
   ]
  },
  {
   "cell_type": "code",
   "execution_count": 116,
   "metadata": {},
   "outputs": [],
   "source": [
    "X_known_w_ohe = pd.merge(X_known, X_known_ohe, left_index=True, right_index=True)"
   ]
  },
  {
   "cell_type": "code",
   "execution_count": 117,
   "metadata": {},
   "outputs": [],
   "source": [
    "y_hat_known_rf_ohe = rf_ohe.predict(X_known_w_ohe)"
   ]
  },
  {
   "cell_type": "code",
   "execution_count": 118,
   "metadata": {},
   "outputs": [
    {
     "data": {
      "text/plain": [
       "5.4868954844489002"
      ]
     },
     "execution_count": 118,
     "metadata": {},
     "output_type": "execute_result"
    }
   ],
   "source": [
    "mse_known_rf_ohe = np.mean((y_known - y_hat_known_rf_ohe) ** 2)\n",
    "mse_known_rf_ohe"
   ]
  },
  {
   "cell_type": "code",
   "execution_count": 119,
   "metadata": {},
   "outputs": [
    {
     "name": "stderr",
     "output_type": "stream",
     "text": [
      "/Users/souravdey/.virtualenvs/merf/lib/python3.6/site-packages/pandas/core/internals.py:490: RuntimeWarning: None of the categories were found in values. Did you mean to use\n",
      "'Categorical.from_codes(codes, categories)'?\n",
      "  return self.make_block(Categorical(self.values, **kwargs))\n"
     ]
    }
   ],
   "source": [
    "clusters_new_prime = clusters_new.astype('category', categories=categories)"
   ]
  },
  {
   "cell_type": "code",
   "execution_count": 120,
   "metadata": {},
   "outputs": [],
   "source": [
    "X_new_ohe = pd.get_dummies(clusters_new_prime, prefix='cluster')"
   ]
  },
  {
   "cell_type": "code",
   "execution_count": 121,
   "metadata": {},
   "outputs": [
    {
     "data": {
      "text/html": [
       "<div>\n",
       "<style>\n",
       "    .dataframe thead tr:only-child th {\n",
       "        text-align: right;\n",
       "    }\n",
       "\n",
       "    .dataframe thead th {\n",
       "        text-align: left;\n",
       "    }\n",
       "\n",
       "    .dataframe tbody tr th {\n",
       "        vertical-align: top;\n",
       "    }\n",
       "</style>\n",
       "<table border=\"1\" class=\"dataframe\">\n",
       "  <thead>\n",
       "    <tr style=\"text-align: right;\">\n",
       "      <th></th>\n",
       "      <th>cluster_0</th>\n",
       "      <th>cluster_1</th>\n",
       "      <th>cluster_2</th>\n",
       "      <th>cluster_3</th>\n",
       "      <th>cluster_4</th>\n",
       "      <th>cluster_5</th>\n",
       "      <th>cluster_6</th>\n",
       "      <th>cluster_7</th>\n",
       "      <th>cluster_8</th>\n",
       "      <th>cluster_9</th>\n",
       "      <th>...</th>\n",
       "      <th>cluster_90</th>\n",
       "      <th>cluster_91</th>\n",
       "      <th>cluster_92</th>\n",
       "      <th>cluster_93</th>\n",
       "      <th>cluster_94</th>\n",
       "      <th>cluster_95</th>\n",
       "      <th>cluster_96</th>\n",
       "      <th>cluster_97</th>\n",
       "      <th>cluster_98</th>\n",
       "      <th>cluster_99</th>\n",
       "    </tr>\n",
       "  </thead>\n",
       "  <tbody>\n",
       "    <tr>\n",
       "      <th>5000</th>\n",
       "      <td>0</td>\n",
       "      <td>0</td>\n",
       "      <td>0</td>\n",
       "      <td>0</td>\n",
       "      <td>0</td>\n",
       "      <td>0</td>\n",
       "      <td>0</td>\n",
       "      <td>0</td>\n",
       "      <td>0</td>\n",
       "      <td>0</td>\n",
       "      <td>...</td>\n",
       "      <td>0</td>\n",
       "      <td>0</td>\n",
       "      <td>0</td>\n",
       "      <td>0</td>\n",
       "      <td>0</td>\n",
       "      <td>0</td>\n",
       "      <td>0</td>\n",
       "      <td>0</td>\n",
       "      <td>0</td>\n",
       "      <td>0</td>\n",
       "    </tr>\n",
       "    <tr>\n",
       "      <th>5001</th>\n",
       "      <td>0</td>\n",
       "      <td>0</td>\n",
       "      <td>0</td>\n",
       "      <td>0</td>\n",
       "      <td>0</td>\n",
       "      <td>0</td>\n",
       "      <td>0</td>\n",
       "      <td>0</td>\n",
       "      <td>0</td>\n",
       "      <td>0</td>\n",
       "      <td>...</td>\n",
       "      <td>0</td>\n",
       "      <td>0</td>\n",
       "      <td>0</td>\n",
       "      <td>0</td>\n",
       "      <td>0</td>\n",
       "      <td>0</td>\n",
       "      <td>0</td>\n",
       "      <td>0</td>\n",
       "      <td>0</td>\n",
       "      <td>0</td>\n",
       "    </tr>\n",
       "    <tr>\n",
       "      <th>5002</th>\n",
       "      <td>0</td>\n",
       "      <td>0</td>\n",
       "      <td>0</td>\n",
       "      <td>0</td>\n",
       "      <td>0</td>\n",
       "      <td>0</td>\n",
       "      <td>0</td>\n",
       "      <td>0</td>\n",
       "      <td>0</td>\n",
       "      <td>0</td>\n",
       "      <td>...</td>\n",
       "      <td>0</td>\n",
       "      <td>0</td>\n",
       "      <td>0</td>\n",
       "      <td>0</td>\n",
       "      <td>0</td>\n",
       "      <td>0</td>\n",
       "      <td>0</td>\n",
       "      <td>0</td>\n",
       "      <td>0</td>\n",
       "      <td>0</td>\n",
       "    </tr>\n",
       "    <tr>\n",
       "      <th>5003</th>\n",
       "      <td>0</td>\n",
       "      <td>0</td>\n",
       "      <td>0</td>\n",
       "      <td>0</td>\n",
       "      <td>0</td>\n",
       "      <td>0</td>\n",
       "      <td>0</td>\n",
       "      <td>0</td>\n",
       "      <td>0</td>\n",
       "      <td>0</td>\n",
       "      <td>...</td>\n",
       "      <td>0</td>\n",
       "      <td>0</td>\n",
       "      <td>0</td>\n",
       "      <td>0</td>\n",
       "      <td>0</td>\n",
       "      <td>0</td>\n",
       "      <td>0</td>\n",
       "      <td>0</td>\n",
       "      <td>0</td>\n",
       "      <td>0</td>\n",
       "    </tr>\n",
       "    <tr>\n",
       "      <th>5004</th>\n",
       "      <td>0</td>\n",
       "      <td>0</td>\n",
       "      <td>0</td>\n",
       "      <td>0</td>\n",
       "      <td>0</td>\n",
       "      <td>0</td>\n",
       "      <td>0</td>\n",
       "      <td>0</td>\n",
       "      <td>0</td>\n",
       "      <td>0</td>\n",
       "      <td>...</td>\n",
       "      <td>0</td>\n",
       "      <td>0</td>\n",
       "      <td>0</td>\n",
       "      <td>0</td>\n",
       "      <td>0</td>\n",
       "      <td>0</td>\n",
       "      <td>0</td>\n",
       "      <td>0</td>\n",
       "      <td>0</td>\n",
       "      <td>0</td>\n",
       "    </tr>\n",
       "  </tbody>\n",
       "</table>\n",
       "<p>5 rows × 100 columns</p>\n",
       "</div>"
      ],
      "text/plain": [
       "      cluster_0  cluster_1  cluster_2  cluster_3  cluster_4  cluster_5  \\\n",
       "5000          0          0          0          0          0          0   \n",
       "5001          0          0          0          0          0          0   \n",
       "5002          0          0          0          0          0          0   \n",
       "5003          0          0          0          0          0          0   \n",
       "5004          0          0          0          0          0          0   \n",
       "\n",
       "      cluster_6  cluster_7  cluster_8  cluster_9     ...      cluster_90  \\\n",
       "5000          0          0          0          0     ...               0   \n",
       "5001          0          0          0          0     ...               0   \n",
       "5002          0          0          0          0     ...               0   \n",
       "5003          0          0          0          0     ...               0   \n",
       "5004          0          0          0          0     ...               0   \n",
       "\n",
       "      cluster_91  cluster_92  cluster_93  cluster_94  cluster_95  cluster_96  \\\n",
       "5000           0           0           0           0           0           0   \n",
       "5001           0           0           0           0           0           0   \n",
       "5002           0           0           0           0           0           0   \n",
       "5003           0           0           0           0           0           0   \n",
       "5004           0           0           0           0           0           0   \n",
       "\n",
       "      cluster_97  cluster_98  cluster_99  \n",
       "5000           0           0           0  \n",
       "5001           0           0           0  \n",
       "5002           0           0           0  \n",
       "5003           0           0           0  \n",
       "5004           0           0           0  \n",
       "\n",
       "[5 rows x 100 columns]"
      ]
     },
     "execution_count": 121,
     "metadata": {},
     "output_type": "execute_result"
    }
   ],
   "source": [
    "X_new_ohe.head()"
   ]
  },
  {
   "cell_type": "code",
   "execution_count": 122,
   "metadata": {},
   "outputs": [],
   "source": [
    "X_new_w_ohe = pd.merge(X_new, X_new_ohe, left_index=True, right_index=True)"
   ]
  },
  {
   "cell_type": "code",
   "execution_count": 123,
   "metadata": {},
   "outputs": [],
   "source": [
    "y_hat_new_rf_ohe = rf_ohe.predict(X_new_w_ohe)"
   ]
  },
  {
   "cell_type": "code",
   "execution_count": 124,
   "metadata": {},
   "outputs": [
    {
     "data": {
      "text/plain": [
       "6.3309646740350836"
      ]
     },
     "execution_count": 124,
     "metadata": {},
     "output_type": "execute_result"
    }
   ],
   "source": [
    "mse_new_rf_ohe = np.mean((y_new - y_hat_new_rf_ohe) ** 2)\n",
    "mse_new_rf_ohe"
   ]
  },
  {
   "cell_type": "code",
   "execution_count": null,
   "metadata": {},
   "outputs": [],
   "source": []
  }
 ],
 "metadata": {
  "kernelspec": {
   "display_name": "Python 3",
   "language": "python",
   "name": "python3"
  },
  "language_info": {
   "codemirror_mode": {
    "name": "ipython",
    "version": 3
   },
   "file_extension": ".py",
   "mimetype": "text/x-python",
   "name": "python",
   "nbconvert_exporter": "python",
   "pygments_lexer": "ipython3",
   "version": "3.6.2"
  }
 },
 "nbformat": 4,
 "nbformat_minor": 2
}
