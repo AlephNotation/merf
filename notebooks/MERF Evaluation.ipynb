{
 "cells": [
  {
   "cell_type": "code",
   "execution_count": 420,
   "metadata": {},
   "outputs": [
    {
     "name": "stdout",
     "output_type": "stream",
     "text": [
      "The autoreload extension is already loaded. To reload it, use:\n",
      "  %reload_ext autoreload\n",
      "The line_profiler extension is already loaded. To reload it, use:\n",
      "  %reload_ext line_profiler\n"
     ]
    }
   ],
   "source": [
    "%load_ext autoreload\n",
    "%autoreload 2\n",
    "import os, sys\n",
    "sys.path.append('..')\n",
    "%matplotlib inline\n",
    "import matplotlib.pyplot as plt\n",
    "import seaborn as sns\n",
    "sns.set_context(\"poster\")\n",
    "%load_ext line_profiler\n",
    "import numpy as np\n",
    "import pandas as pd"
   ]
  },
  {
   "cell_type": "code",
   "execution_count": 421,
   "metadata": {},
   "outputs": [],
   "source": [
    "from src.utils import MERFDataGenerator\n",
    "from src.merf import MERF"
   ]
  },
  {
   "cell_type": "markdown",
   "metadata": {},
   "source": [
    "# Test Data Generation"
   ]
  },
  {
   "cell_type": "code",
   "execution_count": 422,
   "metadata": {},
   "outputs": [],
   "source": [
    "dgm = MERFDataGenerator(m=0.6, sigma_b=np.sqrt(4.5), sigma_e=1)"
   ]
  },
  {
   "cell_type": "code",
   "execution_count": 423,
   "metadata": {},
   "outputs": [],
   "source": [
    "num_clusters_each_size = 20\n",
    "train_sizes = [1, 3, 5, 7, 9]\n",
    "known_sizes = [9, 27, 45, 63, 81]\n",
    "new_sizes = [10, 30, 50, 70, 90]"
   ]
  },
  {
   "cell_type": "code",
   "execution_count": 424,
   "metadata": {},
   "outputs": [],
   "source": [
    "# Smaller set that can be used for debugging\n",
    "# num_clusters_each_size = 1\n",
    "# train_sizes = [1, 3]\n",
    "# known_sizes = [9, 27]\n",
    "# new_sizes = [10, 30]"
   ]
  },
  {
   "cell_type": "code",
   "execution_count": 425,
   "metadata": {},
   "outputs": [],
   "source": [
    "train_cluster_sizes = MERFDataGenerator.create_cluster_sizes_array(train_sizes, num_clusters_each_size)\n",
    "known_cluster_sizes = MERFDataGenerator.create_cluster_sizes_array(known_sizes, num_clusters_each_size)\n",
    "new_cluster_sizes = MERFDataGenerator.create_cluster_sizes_array(new_sizes, num_clusters_each_size)"
   ]
  },
  {
   "cell_type": "code",
   "execution_count": 426,
   "metadata": {},
   "outputs": [
    {
     "data": {
      "text/plain": [
       "(100, 100, 100)"
      ]
     },
     "execution_count": 426,
     "metadata": {},
     "output_type": "execute_result"
    }
   ],
   "source": [
    "len(train_cluster_sizes), len(known_cluster_sizes), len(new_cluster_sizes)"
   ]
  },
  {
   "cell_type": "code",
   "execution_count": 427,
   "metadata": {},
   "outputs": [
    {
     "name": "stderr",
     "output_type": "stream",
     "text": [
      "INFO     [utils.py:135] Drew 10000 samples from 200 clusters.\n",
      "INFO     [utils.py:136] PTEV = 89.82047315191298, PREV = 50.999364854065036.\n"
     ]
    }
   ],
   "source": [
    "train, test_known, test_new = dgm.generate_split_samples(train_cluster_sizes, known_cluster_sizes, new_cluster_sizes)"
   ]
  },
  {
   "cell_type": "code",
   "execution_count": 428,
   "metadata": {},
   "outputs": [
    {
     "data": {
      "text/plain": [
       "(500, 4500, 5000)"
      ]
     },
     "execution_count": 428,
     "metadata": {},
     "output_type": "execute_result"
    }
   ],
   "source": [
    "len(train), len(test_known), len(test_new)"
   ]
  },
  {
   "cell_type": "markdown",
   "metadata": {},
   "source": [
    "# MERF Training"
   ]
  },
  {
   "cell_type": "code",
   "execution_count": 429,
   "metadata": {},
   "outputs": [],
   "source": [
    "X_train = train[['X_0', 'X_1', 'X_2']]\n",
    "Z_train = train[['Z']]\n",
    "clusters_train = train['cluster']\n",
    "y_train = train['y']"
   ]
  },
  {
   "cell_type": "code",
   "execution_count": 432,
   "metadata": {},
   "outputs": [],
   "source": [
    "mrf = MERF(n_estimators=300, max_iterations=20)"
   ]
  },
  {
   "cell_type": "code",
   "execution_count": 433,
   "metadata": {},
   "outputs": [
    {
     "name": "stderr",
     "output_type": "stream",
     "text": [
      "INFO     [merf.py:232] GLL is 1181.1239452517798 at iteration 1.\n",
      "INFO     [merf.py:232] GLL is 1001.6756469846553 at iteration 2.\n",
      "INFO     [merf.py:232] GLL is 1006.5550790996975 at iteration 3.\n",
      "INFO     [merf.py:232] GLL is 1005.8153246761132 at iteration 4.\n",
      "INFO     [merf.py:232] GLL is 1002.791270848179 at iteration 5.\n",
      "INFO     [merf.py:232] GLL is 1002.8063033314912 at iteration 6.\n",
      "INFO     [merf.py:232] GLL is 999.237897223378 at iteration 7.\n",
      "INFO     [merf.py:232] GLL is 1003.3144878307684 at iteration 8.\n",
      "INFO     [merf.py:232] GLL is 1007.7499539075136 at iteration 9.\n",
      "INFO     [merf.py:232] GLL is 1006.6744417714357 at iteration 10.\n",
      "INFO     [merf.py:232] GLL is 1002.7640538150268 at iteration 11.\n",
      "INFO     [merf.py:232] GLL is 1011.2853458272002 at iteration 12.\n",
      "INFO     [merf.py:232] GLL is 1010.5334774132854 at iteration 13.\n",
      "INFO     [merf.py:232] GLL is 1003.8369785937568 at iteration 14.\n",
      "INFO     [merf.py:232] GLL is 998.6495270506479 at iteration 15.\n",
      "INFO     [merf.py:232] GLL is 1004.3062587940292 at iteration 16.\n",
      "INFO     [merf.py:232] GLL is 993.4597943674347 at iteration 17.\n",
      "INFO     [merf.py:232] GLL is 1003.4710325105109 at iteration 18.\n",
      "INFO     [merf.py:232] GLL is 997.6378179596616 at iteration 19.\n",
      "INFO     [merf.py:232] GLL is 1006.6451957798922 at iteration 20.\n"
     ]
    },
    {
     "data": {
      "text/plain": [
       "<src.merf.MERF at 0x11b013ef0>"
      ]
     },
     "execution_count": 433,
     "metadata": {},
     "output_type": "execute_result"
    }
   ],
   "source": [
    "mrf.fit(X_train, Z_train, clusters_train, y_train)"
   ]
  },
  {
   "cell_type": "markdown",
   "metadata": {},
   "source": [
    "The GLL is flat! What is happening? Why is this not getting to a good place? "
   ]
  },
  {
   "cell_type": "code",
   "execution_count": 434,
   "metadata": {},
   "outputs": [
    {
     "data": {
      "text/plain": [
       "Text(0.5,0,'Iteration')"
      ]
     },
     "execution_count": 434,
     "metadata": {},
     "output_type": "execute_result"
    },
    {
     "data": {
      "image/png": "[encoded data removed]",
      "text/plain": [
       "<matplotlib.figure.Figure at 0x11aff8c50>"
      ]
     },
     "metadata": {},
     "output_type": "display_data"
    }
   ],
   "source": [
    "import matplotlib as mpl\n",
    "mpl.rcParams['figure.figsize'] = (11,8)\n",
    "plt.plot(mrf.gll_history)\n",
    "plt.grid('on')\n",
    "plt.ylabel('GLL')\n",
    "plt.xlabel('Iteration')"
   ]
  },
  {
   "cell_type": "code",
   "execution_count": 435,
   "metadata": {},
   "outputs": [
    {
     "data": {
      "text/plain": [
       "Text(0.5,0,'Iteration')"
      ]
     },
     "execution_count": 435,
     "metadata": {},
     "output_type": "execute_result"
    },
    {
     "data": {
      "image/png": "[encoded data removed]",
      "text/plain": [
       "<matplotlib.figure.Figure at 0x11affcb38>"
      ]
     },
     "metadata": {},
     "output_type": "display_data"
    }
   ],
   "source": [
    "D_hat_history = [x[0][0] for x in mrf.D_hat_history]\n",
    "plt.plot(D_hat_history)\n",
    "plt.grid('on')\n",
    "plt.ylabel('D_hat')\n",
    "plt.xlabel('Iteration')"
   ]
  },
  {
   "cell_type": "code",
   "execution_count": 436,
   "metadata": {},
   "outputs": [
    {
     "data": {
      "text/plain": [
       "Text(0.5,0,'Iteration')"
      ]
     },
     "execution_count": 436,
     "metadata": {},
     "output_type": "execute_result"
    },
    {
     "data": {
      "image/png": "[encoded data removed]",
      "text/plain": [
       "<matplotlib.figure.Figure at 0x11a649dd8>"
      ]
     },
     "metadata": {},
     "output_type": "display_data"
    }
   ],
   "source": [
    "plt.plot(mrf.sigma2_hat_history)\n",
    "plt.grid('on')\n",
    "plt.ylabel('sigma2_hat')\n",
    "plt.xlabel('Iteration')"
   ]
  },
  {
   "cell_type": "markdown",
   "metadata": {},
   "source": [
    "# MERF Prediction"
   ]
  },
  {
   "cell_type": "code",
   "execution_count": 437,
   "metadata": {},
   "outputs": [],
   "source": [
    "X_known = test_known[['X_0', 'X_1', 'X_2']]\n",
    "Z_known = test_known[['Z']]\n",
    "clusters_known = test_known['cluster']\n",
    "y_known = test_known['y']"
   ]
  },
  {
   "cell_type": "code",
   "execution_count": 438,
   "metadata": {},
   "outputs": [],
   "source": [
    "y_hat_known = mrf.predict(X_known, Z_known, clusters_known)"
   ]
  },
  {
   "cell_type": "code",
   "execution_count": 439,
   "metadata": {},
   "outputs": [],
   "source": [
    "assert len(y_hat_known) == len(y_known)"
   ]
  },
  {
   "cell_type": "code",
   "execution_count": 440,
   "metadata": {},
   "outputs": [],
   "source": [
    "X_new = test_new[['X_0', 'X_1', 'X_2']]\n",
    "Z_new = test_new[['Z']]\n",
    "clusters_new = test_new['cluster']\n",
    "y_new = test_new['y']"
   ]
  },
  {
   "cell_type": "code",
   "execution_count": 441,
   "metadata": {},
   "outputs": [],
   "source": [
    "y_hat_new = mrf.predict(X_new, Z_new, clusters_new)"
   ]
  },
  {
   "cell_type": "code",
   "execution_count": 442,
   "metadata": {},
   "outputs": [],
   "source": [
    "assert len(y_hat_new) == len(y_new)"
   ]
  },
  {
   "cell_type": "markdown",
   "metadata": {},
   "source": [
    "# MERF Accuracy"
   ]
  },
  {
   "cell_type": "code",
   "execution_count": 443,
   "metadata": {},
   "outputs": [],
   "source": [
    "# Train and test using classic random forest. \n",
    "from sklearn.ensemble import RandomForestRegressor\n",
    "import numpy as np"
   ]
  },
  {
   "cell_type": "code",
   "execution_count": 444,
   "metadata": {},
   "outputs": [],
   "source": [
    "rf = RandomForestRegressor(n_estimators=300, n_jobs=-1)"
   ]
  },
  {
   "cell_type": "code",
   "execution_count": 445,
   "metadata": {},
   "outputs": [
    {
     "data": {
      "text/plain": [
       "RandomForestRegressor(bootstrap=True, criterion='mse', max_depth=None,\n",
       "           max_features='auto', max_leaf_nodes=None,\n",
       "           min_impurity_decrease=0.0, min_impurity_split=None,\n",
       "           min_samples_leaf=1, min_samples_split=2,\n",
       "           min_weight_fraction_leaf=0.0, n_estimators=300, n_jobs=-1,\n",
       "           oob_score=False, random_state=None, verbose=0, warm_start=False)"
      ]
     },
     "execution_count": 445,
     "metadata": {},
     "output_type": "execute_result"
    }
   ],
   "source": [
    "rf.fit(X_train, y_train)"
   ]
  },
  {
   "cell_type": "code",
   "execution_count": 446,
   "metadata": {},
   "outputs": [],
   "source": [
    "y_hat_known_rf = rf.predict(X_known)"
   ]
  },
  {
   "cell_type": "code",
   "execution_count": 447,
   "metadata": {},
   "outputs": [
    {
     "data": {
      "text/plain": [
       "7.6415000589660629"
      ]
     },
     "execution_count": 447,
     "metadata": {},
     "output_type": "execute_result"
    }
   ],
   "source": [
    "pmse_known_rf = np.mean((y_known - y_hat_known_rf) ** 2)\n",
    "pmse_known_rf"
   ]
  },
  {
   "cell_type": "code",
   "execution_count": 448,
   "metadata": {},
   "outputs": [],
   "source": [
    "y_hat_known_merf = mrf.predict(X_known, Z_known, clusters_known)"
   ]
  },
  {
   "cell_type": "code",
   "execution_count": 449,
   "metadata": {},
   "outputs": [
    {
     "data": {
      "text/plain": [
       "2.1400812964806182"
      ]
     },
     "execution_count": 449,
     "metadata": {},
     "output_type": "execute_result"
    }
   ],
   "source": [
    "pmse_known_merf = np.mean((y_known - y_hat_known_merf) ** 2)\n",
    "pmse_known_merf"
   ]
  },
  {
   "cell_type": "markdown",
   "metadata": {},
   "source": [
    "This is not expected. The MERF should have BETTER PMSE than the regular RF. What is happening? "
   ]
  },
  {
   "cell_type": "code",
   "execution_count": 450,
   "metadata": {},
   "outputs": [],
   "source": [
    "y_hat_new_rf = rf.predict(X_new)"
   ]
  },
  {
   "cell_type": "code",
   "execution_count": 451,
   "metadata": {},
   "outputs": [
    {
     "data": {
      "text/plain": [
       "8.3044560301660884"
      ]
     },
     "execution_count": 451,
     "metadata": {},
     "output_type": "execute_result"
    }
   ],
   "source": [
    "pmse_new_rf = np.mean((y_new - y_hat_new_rf) ** 2)\n",
    "pmse_new_rf"
   ]
  },
  {
   "cell_type": "code",
   "execution_count": 452,
   "metadata": {},
   "outputs": [],
   "source": [
    "y_hat_new_merf = mrf.predict(X_new, Z_new, clusters_new)"
   ]
  },
  {
   "cell_type": "code",
   "execution_count": 453,
   "metadata": {},
   "outputs": [
    {
     "data": {
      "text/plain": [
       "7.8701648662827761"
      ]
     },
     "execution_count": 453,
     "metadata": {},
     "output_type": "execute_result"
    }
   ],
   "source": [
    "pmse_new_merf = np.mean((y_new - y_hat_new_merf) ** 2)\n",
    "pmse_new_merf"
   ]
  },
  {
   "cell_type": "code",
   "execution_count": null,
   "metadata": {},
   "outputs": [],
   "source": []
  },
  {
   "cell_type": "code",
   "execution_count": null,
   "metadata": {},
   "outputs": [],
   "source": []
  }
 ],
 "metadata": {
  "kernelspec": {
   "display_name": "Python 3",
   "language": "python",
   "name": "python3"
  },
  "language_info": {
   "codemirror_mode": {
    "name": "ipython",
    "version": 3
   },
   "file_extension": ".py",
   "mimetype": "text/x-python",
   "name": "python",
   "nbconvert_exporter": "python",
   "pygments_lexer": "ipython3",
   "version": "3.6.2"
  }
 },
 "nbformat": 4,
 "nbformat_minor": 2
}
