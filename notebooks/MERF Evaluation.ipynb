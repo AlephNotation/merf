{
 "cells": [
  {
   "cell_type": "code",
   "execution_count": 1,
   "metadata": {},
   "outputs": [],
   "source": [
    "%load_ext autoreload\n",
    "%autoreload 2\n",
    "import os, sys\n",
    "sys.path.append('..')\n",
    "%matplotlib inline\n",
    "import matplotlib.pyplot as plt\n",
    "import seaborn as sns\n",
    "sns.set_context(\"poster\")\n",
    "%load_ext line_profiler\n",
    "import numpy as np\n",
    "import pandas as pd\n",
    "import matplotlib as mpl\n",
    "mpl.rcParams['figure.figsize'] = (11,8)"
   ]
  },
  {
   "cell_type": "code",
   "execution_count": 2,
   "metadata": {},
   "outputs": [],
   "source": [
    "from src.utils import MERFDataGenerator\n",
    "from src.merf import MERF"
   ]
  },
  {
   "cell_type": "markdown",
   "metadata": {},
   "source": [
    "# Test Data Generation"
   ]
  },
  {
   "cell_type": "code",
   "execution_count": 81,
   "metadata": {},
   "outputs": [],
   "source": [
    "dgm = MERFDataGenerator(m=.6, sigma_b=np.sqrt(4.5), sigma_e=1)"
   ]
  },
  {
   "cell_type": "code",
   "execution_count": 82,
   "metadata": {},
   "outputs": [],
   "source": [
    "num_clusters_each_size = 20\n",
    "train_sizes = [1, 3, 5, 7, 9]\n",
    "known_sizes = [9, 27, 45, 63, 81]\n",
    "new_sizes = [10, 30, 50, 70, 90]"
   ]
  },
  {
   "cell_type": "code",
   "execution_count": 83,
   "metadata": {},
   "outputs": [],
   "source": [
    "# Smaller set that can be used for debugging\n",
    "# num_clusters_each_size = 1\n",
    "# train_sizes = [1, 3]\n",
    "# known_sizes = [9, 27]\n",
    "# new_sizes = [10, 30]"
   ]
  },
  {
   "cell_type": "code",
   "execution_count": 84,
   "metadata": {},
   "outputs": [],
   "source": [
    "train_cluster_sizes = MERFDataGenerator.create_cluster_sizes_array(train_sizes, num_clusters_each_size)\n",
    "known_cluster_sizes = MERFDataGenerator.create_cluster_sizes_array(known_sizes, num_clusters_each_size)\n",
    "new_cluster_sizes = MERFDataGenerator.create_cluster_sizes_array(new_sizes, num_clusters_each_size)"
   ]
  },
  {
   "cell_type": "code",
   "execution_count": 85,
   "metadata": {},
   "outputs": [
    {
     "data": {
      "text/plain": [
       "(100, 100, 100)"
      ]
     },
     "execution_count": 85,
     "metadata": {},
     "output_type": "execute_result"
    }
   ],
   "source": [
    "len(train_cluster_sizes), len(known_cluster_sizes), len(new_cluster_sizes)"
   ]
  },
  {
   "cell_type": "code",
   "execution_count": 86,
   "metadata": {},
   "outputs": [
    {
     "name": "stderr",
     "output_type": "stream",
     "text": [
      "INFO     [utils.py:135] Drew 10000 samples from 200 clusters.\n",
      "INFO     [utils.py:136] PTEV = 90.09531734495208, PREV = 49.4710194283065.\n"
     ]
    }
   ],
   "source": [
    "train, test_known, test_new = dgm.generate_split_samples(train_cluster_sizes, known_cluster_sizes, new_cluster_sizes)"
   ]
  },
  {
   "cell_type": "code",
   "execution_count": 87,
   "metadata": {},
   "outputs": [
    {
     "data": {
      "text/plain": [
       "(500, 4500, 5000)"
      ]
     },
     "execution_count": 87,
     "metadata": {},
     "output_type": "execute_result"
    }
   ],
   "source": [
    "len(train), len(test_known), len(test_new)"
   ]
  },
  {
   "cell_type": "markdown",
   "metadata": {},
   "source": [
    "# MERF Training"
   ]
  },
  {
   "cell_type": "code",
   "execution_count": 88,
   "metadata": {},
   "outputs": [],
   "source": [
    "X_train = train[['X_0', 'X_1', 'X_2']]\n",
    "Z_train = train[['Z']]\n",
    "clusters_train = train['cluster']\n",
    "y_train = train['y']"
   ]
  },
  {
   "cell_type": "code",
   "execution_count": 89,
   "metadata": {},
   "outputs": [],
   "source": [
    "mrf = MERF(n_estimators=300, max_iterations=20)"
   ]
  },
  {
   "cell_type": "code",
   "execution_count": 90,
   "metadata": {},
   "outputs": [
    {
     "name": "stderr",
     "output_type": "stream",
     "text": [
      "INFO     [merf.py:238] GLL is 1272.4589259056793 at iteration 1.\n",
      "INFO     [merf.py:238] GLL is 1103.0199902438394 at iteration 2.\n",
      "INFO     [merf.py:238] GLL is 1068.4721990009266 at iteration 3.\n",
      "INFO     [merf.py:238] GLL is 1088.4540815447017 at iteration 4.\n",
      "INFO     [merf.py:238] GLL is 1074.76924370558 at iteration 5.\n",
      "INFO     [merf.py:238] GLL is 1076.8829749742292 at iteration 6.\n",
      "INFO     [merf.py:238] GLL is 1081.1535415404267 at iteration 7.\n",
      "INFO     [merf.py:238] GLL is 1075.3093915498803 at iteration 8.\n",
      "INFO     [merf.py:238] GLL is 1078.9103185834622 at iteration 9.\n",
      "INFO     [merf.py:238] GLL is 1080.3056071006176 at iteration 10.\n",
      "INFO     [merf.py:238] GLL is 1070.4237304757976 at iteration 11.\n",
      "INFO     [merf.py:238] GLL is 1086.3727991247526 at iteration 12.\n",
      "INFO     [merf.py:238] GLL is 1083.0393944374819 at iteration 13.\n",
      "INFO     [merf.py:238] GLL is 1069.2861579104335 at iteration 14.\n",
      "INFO     [merf.py:238] GLL is 1073.793795798292 at iteration 15.\n",
      "INFO     [merf.py:238] GLL is 1065.346213781711 at iteration 16.\n",
      "INFO     [merf.py:238] GLL is 1071.5622687791774 at iteration 17.\n",
      "INFO     [merf.py:238] GLL is 1062.693598036192 at iteration 18.\n",
      "INFO     [merf.py:238] GLL is 1069.3081723609155 at iteration 19.\n",
      "INFO     [merf.py:238] GLL is 1079.221444838739 at iteration 20.\n"
     ]
    },
    {
     "data": {
      "text/plain": [
       "<src.merf.MERF at 0x11854b0b8>"
      ]
     },
     "execution_count": 90,
     "metadata": {},
     "output_type": "execute_result"
    }
   ],
   "source": [
    "mrf.fit(X_train, Z_train, clusters_train, y_train)"
   ]
  },
  {
   "cell_type": "markdown",
   "metadata": {},
   "source": [
    "The GLL is flat! What is happening? Why is this not getting to a good place? "
   ]
  },
  {
   "cell_type": "code",
   "execution_count": 91,
   "metadata": {},
   "outputs": [
    {
     "data": {
      "text/plain": [
       "Text(0.5,0,'Iteration')"
      ]
     },
     "execution_count": 91,
     "metadata": {},
     "output_type": "execute_result"
    },
    {
     "data": {
      "image/png": "[encoded data removed]",
      "text/plain": [
       "<matplotlib.figure.Figure at 0x1184e5c50>"
      ]
     },
     "metadata": {},
     "output_type": "display_data"
    }
   ],
   "source": [
    "plt.plot(mrf.gll_history)\n",
    "plt.grid('on')\n",
    "plt.ylabel('GLL')\n",
    "plt.xlabel('Iteration')"
   ]
  },
  {
   "cell_type": "code",
   "execution_count": 92,
   "metadata": {},
   "outputs": [
    {
     "data": {
      "text/plain": [
       "Text(0.5,0,'Iteration')"
      ]
     },
     "execution_count": 92,
     "metadata": {},
     "output_type": "execute_result"
    },
    {
     "data": {
      "image/png": "[encoded data removed]",
      "text/plain": [
       "<matplotlib.figure.Figure at 0x11859cb38>"
      ]
     },
     "metadata": {},
     "output_type": "display_data"
    }
   ],
   "source": [
    "D_hat_history = [x[0][0] for x in mrf.D_hat_history]\n",
    "plt.plot(D_hat_history)\n",
    "plt.grid('on')\n",
    "plt.ylabel('D_hat')\n",
    "plt.xlabel('Iteration')"
   ]
  },
  {
   "cell_type": "code",
   "execution_count": 93,
   "metadata": {},
   "outputs": [
    {
     "data": {
      "text/plain": [
       "Text(0.5,0,'Iteration')"
      ]
     },
     "execution_count": 93,
     "metadata": {},
     "output_type": "execute_result"
    },
    {
     "data": {
      "image/png": "[encoded data removed]",
      "text/plain": [
       "<matplotlib.figure.Figure at 0x11850e048>"
      ]
     },
     "metadata": {},
     "output_type": "display_data"
    }
   ],
   "source": [
    "plt.plot(mrf.sigma2_hat_history)\n",
    "plt.grid('on')\n",
    "plt.ylabel('sigma2_hat')\n",
    "plt.xlabel('Iteration')"
   ]
  },
  {
   "cell_type": "code",
   "execution_count": 116,
   "metadata": {},
   "outputs": [
    {
     "data": {
      "text/plain": [
       "array([[<matplotlib.axes._subplots.AxesSubplot object at 0x118bbfeb8>]], dtype=object)"
      ]
     },
     "execution_count": 116,
     "metadata": {},
     "output_type": "execute_result"
    },
    {
     "data": {
      "image/png": "[encoded data removed]",
      "text/plain": [
       "<matplotlib.figure.Figure at 0x118d65908>"
      ]
     },
     "metadata": {},
     "output_type": "display_data"
    }
   ],
   "source": [
    "mrf.trained_b.hist(bins=10)"
   ]
  },
  {
   "cell_type": "markdown",
   "metadata": {},
   "source": [
    "# MERF Prediction"
   ]
  },
  {
   "cell_type": "code",
   "execution_count": 94,
   "metadata": {},
   "outputs": [],
   "source": [
    "X_known = test_known[['X_0', 'X_1', 'X_2']]\n",
    "Z_known = test_known[['Z']]\n",
    "clusters_known = test_known['cluster']\n",
    "y_known = test_known['y']"
   ]
  },
  {
   "cell_type": "code",
   "execution_count": 95,
   "metadata": {},
   "outputs": [],
   "source": [
    "y_hat_known = mrf.predict(X_known, Z_known, clusters_known)"
   ]
  },
  {
   "cell_type": "code",
   "execution_count": 96,
   "metadata": {},
   "outputs": [],
   "source": [
    "assert len(y_hat_known) == len(y_known)"
   ]
  },
  {
   "cell_type": "code",
   "execution_count": 97,
   "metadata": {},
   "outputs": [],
   "source": [
    "X_new = test_new[['X_0', 'X_1', 'X_2']]\n",
    "Z_new = test_new[['Z']]\n",
    "clusters_new = test_new['cluster']\n",
    "y_new = test_new['y']"
   ]
  },
  {
   "cell_type": "code",
   "execution_count": 98,
   "metadata": {},
   "outputs": [],
   "source": [
    "y_hat_new = mrf.predict(X_new, Z_new, clusters_new)"
   ]
  },
  {
   "cell_type": "code",
   "execution_count": 99,
   "metadata": {},
   "outputs": [],
   "source": [
    "assert len(y_hat_new) == len(y_new)"
   ]
  },
  {
   "cell_type": "markdown",
   "metadata": {},
   "source": [
    "# MERF Accuracy"
   ]
  },
  {
   "cell_type": "code",
   "execution_count": 100,
   "metadata": {},
   "outputs": [],
   "source": [
    "# Train and test using classic random forest. \n",
    "from sklearn.ensemble import RandomForestRegressor\n",
    "import numpy as np"
   ]
  },
  {
   "cell_type": "code",
   "execution_count": 101,
   "metadata": {},
   "outputs": [],
   "source": [
    "rf = RandomForestRegressor(n_estimators=300, n_jobs=-1)"
   ]
  },
  {
   "cell_type": "code",
   "execution_count": 102,
   "metadata": {},
   "outputs": [
    {
     "data": {
      "text/plain": [
       "RandomForestRegressor(bootstrap=True, criterion='mse', max_depth=None,\n",
       "           max_features='auto', max_leaf_nodes=None,\n",
       "           min_impurity_decrease=0.0, min_impurity_split=None,\n",
       "           min_samples_leaf=1, min_samples_split=2,\n",
       "           min_weight_fraction_leaf=0.0, n_estimators=300, n_jobs=-1,\n",
       "           oob_score=False, random_state=None, verbose=0, warm_start=False)"
      ]
     },
     "execution_count": 102,
     "metadata": {},
     "output_type": "execute_result"
    }
   ],
   "source": [
    "rf.fit(X_train, y_train)"
   ]
  },
  {
   "cell_type": "code",
   "execution_count": 103,
   "metadata": {},
   "outputs": [],
   "source": [
    "y_hat_known_rf = rf.predict(X_known)"
   ]
  },
  {
   "cell_type": "code",
   "execution_count": 104,
   "metadata": {},
   "outputs": [
    {
     "data": {
      "text/plain": [
       "7.7958415080026109"
      ]
     },
     "execution_count": 104,
     "metadata": {},
     "output_type": "execute_result"
    }
   ],
   "source": [
    "pmse_known_rf = np.mean((y_known - y_hat_known_rf) ** 2)\n",
    "pmse_known_rf"
   ]
  },
  {
   "cell_type": "code",
   "execution_count": 105,
   "metadata": {},
   "outputs": [],
   "source": [
    "y_hat_known_merf = mrf.predict(X_known, Z_known, clusters_known)"
   ]
  },
  {
   "cell_type": "code",
   "execution_count": 106,
   "metadata": {},
   "outputs": [
    {
     "data": {
      "text/plain": [
       "2.1675980192867002"
      ]
     },
     "execution_count": 106,
     "metadata": {},
     "output_type": "execute_result"
    }
   ],
   "source": [
    "pmse_known_merf = np.mean((y_known - y_hat_known_merf) ** 2)\n",
    "pmse_known_merf"
   ]
  },
  {
   "cell_type": "code",
   "execution_count": 107,
   "metadata": {},
   "outputs": [
    {
     "data": {
      "text/plain": [
       "72.195458090552364"
      ]
     },
     "execution_count": 107,
     "metadata": {},
     "output_type": "execute_result"
    }
   ],
   "source": [
    "rd_known = 100 * (pmse_known_rf - pmse_known_merf) / pmse_known_rf\n",
    "rd_known"
   ]
  },
  {
   "cell_type": "markdown",
   "metadata": {},
   "source": [
    "This is not expected. The MERF should have BETTER PMSE than the regular RF. What is happening? "
   ]
  },
  {
   "cell_type": "code",
   "execution_count": 108,
   "metadata": {},
   "outputs": [],
   "source": [
    "y_hat_new_rf = rf.predict(X_new)"
   ]
  },
  {
   "cell_type": "code",
   "execution_count": 109,
   "metadata": {},
   "outputs": [
    {
     "data": {
      "text/plain": [
       "6.7423827260547693"
      ]
     },
     "execution_count": 109,
     "metadata": {},
     "output_type": "execute_result"
    }
   ],
   "source": [
    "pmse_new_rf = np.mean((y_new - y_hat_new_rf) ** 2)\n",
    "pmse_new_rf"
   ]
  },
  {
   "cell_type": "code",
   "execution_count": 110,
   "metadata": {},
   "outputs": [],
   "source": [
    "y_hat_new_merf = mrf.predict(X_new, Z_new, clusters_new)"
   ]
  },
  {
   "cell_type": "code",
   "execution_count": 111,
   "metadata": {},
   "outputs": [
    {
     "data": {
      "text/plain": [
       "6.1473786507178936"
      ]
     },
     "execution_count": 111,
     "metadata": {},
     "output_type": "execute_result"
    }
   ],
   "source": [
    "pmse_new_merf = np.mean((y_new - y_hat_new_merf) ** 2)\n",
    "pmse_new_merf"
   ]
  },
  {
   "cell_type": "code",
   "execution_count": 112,
   "metadata": {},
   "outputs": [
    {
     "data": {
      "text/plain": [
       "8.8248338830957422"
      ]
     },
     "execution_count": 112,
     "metadata": {},
     "output_type": "execute_result"
    }
   ],
   "source": [
    "rd_new = 100 * (pmse_new_rf - pmse_new_merf) / pmse_new_rf\n",
    "rd_new"
   ]
  },
  {
   "cell_type": "code",
   "execution_count": null,
   "metadata": {},
   "outputs": [],
   "source": []
  }
 ],
 "metadata": {
  "kernelspec": {
   "display_name": "Python 3",
   "language": "python",
   "name": "python3"
  },
  "language_info": {
   "codemirror_mode": {
    "name": "ipython",
    "version": 3
   },
   "file_extension": ".py",
   "mimetype": "text/x-python",
   "name": "python",
   "nbconvert_exporter": "python",
   "pygments_lexer": "ipython3",
   "version": "3.6.2"
  }
 },
 "nbformat": 4,
 "nbformat_minor": 2
}
