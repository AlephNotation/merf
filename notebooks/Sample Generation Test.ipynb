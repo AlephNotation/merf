{
 "cells": [
  {
   "cell_type": "code",
   "execution_count": 162,
   "metadata": {},
   "outputs": [
    {
     "name": "stdout",
     "output_type": "stream",
     "text": [
      "The autoreload extension is already loaded. To reload it, use:\n",
      "  %reload_ext autoreload\n",
      "The line_profiler extension is already loaded. To reload it, use:\n",
      "  %reload_ext line_profiler\n"
     ]
    }
   ],
   "source": [
    "%load_ext autoreload\n",
    "%autoreload 2\n",
    "import os, sys\n",
    "sys.path.append('..')\n",
    "%matplotlib inline\n",
    "import matplotlib.pyplot as plt\n",
    "import seaborn as sns\n",
    "sns.set_context(\"poster\")\n",
    "%load_ext line_profiler\n",
    "import numpy as np\n",
    "import pandas as pd"
   ]
  },
  {
   "cell_type": "code",
   "execution_count": 175,
   "metadata": {},
   "outputs": [],
   "source": [
    "from src.utils import MERFDataGenerator\n",
    "from src.merf import MERF"
   ]
  },
  {
   "cell_type": "markdown",
   "metadata": {},
   "source": [
    "# Test Data Generation"
   ]
  },
  {
   "cell_type": "code",
   "execution_count": 90,
   "metadata": {},
   "outputs": [],
   "source": [
    "dgm = MERFDataGenerator(m=0.6, sigma_b=2, sigma_e=1)"
   ]
  },
  {
   "cell_type": "code",
   "execution_count": 180,
   "metadata": {},
   "outputs": [],
   "source": [
    "num_clusters_each_size = 20\n",
    "train_sizes = [1, 3, 5, 7, 9]\n",
    "known_sizes = [9, 27, 45, 63, 81]\n",
    "new_sizes = [10, 30, 50, 70, 90]"
   ]
  },
  {
   "cell_type": "code",
   "execution_count": 181,
   "metadata": {},
   "outputs": [],
   "source": [
    "train_cluster_sizes = MERFDataGenerator.create_cluster_sizes_array(train_sizes, num_clusters_each_size)\n",
    "known_cluster_sizes = MERFDataGenerator.create_cluster_sizes_array(known_sizes, num_clusters_each_size)\n",
    "new_cluster_sizes = MERFDataGenerator.create_cluster_sizes_array(new_sizes, num_clusters_each_size)"
   ]
  },
  {
   "cell_type": "code",
   "execution_count": 184,
   "metadata": {},
   "outputs": [
    {
     "data": {
      "text/plain": [
       "(100, 100, 100)"
      ]
     },
     "execution_count": 184,
     "metadata": {},
     "output_type": "execute_result"
    }
   ],
   "source": [
    "len(train_cluster_sizes), len(known_cluster_sizes), len(new_cluster_sizes)"
   ]
  },
  {
   "cell_type": "code",
   "execution_count": 188,
   "metadata": {},
   "outputs": [
    {
     "name": "stderr",
     "output_type": "stream",
     "text": [
      "INFO     [utils.py:135] Drew 10000 samples from 200 clusters.\n",
      "INFO     [utils.py:136] PTEV = 89.21874376470184, PREV = 48.33628352235827.\n"
     ]
    }
   ],
   "source": [
    "train, test_known, test_new = dgm.generate_split_samples(train_cluster_sizes, known_cluster_sizes, new_cluster_sizes)"
   ]
  },
  {
   "cell_type": "code",
   "execution_count": 204,
   "metadata": {},
   "outputs": [
    {
     "data": {
      "text/plain": [
       "(500, 4500, 5000)"
      ]
     },
     "execution_count": 204,
     "metadata": {},
     "output_type": "execute_result"
    }
   ],
   "source": [
    "len(train), len(test_known), len(test_new)"
   ]
  },
  {
   "cell_type": "markdown",
   "metadata": {},
   "source": [
    "# MERF Training"
   ]
  },
  {
   "cell_type": "code",
   "execution_count": 205,
   "metadata": {},
   "outputs": [],
   "source": [
    "X_train = train[['X_0', 'X_1', 'X_2']]\n",
    "Z_train = train[['Z']]\n",
    "clusters_train = train['cluster']\n",
    "y_train = train['y']"
   ]
  },
  {
   "cell_type": "code",
   "execution_count": 206,
   "metadata": {},
   "outputs": [],
   "source": [
    "mrf = MERF(n_estimators=300, max_iterations=200)"
   ]
  },
  {
   "cell_type": "code",
   "execution_count": 207,
   "metadata": {},
   "outputs": [
    {
     "name": "stderr",
     "output_type": "stream",
     "text": [
      "INFO     [merf.py:228] GLL is 2140.530465702521 at iteration 1.\n",
      "INFO     [merf.py:228] GLL is 2203.7975358508675 at iteration 2.\n",
      "INFO     [merf.py:228] GLL is 2215.042786862288 at iteration 3.\n",
      "INFO     [merf.py:228] GLL is 2190.2326965800958 at iteration 4.\n",
      "INFO     [merf.py:228] GLL is 2232.2986035329727 at iteration 5.\n",
      "INFO     [merf.py:228] GLL is 2207.027167533418 at iteration 6.\n",
      "INFO     [merf.py:228] GLL is 2197.0384709545438 at iteration 7.\n",
      "INFO     [merf.py:228] GLL is 2186.382024118318 at iteration 8.\n",
      "INFO     [merf.py:228] GLL is 2188.03961816068 at iteration 9.\n",
      "INFO     [merf.py:228] GLL is 2209.6752040569404 at iteration 10.\n",
      "INFO     [merf.py:228] GLL is 2148.1067081938963 at iteration 11.\n",
      "INFO     [merf.py:228] GLL is 2203.1877305093058 at iteration 12.\n",
      "INFO     [merf.py:228] GLL is 2205.4370273828777 at iteration 13.\n",
      "INFO     [merf.py:228] GLL is 2194.8726458522324 at iteration 14.\n",
      "INFO     [merf.py:228] GLL is 2180.445309277854 at iteration 15.\n",
      "INFO     [merf.py:228] GLL is 2173.6806067936777 at iteration 16.\n",
      "INFO     [merf.py:228] GLL is 2216.1837073155684 at iteration 17.\n",
      "INFO     [merf.py:228] GLL is 2203.801511042302 at iteration 18.\n",
      "INFO     [merf.py:228] GLL is 2250.5194493923887 at iteration 19.\n",
      "INFO     [merf.py:228] GLL is 2227.8535226777017 at iteration 20.\n",
      "INFO     [merf.py:228] GLL is 2240.32592121531 at iteration 21.\n",
      "INFO     [merf.py:228] GLL is 2224.6299430955864 at iteration 22.\n",
      "INFO     [merf.py:228] GLL is 2221.2302968210506 at iteration 23.\n",
      "INFO     [merf.py:228] GLL is 2223.156831503416 at iteration 24.\n",
      "INFO     [merf.py:228] GLL is 2185.396760445437 at iteration 25.\n",
      "INFO     [merf.py:228] GLL is 2229.50498087645 at iteration 26.\n",
      "INFO     [merf.py:228] GLL is 2213.5370475406958 at iteration 27.\n",
      "INFO     [merf.py:228] GLL is 2232.1452306660303 at iteration 28.\n",
      "INFO     [merf.py:228] GLL is 2221.842292024241 at iteration 29.\n",
      "INFO     [merf.py:228] GLL is 2233.8388394434023 at iteration 30.\n",
      "INFO     [merf.py:228] GLL is 2232.4195989801638 at iteration 31.\n",
      "INFO     [merf.py:228] GLL is 2239.2859332562853 at iteration 32.\n",
      "INFO     [merf.py:228] GLL is 2199.777641397573 at iteration 33.\n",
      "INFO     [merf.py:228] GLL is 2219.336086940966 at iteration 34.\n",
      "INFO     [merf.py:228] GLL is 2225.668770590644 at iteration 35.\n",
      "INFO     [merf.py:228] GLL is 2239.7854012703556 at iteration 36.\n",
      "INFO     [merf.py:228] GLL is 2208.985876469009 at iteration 37.\n",
      "INFO     [merf.py:228] GLL is 2244.403186718824 at iteration 38.\n",
      "INFO     [merf.py:228] GLL is 2233.2698876539416 at iteration 39.\n",
      "INFO     [merf.py:228] GLL is 2222.7590989532896 at iteration 40.\n",
      "INFO     [merf.py:228] GLL is 2193.791714662181 at iteration 41.\n",
      "INFO     [merf.py:228] GLL is 2211.1401462307463 at iteration 42.\n",
      "INFO     [merf.py:228] GLL is 2195.153262638817 at iteration 43.\n",
      "INFO     [merf.py:228] GLL is 2190.3916542847373 at iteration 44.\n",
      "INFO     [merf.py:228] GLL is 2205.34365423692 at iteration 45.\n",
      "INFO     [merf.py:228] GLL is 2199.0053339029027 at iteration 46.\n",
      "INFO     [merf.py:228] GLL is 2200.1107730664576 at iteration 47.\n",
      "INFO     [merf.py:228] GLL is 2197.99546543074 at iteration 48.\n",
      "INFO     [merf.py:228] GLL is 2242.115524619817 at iteration 49.\n",
      "INFO     [merf.py:228] GLL is 2229.987077291609 at iteration 50.\n",
      "INFO     [merf.py:228] GLL is 2197.5528859505416 at iteration 51.\n",
      "INFO     [merf.py:228] GLL is 2203.9357740809373 at iteration 52.\n",
      "INFO     [merf.py:228] GLL is 2223.276567370431 at iteration 53.\n",
      "INFO     [merf.py:228] GLL is 2188.704829735297 at iteration 54.\n",
      "INFO     [merf.py:228] GLL is 2209.399323053768 at iteration 55.\n",
      "INFO     [merf.py:228] GLL is 2206.440951124769 at iteration 56.\n",
      "INFO     [merf.py:228] GLL is 2184.181916631288 at iteration 57.\n",
      "INFO     [merf.py:228] GLL is 2211.872890798396 at iteration 58.\n",
      "INFO     [merf.py:228] GLL is 2202.4983081010187 at iteration 59.\n",
      "INFO     [merf.py:228] GLL is 2201.2922100166547 at iteration 60.\n",
      "INFO     [merf.py:228] GLL is 2194.361260788562 at iteration 61.\n",
      "INFO     [merf.py:228] GLL is 2168.5103407961824 at iteration 62.\n",
      "INFO     [merf.py:228] GLL is 2216.725122339643 at iteration 63.\n",
      "INFO     [merf.py:228] GLL is 2187.1492589609766 at iteration 64.\n",
      "INFO     [merf.py:228] GLL is 2198.8834740563666 at iteration 65.\n",
      "INFO     [merf.py:228] GLL is 2192.4232781975165 at iteration 66.\n",
      "INFO     [merf.py:228] GLL is 2222.409137918165 at iteration 67.\n",
      "INFO     [merf.py:228] GLL is 2206.9357391335343 at iteration 68.\n",
      "INFO     [merf.py:228] GLL is 2233.5421920962267 at iteration 69.\n",
      "INFO     [merf.py:228] GLL is 2239.0599994483064 at iteration 70.\n",
      "INFO     [merf.py:228] GLL is 2236.723000055587 at iteration 71.\n",
      "INFO     [merf.py:228] GLL is 2193.7084378549876 at iteration 72.\n",
      "INFO     [merf.py:228] GLL is 2214.6716702954504 at iteration 73.\n",
      "INFO     [merf.py:228] GLL is 2213.9049775097346 at iteration 74.\n",
      "INFO     [merf.py:228] GLL is 2221.0378599416786 at iteration 75.\n",
      "INFO     [merf.py:228] GLL is 2204.723179178772 at iteration 76.\n",
      "INFO     [merf.py:228] GLL is 2200.8082279188766 at iteration 77.\n",
      "INFO     [merf.py:228] GLL is 2199.9573620968176 at iteration 78.\n",
      "INFO     [merf.py:228] GLL is 2228.41765807536 at iteration 79.\n",
      "INFO     [merf.py:228] GLL is 2224.2130875919265 at iteration 80.\n",
      "INFO     [merf.py:228] GLL is 2202.641348701927 at iteration 81.\n",
      "INFO     [merf.py:228] GLL is 2194.4072599428746 at iteration 82.\n",
      "INFO     [merf.py:228] GLL is 2222.13962983765 at iteration 83.\n",
      "INFO     [merf.py:228] GLL is 2202.807867013523 at iteration 84.\n",
      "INFO     [merf.py:228] GLL is 2245.3456976747407 at iteration 85.\n",
      "INFO     [merf.py:228] GLL is 2165.2993986927686 at iteration 86.\n",
      "INFO     [merf.py:228] GLL is 2213.213802584782 at iteration 87.\n",
      "INFO     [merf.py:228] GLL is 2181.2444980074765 at iteration 88.\n",
      "INFO     [merf.py:228] GLL is 2214.0861637568605 at iteration 89.\n",
      "INFO     [merf.py:228] GLL is 2220.0494543925283 at iteration 90.\n",
      "INFO     [merf.py:228] GLL is 2202.2463427361577 at iteration 91.\n",
      "INFO     [merf.py:228] GLL is 2187.0707026944697 at iteration 92.\n",
      "INFO     [merf.py:228] GLL is 2178.6755820605886 at iteration 93.\n",
      "INFO     [merf.py:228] GLL is 2191.5413469802525 at iteration 94.\n",
      "INFO     [merf.py:228] GLL is 2186.3036369929687 at iteration 95.\n",
      "INFO     [merf.py:228] GLL is 2203.379078041192 at iteration 96.\n",
      "INFO     [merf.py:228] GLL is 2181.585065109389 at iteration 97.\n",
      "INFO     [merf.py:228] GLL is 2211.666178953511 at iteration 98.\n",
      "INFO     [merf.py:228] GLL is 2193.0563202411713 at iteration 99.\n",
      "INFO     [merf.py:228] GLL is 2168.782489750844 at iteration 100.\n",
      "INFO     [merf.py:228] GLL is 2189.7929311730322 at iteration 101.\n",
      "INFO     [merf.py:228] GLL is 2148.211593640781 at iteration 102.\n",
      "INFO     [merf.py:228] GLL is 2183.007528583757 at iteration 103.\n",
      "INFO     [merf.py:228] GLL is 2208.9415578392995 at iteration 104.\n",
      "INFO     [merf.py:228] GLL is 2229.710124803921 at iteration 105.\n",
      "INFO     [merf.py:228] GLL is 2211.0589929826756 at iteration 106.\n",
      "INFO     [merf.py:228] GLL is 2187.46407847046 at iteration 107.\n",
      "INFO     [merf.py:228] GLL is 2168.819831366967 at iteration 108.\n",
      "INFO     [merf.py:228] GLL is 2211.1850597019093 at iteration 109.\n",
      "INFO     [merf.py:228] GLL is 2180.8031969564727 at iteration 110.\n",
      "INFO     [merf.py:228] GLL is 2200.7088233274353 at iteration 111.\n",
      "INFO     [merf.py:228] GLL is 2179.6212249451455 at iteration 112.\n",
      "INFO     [merf.py:228] GLL is 2159.2368474412087 at iteration 113.\n",
      "INFO     [merf.py:228] GLL is 2183.045916649403 at iteration 114.\n",
      "INFO     [merf.py:228] GLL is 2207.409708011279 at iteration 115.\n",
      "INFO     [merf.py:228] GLL is 2193.9348014851976 at iteration 116.\n",
      "INFO     [merf.py:228] GLL is 2164.5003189827444 at iteration 117.\n",
      "INFO     [merf.py:228] GLL is 2229.7981838848355 at iteration 118.\n",
      "INFO     [merf.py:228] GLL is 2238.0105784143825 at iteration 119.\n",
      "INFO     [merf.py:228] GLL is 2221.5755312031843 at iteration 120.\n",
      "INFO     [merf.py:228] GLL is 2232.827914088631 at iteration 121.\n",
      "INFO     [merf.py:228] GLL is 2190.7258321403233 at iteration 122.\n",
      "INFO     [merf.py:228] GLL is 2207.565866808759 at iteration 123.\n",
      "INFO     [merf.py:228] GLL is 2190.337533344794 at iteration 124.\n",
      "INFO     [merf.py:228] GLL is 2181.113172961066 at iteration 125.\n"
     ]
    },
    {
     "name": "stderr",
     "output_type": "stream",
     "text": [
      "INFO     [merf.py:228] GLL is 2186.666040851794 at iteration 126.\n",
      "INFO     [merf.py:228] GLL is 2192.223133346737 at iteration 127.\n",
      "INFO     [merf.py:228] GLL is 2203.9035495340263 at iteration 128.\n",
      "INFO     [merf.py:228] GLL is 2197.5557473394797 at iteration 129.\n",
      "INFO     [merf.py:228] GLL is 2254.2714567166972 at iteration 130.\n",
      "INFO     [merf.py:228] GLL is 2214.3988012530995 at iteration 131.\n",
      "INFO     [merf.py:228] GLL is 2209.140827083886 at iteration 132.\n",
      "INFO     [merf.py:228] GLL is 2204.9482453798432 at iteration 133.\n",
      "INFO     [merf.py:228] GLL is 2179.790480407146 at iteration 134.\n",
      "INFO     [merf.py:228] GLL is 2173.086400197064 at iteration 135.\n",
      "INFO     [merf.py:228] GLL is 2200.1636662582537 at iteration 136.\n",
      "INFO     [merf.py:228] GLL is 2192.4652420514394 at iteration 137.\n",
      "INFO     [merf.py:228] GLL is 2216.5364780527593 at iteration 138.\n",
      "INFO     [merf.py:228] GLL is 2178.3084362713757 at iteration 139.\n",
      "INFO     [merf.py:228] GLL is 2209.883069803349 at iteration 140.\n",
      "INFO     [merf.py:228] GLL is 2206.9240990069056 at iteration 141.\n",
      "INFO     [merf.py:228] GLL is 2198.4160022777332 at iteration 142.\n",
      "INFO     [merf.py:228] GLL is 2213.9285011125053 at iteration 143.\n",
      "INFO     [merf.py:228] GLL is 2212.1894256032906 at iteration 144.\n",
      "INFO     [merf.py:228] GLL is 2187.219654654509 at iteration 145.\n",
      "INFO     [merf.py:228] GLL is 2182.9982737326877 at iteration 146.\n",
      "INFO     [merf.py:228] GLL is 2206.279261517652 at iteration 147.\n",
      "INFO     [merf.py:228] GLL is 2195.285874103854 at iteration 148.\n",
      "INFO     [merf.py:228] GLL is 2183.4967769247833 at iteration 149.\n",
      "INFO     [merf.py:228] GLL is 2182.5439818274795 at iteration 150.\n",
      "INFO     [merf.py:228] GLL is 2182.929799005712 at iteration 151.\n",
      "INFO     [merf.py:228] GLL is 2209.725804997251 at iteration 152.\n",
      "INFO     [merf.py:228] GLL is 2212.9279991392514 at iteration 153.\n",
      "INFO     [merf.py:228] GLL is 2244.4461912796296 at iteration 154.\n",
      "INFO     [merf.py:228] GLL is 2186.849507454562 at iteration 155.\n",
      "INFO     [merf.py:228] GLL is 2225.2144927444833 at iteration 156.\n",
      "INFO     [merf.py:228] GLL is 2214.939462736912 at iteration 157.\n",
      "INFO     [merf.py:228] GLL is 2216.423440245356 at iteration 158.\n",
      "INFO     [merf.py:228] GLL is 2227.6041930724214 at iteration 159.\n",
      "INFO     [merf.py:228] GLL is 2253.2028668198222 at iteration 160.\n",
      "INFO     [merf.py:228] GLL is 2189.0663465504695 at iteration 161.\n",
      "INFO     [merf.py:228] GLL is 2179.5780382958733 at iteration 162.\n",
      "INFO     [merf.py:228] GLL is 2202.850084779588 at iteration 163.\n",
      "INFO     [merf.py:228] GLL is 2227.8565404714413 at iteration 164.\n",
      "INFO     [merf.py:228] GLL is 2201.280059325714 at iteration 165.\n",
      "INFO     [merf.py:228] GLL is 2213.0185589603475 at iteration 166.\n",
      "INFO     [merf.py:228] GLL is 2236.7267914071276 at iteration 167.\n",
      "INFO     [merf.py:228] GLL is 2187.855145295234 at iteration 168.\n",
      "INFO     [merf.py:228] GLL is 2219.224503285462 at iteration 169.\n",
      "INFO     [merf.py:228] GLL is 2224.1609367174638 at iteration 170.\n",
      "INFO     [merf.py:228] GLL is 2216.7827704533724 at iteration 171.\n",
      "INFO     [merf.py:228] GLL is 2205.7030907484054 at iteration 172.\n",
      "INFO     [merf.py:228] GLL is 2173.2561556709315 at iteration 173.\n",
      "INFO     [merf.py:228] GLL is 2188.507357786729 at iteration 174.\n",
      "INFO     [merf.py:228] GLL is 2227.095418119596 at iteration 175.\n",
      "INFO     [merf.py:228] GLL is 2213.845929998887 at iteration 176.\n",
      "INFO     [merf.py:228] GLL is 2252.9064027883746 at iteration 177.\n",
      "INFO     [merf.py:228] GLL is 2231.974351925656 at iteration 178.\n",
      "INFO     [merf.py:228] GLL is 2213.6617734709184 at iteration 179.\n",
      "INFO     [merf.py:228] GLL is 2217.4159561866786 at iteration 180.\n",
      "INFO     [merf.py:228] GLL is 2203.5828143808617 at iteration 181.\n",
      "INFO     [merf.py:228] GLL is 2198.2801364762527 at iteration 182.\n",
      "INFO     [merf.py:228] GLL is 2209.0274089623827 at iteration 183.\n",
      "INFO     [merf.py:228] GLL is 2209.565712006275 at iteration 184.\n",
      "INFO     [merf.py:228] GLL is 2221.817228038736 at iteration 185.\n",
      "INFO     [merf.py:228] GLL is 2180.501076494826 at iteration 186.\n",
      "INFO     [merf.py:228] GLL is 2180.354438911439 at iteration 187.\n",
      "INFO     [merf.py:228] GLL is 2185.1909805166865 at iteration 188.\n",
      "INFO     [merf.py:228] GLL is 2206.361980824748 at iteration 189.\n",
      "INFO     [merf.py:228] GLL is 2183.326037944687 at iteration 190.\n",
      "INFO     [merf.py:228] GLL is 2210.686561297896 at iteration 191.\n",
      "INFO     [merf.py:228] GLL is 2219.7624318427256 at iteration 192.\n",
      "INFO     [merf.py:228] GLL is 2220.2377851934166 at iteration 193.\n",
      "INFO     [merf.py:228] GLL is 2222.250654694284 at iteration 194.\n",
      "INFO     [merf.py:228] GLL is 2207.112871482824 at iteration 195.\n",
      "INFO     [merf.py:228] GLL is 2197.874178244531 at iteration 196.\n",
      "INFO     [merf.py:228] GLL is 2205.3890654125958 at iteration 197.\n",
      "INFO     [merf.py:228] GLL is 2212.428328643094 at iteration 198.\n",
      "INFO     [merf.py:228] GLL is 2184.211133632795 at iteration 199.\n",
      "INFO     [merf.py:228] GLL is 2216.701680977107 at iteration 200.\n"
     ]
    },
    {
     "data": {
      "text/plain": [
       "<src.merf.MERF at 0x116101c50>"
      ]
     },
     "execution_count": 207,
     "metadata": {},
     "output_type": "execute_result"
    }
   ],
   "source": [
    "mrf.fit(X_train, Z_train, clusters_train, y_train)"
   ]
  },
  {
   "cell_type": "code",
   "execution_count": 208,
   "metadata": {},
   "outputs": [
    {
     "data": {
      "text/plain": [
       "[<matplotlib.lines.Line2D at 0x114ef7080>]"
      ]
     },
     "execution_count": 208,
     "metadata": {},
     "output_type": "execute_result"
    },
    {
     "data": {
      "image/png": "[encoded data removed]",
      "text/plain": [
       "<matplotlib.figure.Figure at 0x117207160>"
      ]
     },
     "metadata": {},
     "output_type": "display_data"
    }
   ],
   "source": [
    "plt.plot(mrf.gll_history)"
   ]
  },
  {
   "cell_type": "markdown",
   "metadata": {},
   "source": [
    "# MERF Prediction"
   ]
  },
  {
   "cell_type": "code",
   "execution_count": 211,
   "metadata": {},
   "outputs": [],
   "source": [
    "X_known = test_known[['X_0', 'X_1', 'X_2']]\n",
    "Z_known = test_known[['Z']]\n",
    "clusters_known = test_known['cluster']\n",
    "y_known = test_known['y']"
   ]
  },
  {
   "cell_type": "code",
   "execution_count": 212,
   "metadata": {},
   "outputs": [],
   "source": [
    "y_hat_known = mrf.predict(X_known, Z_known, clusters_known)"
   ]
  },
  {
   "cell_type": "code",
   "execution_count": 213,
   "metadata": {},
   "outputs": [],
   "source": [
    "assert len(y_hat_known) == len(y_known)"
   ]
  },
  {
   "cell_type": "code",
   "execution_count": 214,
   "metadata": {},
   "outputs": [],
   "source": [
    "X_new = test_new[['X_0', 'X_1', 'X_2']]\n",
    "Z_new = test_new[['Z']]\n",
    "clusters_new = test_new['cluster']\n",
    "y_new = test_new['y']"
   ]
  },
  {
   "cell_type": "code",
   "execution_count": 215,
   "metadata": {},
   "outputs": [],
   "source": [
    "y_hat_new = mrf.predict(X_new, Z_new, clusters_new)"
   ]
  },
  {
   "cell_type": "code",
   "execution_count": 216,
   "metadata": {},
   "outputs": [],
   "source": [
    "assert len(y_hat_new) == len(y_new)"
   ]
  },
  {
   "cell_type": "markdown",
   "metadata": {},
   "source": [
    "# MERF Accuracy"
   ]
  },
  {
   "cell_type": "code",
   "execution_count": 219,
   "metadata": {},
   "outputs": [],
   "source": [
    "# Train and test using classic random forest. \n",
    "from sklearn.ensemble import RandomForestRegressor\n",
    "import numpy as np"
   ]
  },
  {
   "cell_type": "code",
   "execution_count": 220,
   "metadata": {},
   "outputs": [],
   "source": [
    "rf = RandomForestRegressor(n_estimators=300, n_jobs=-1)"
   ]
  },
  {
   "cell_type": "code",
   "execution_count": 221,
   "metadata": {},
   "outputs": [
    {
     "data": {
      "text/plain": [
       "RandomForestRegressor(bootstrap=True, criterion='mse', max_depth=None,\n",
       "           max_features='auto', max_leaf_nodes=None,\n",
       "           min_impurity_decrease=0.0, min_impurity_split=None,\n",
       "           min_samples_leaf=1, min_samples_split=2,\n",
       "           min_weight_fraction_leaf=0.0, n_estimators=300, n_jobs=-1,\n",
       "           oob_score=False, random_state=None, verbose=0, warm_start=False)"
      ]
     },
     "execution_count": 221,
     "metadata": {},
     "output_type": "execute_result"
    }
   ],
   "source": [
    "rf.fit(X_train, y_train)"
   ]
  },
  {
   "cell_type": "code",
   "execution_count": 222,
   "metadata": {},
   "outputs": [],
   "source": [
    "y_hat_known_rf = rf.predict(X_known)"
   ]
  },
  {
   "cell_type": "code",
   "execution_count": 223,
   "metadata": {},
   "outputs": [
    {
     "data": {
      "text/plain": [
       "5.8458442169264098"
      ]
     },
     "execution_count": 223,
     "metadata": {},
     "output_type": "execute_result"
    }
   ],
   "source": [
    "pmse_rf = np.mean((y_known - y_hat_known_rf) ** 2)\n",
    "pmse_rf"
   ]
  },
  {
   "cell_type": "code",
   "execution_count": 224,
   "metadata": {},
   "outputs": [],
   "source": [
    "y_hat_known_merf = mrf.predict(X_known, Z_known, clusters_known)"
   ]
  },
  {
   "cell_type": "code",
   "execution_count": 225,
   "metadata": {},
   "outputs": [
    {
     "data": {
      "text/plain": [
       "7.7212145567447035"
      ]
     },
     "execution_count": 225,
     "metadata": {},
     "output_type": "execute_result"
    }
   ],
   "source": [
    "pmse_merf = np.mean((y_known - y_hat_known_merf) ** 2)\n",
    "pmse_merf"
   ]
  },
  {
   "cell_type": "code",
   "execution_count": null,
   "metadata": {},
   "outputs": [],
   "source": []
  }
 ],
 "metadata": {
  "kernelspec": {
   "display_name": "Python 3",
   "language": "python",
   "name": "python3"
  },
  "language_info": {
   "codemirror_mode": {
    "name": "ipython",
    "version": 3
   },
   "file_extension": ".py",
   "mimetype": "text/x-python",
   "name": "python",
   "nbconvert_exporter": "python",
   "pygments_lexer": "ipython3",
   "version": "3.6.2"
  }
 },
 "nbformat": 4,
 "nbformat_minor": 2
}
