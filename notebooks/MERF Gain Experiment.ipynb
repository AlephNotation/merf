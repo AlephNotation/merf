{
 "cells": [
  {
   "cell_type": "code",
   "execution_count": 70,
   "metadata": {},
   "outputs": [
    {
     "name": "stdout",
     "output_type": "stream",
     "text": [
      "The autoreload extension is already loaded. To reload it, use:\n",
      "  %reload_ext autoreload\n"
     ]
    }
   ],
   "source": [
    "%load_ext autoreload\n",
    "%autoreload 2\n",
    "import os, sys\n",
    "sys.path.append('..')\n",
    "%matplotlib inline\n",
    "import matplotlib.pyplot as plt\n",
    "import seaborn as sns\n",
    "sns.set_context(\"poster\")\n",
    "import numpy as np\n",
    "from sklearn.ensemble import RandomForestRegressor\n",
    "import pandas as pd\n",
    "import matplotlib as mpl\n",
    "mpl.rcParams['figure.figsize'] = (11,8)\n",
    "from merf.utils import MERFDataGenerator\n",
    "from merf.merf import MERF"
   ]
  },
  {
   "cell_type": "markdown",
   "metadata": {},
   "source": [
    "# Experimental Setup\n",
    "\n",
    "There are some global parameters for all the experiments. Each experiment is run N_per_experiment times. The experiment itself is parametrized by three parameters of the generative model. We collect up the results of the experiments in a big list of dictinaries. This is then used to compute certain summary statistics after all the experiments are over."
   ]
  },
  {
   "cell_type": "code",
   "execution_count": 82,
   "metadata": {},
   "outputs": [],
   "source": [
    "# Globals\n",
    "num_clusters_each_size = 20\n",
    "train_sizes = [1, 3, 5, 7, 9]\n",
    "known_sizes = [9, 27, 45, 63, 81]\n",
    "new_sizes = [10, 30, 50, 70, 90]\n",
    "n_estimators = 300\n",
    "max_iterations = 20\n",
    "train_cluster_sizes = MERFDataGenerator.create_cluster_sizes_array(train_sizes, num_clusters_each_size)\n",
    "known_cluster_sizes = MERFDataGenerator.create_cluster_sizes_array(known_sizes, num_clusters_each_size)\n",
    "new_cluster_sizes = MERFDataGenerator.create_cluster_sizes_array(new_sizes, num_clusters_each_size)"
   ]
  },
  {
   "cell_type": "code",
   "execution_count": 83,
   "metadata": {},
   "outputs": [],
   "source": [
    "# Number of times to run each experiemnts \n",
    "N_per_experiment = 10"
   ]
  },
  {
   "cell_type": "code",
   "execution_count": 84,
   "metadata": {},
   "outputs": [],
   "source": [
    "# Defining the experiments to run\n",
    "experiments = [{'id': 0, 'm': .8, 'sigma_b_sq': 0.9, 'sigma_e': 1},\n",
    "               {'id': 1, 'm': .7, 'sigma_b_sq': 2.7, 'sigma_e': 1},\n",
    "               {'id': 2, 'm': .6, 'sigma_b_sq': 4.5, 'sigma_e': 1},\n",
    "               {'id': 3, 'm': .3, 'sigma_b_sq': 0.2, 'sigma_e': 1},\n",
    "               {'id': 4, 'm': .3, 'sigma_b_sq': 0.5, 'sigma_e': 1},\n",
    "               {'id': 5, 'm': .2, 'sigma_b_sq': 0.8, 'sigma_e': 1}]"
   ]
  },
  {
   "cell_type": "markdown",
   "metadata": {},
   "source": [
    "# Run Experiments"
   ]
  },
  {
   "cell_type": "code",
   "execution_count": 85,
   "metadata": {},
   "outputs": [
    {
     "name": "stderr",
     "output_type": "stream",
     "text": [
      "INFO     [utils.py:164] Drew 10000 samples from 200 clusters.\n",
      "INFO     [utils.py:165] PTEV = 90.27098943243548, PREV = 9.69980451733243.\n"
     ]
    },
    {
     "name": "stdout",
     "output_type": "stream",
     "text": [
      "Experiment iteration: 0\n",
      "---------------------MERF----------------------\n"
     ]
    },
    {
     "name": "stderr",
     "output_type": "stream",
     "text": [
      "INFO     [merf.py:235] GLL is 952.9395204510134 at iteration 1.\n",
      "INFO     [merf.py:235] GLL is 915.3469052713147 at iteration 2.\n",
      "INFO     [merf.py:235] GLL is 914.9601989823752 at iteration 3.\n",
      "INFO     [merf.py:235] GLL is 911.7658909065897 at iteration 4.\n",
      "INFO     [merf.py:235] GLL is 917.903395566948 at iteration 5.\n",
      "INFO     [merf.py:235] GLL is 917.2753778606174 at iteration 6.\n",
      "INFO     [merf.py:235] GLL is 913.0795994858006 at iteration 7.\n",
      "INFO     [merf.py:235] GLL is 915.3712566406717 at iteration 8.\n",
      "INFO     [merf.py:235] GLL is 926.8136354482265 at iteration 9.\n",
      "INFO     [merf.py:235] GLL is 915.0300952588981 at iteration 10.\n",
      "INFO     [merf.py:235] GLL is 910.2390676378507 at iteration 11.\n",
      "INFO     [merf.py:235] GLL is 908.4455416486508 at iteration 12.\n",
      "INFO     [merf.py:235] GLL is 912.3068560864838 at iteration 13.\n",
      "INFO     [merf.py:235] GLL is 920.1124830602155 at iteration 14.\n",
      "INFO     [merf.py:235] GLL is 917.2474943683274 at iteration 15.\n",
      "INFO     [merf.py:235] GLL is 907.1165232641266 at iteration 16.\n",
      "INFO     [merf.py:235] GLL is 918.6315908963137 at iteration 17.\n",
      "INFO     [merf.py:235] GLL is 914.1301309715209 at iteration 18.\n",
      "INFO     [merf.py:235] GLL is 913.1965948364106 at iteration 19.\n",
      "INFO     [merf.py:235] GLL is 909.4585877948205 at iteration 20.\n"
     ]
    },
    {
     "name": "stdout",
     "output_type": "stream",
     "text": [
      "---------------------Random Forest Fixed Effect Only----------------------\n",
      "---------------------Random Forest w OHE Cluster----------------------\n"
     ]
    },
    {
     "name": "stderr",
     "output_type": "stream",
     "text": [
      "/Users/souravdey/.virtualenvs/merf/lib/python3.6/site-packages/pandas/core/internals.py:490: RuntimeWarning: None of the categories were found in values. Did you mean to use\n",
      "'Categorical.from_codes(codes, categories)'?\n",
      "  return self.make_block(Categorical(self.values, **kwargs))\n",
      "INFO     [utils.py:164] Drew 10000 samples from 200 clusters.\n",
      "INFO     [utils.py:165] PTEV = 89.5974778548728, PREV = 10.449256111627585.\n"
     ]
    },
    {
     "name": "stdout",
     "output_type": "stream",
     "text": [
      "Experiment iteration: 1\n",
      "---------------------MERF----------------------\n"
     ]
    },
    {
     "name": "stderr",
     "output_type": "stream",
     "text": [
      "INFO     [merf.py:235] GLL is 911.3113278930842 at iteration 1.\n",
      "INFO     [merf.py:235] GLL is 857.4863788703323 at iteration 2.\n",
      "INFO     [merf.py:235] GLL is 869.5061033850717 at iteration 3.\n",
      "INFO     [merf.py:235] GLL is 870.5371860671029 at iteration 4.\n",
      "INFO     [merf.py:235] GLL is 865.0313214590598 at iteration 5.\n",
      "INFO     [merf.py:235] GLL is 863.6769393402591 at iteration 6.\n",
      "INFO     [merf.py:235] GLL is 869.8281081051958 at iteration 7.\n",
      "INFO     [merf.py:235] GLL is 855.1218347750143 at iteration 8.\n",
      "INFO     [merf.py:235] GLL is 868.7247839771804 at iteration 9.\n",
      "INFO     [merf.py:235] GLL is 868.0360615391459 at iteration 10.\n",
      "INFO     [merf.py:235] GLL is 866.2536179306137 at iteration 11.\n",
      "INFO     [merf.py:235] GLL is 867.775982791985 at iteration 12.\n",
      "INFO     [merf.py:235] GLL is 870.7008233909239 at iteration 13.\n",
      "INFO     [merf.py:235] GLL is 864.291714803932 at iteration 14.\n",
      "INFO     [merf.py:235] GLL is 872.9390139986018 at iteration 15.\n",
      "INFO     [merf.py:235] GLL is 872.360031246125 at iteration 16.\n",
      "INFO     [merf.py:235] GLL is 870.2216300361405 at iteration 17.\n",
      "INFO     [merf.py:235] GLL is 872.5094174381421 at iteration 18.\n",
      "INFO     [merf.py:235] GLL is 870.2366873237637 at iteration 19.\n",
      "INFO     [merf.py:235] GLL is 875.2985811306306 at iteration 20.\n"
     ]
    },
    {
     "name": "stdout",
     "output_type": "stream",
     "text": [
      "---------------------Random Forest Fixed Effect Only----------------------\n",
      "---------------------Random Forest w OHE Cluster----------------------\n"
     ]
    },
    {
     "name": "stderr",
     "output_type": "stream",
     "text": [
      "/Users/souravdey/.virtualenvs/merf/lib/python3.6/site-packages/pandas/core/internals.py:490: RuntimeWarning: None of the categories were found in values. Did you mean to use\n",
      "'Categorical.from_codes(codes, categories)'?\n",
      "  return self.make_block(Categorical(self.values, **kwargs))\n",
      "INFO     [utils.py:164] Drew 10000 samples from 200 clusters.\n",
      "INFO     [utils.py:165] PTEV = 89.72087741453029, PREV = 10.311101043049442.\n"
     ]
    },
    {
     "name": "stdout",
     "output_type": "stream",
     "text": [
      "Experiment iteration: 2\n",
      "---------------------MERF----------------------\n"
     ]
    },
    {
     "name": "stderr",
     "output_type": "stream",
     "text": [
      "INFO     [merf.py:235] GLL is 1003.9698071282397 at iteration 1.\n",
      "INFO     [merf.py:235] GLL is 965.443393559008 at iteration 2.\n",
      "INFO     [merf.py:235] GLL is 981.369470650445 at iteration 3.\n",
      "INFO     [merf.py:235] GLL is 971.5847699897506 at iteration 4.\n",
      "INFO     [merf.py:235] GLL is 974.0706264769286 at iteration 5.\n",
      "INFO     [merf.py:235] GLL is 974.7076693546201 at iteration 6.\n",
      "INFO     [merf.py:235] GLL is 970.4385059722712 at iteration 7.\n",
      "INFO     [merf.py:235] GLL is 975.4391544730198 at iteration 8.\n",
      "INFO     [merf.py:235] GLL is 969.1803870677546 at iteration 9.\n",
      "INFO     [merf.py:235] GLL is 974.6287983322574 at iteration 10.\n",
      "INFO     [merf.py:235] GLL is 975.5236652764055 at iteration 11.\n",
      "INFO     [merf.py:235] GLL is 982.156990228412 at iteration 12.\n",
      "INFO     [merf.py:235] GLL is 976.199226443899 at iteration 13.\n",
      "INFO     [merf.py:235] GLL is 982.2459609691224 at iteration 14.\n",
      "INFO     [merf.py:235] GLL is 974.446316499691 at iteration 15.\n",
      "INFO     [merf.py:235] GLL is 953.6885303589003 at iteration 16.\n",
      "INFO     [merf.py:235] GLL is 964.5418084515318 at iteration 17.\n",
      "INFO     [merf.py:235] GLL is 968.6860358096554 at iteration 18.\n",
      "INFO     [merf.py:235] GLL is 966.8740807947878 at iteration 19.\n",
      "INFO     [merf.py:235] GLL is 965.4142946035105 at iteration 20.\n"
     ]
    },
    {
     "name": "stdout",
     "output_type": "stream",
     "text": [
      "---------------------Random Forest Fixed Effect Only----------------------\n",
      "---------------------Random Forest w OHE Cluster----------------------\n"
     ]
    },
    {
     "name": "stderr",
     "output_type": "stream",
     "text": [
      "/Users/souravdey/.virtualenvs/merf/lib/python3.6/site-packages/pandas/core/internals.py:490: RuntimeWarning: None of the categories were found in values. Did you mean to use\n",
      "'Categorical.from_codes(codes, categories)'?\n",
      "  return self.make_block(Categorical(self.values, **kwargs))\n",
      "INFO     [utils.py:164] Drew 10000 samples from 200 clusters.\n",
      "INFO     [utils.py:165] PTEV = 89.68694470304929, PREV = 10.34905336332642.\n"
     ]
    },
    {
     "name": "stdout",
     "output_type": "stream",
     "text": [
      "Experiment iteration: 3\n",
      "---------------------MERF----------------------\n"
     ]
    },
    {
     "name": "stderr",
     "output_type": "stream",
     "text": [
      "INFO     [merf.py:235] GLL is 1045.5285277077296 at iteration 1.\n",
      "INFO     [merf.py:235] GLL is 978.3650590872732 at iteration 2.\n",
      "INFO     [merf.py:235] GLL is 998.7480385358058 at iteration 3.\n",
      "INFO     [merf.py:235] GLL is 993.7318094570429 at iteration 4.\n",
      "INFO     [merf.py:235] GLL is 985.8526474706035 at iteration 5.\n",
      "INFO     [merf.py:235] GLL is 1003.0944483529869 at iteration 6.\n",
      "INFO     [merf.py:235] GLL is 986.9076824400959 at iteration 7.\n",
      "INFO     [merf.py:235] GLL is 986.6579237384201 at iteration 8.\n",
      "INFO     [merf.py:235] GLL is 986.4351885695721 at iteration 9.\n",
      "INFO     [merf.py:235] GLL is 980.9026612142295 at iteration 10.\n",
      "INFO     [merf.py:235] GLL is 1003.0252639435404 at iteration 11.\n",
      "INFO     [merf.py:235] GLL is 997.7783604259864 at iteration 12.\n",
      "INFO     [merf.py:235] GLL is 988.1082259937127 at iteration 13.\n",
      "INFO     [merf.py:235] GLL is 993.5070367264509 at iteration 14.\n",
      "INFO     [merf.py:235] GLL is 993.0189860410688 at iteration 15.\n",
      "INFO     [merf.py:235] GLL is 998.8134943127296 at iteration 16.\n",
      "INFO     [merf.py:235] GLL is 989.4591768767465 at iteration 17.\n",
      "INFO     [merf.py:235] GLL is 981.9513493821933 at iteration 18.\n",
      "INFO     [merf.py:235] GLL is 984.9522044926808 at iteration 19.\n",
      "INFO     [merf.py:235] GLL is 1009.3049301232916 at iteration 20.\n"
     ]
    },
    {
     "name": "stdout",
     "output_type": "stream",
     "text": [
      "---------------------Random Forest Fixed Effect Only----------------------\n",
      "---------------------Random Forest w OHE Cluster----------------------\n"
     ]
    },
    {
     "name": "stderr",
     "output_type": "stream",
     "text": [
      "/Users/souravdey/.virtualenvs/merf/lib/python3.6/site-packages/pandas/core/internals.py:490: RuntimeWarning: None of the categories were found in values. Did you mean to use\n",
      "'Categorical.from_codes(codes, categories)'?\n",
      "  return self.make_block(Categorical(self.values, **kwargs))\n",
      "INFO     [utils.py:164] Drew 10000 samples from 200 clusters.\n",
      "INFO     [utils.py:165] PTEV = 89.93246451016742, PREV = 10.07509578459839.\n"
     ]
    },
    {
     "name": "stdout",
     "output_type": "stream",
     "text": [
      "Experiment iteration: 4\n",
      "---------------------MERF----------------------"
     ]
    },
    {
     "name": "stderr",
     "output_type": "stream",
     "text": [
      "INFO     [merf.py:235] GLL is 1107.8916572094565 at iteration 1.\n",
      "INFO     [merf.py:235] GLL is 1071.2063778107745 at iteration 2.\n",
      "INFO     [merf.py:235] GLL is 1065.1695016925248 at iteration 3.\n",
      "INFO     [merf.py:235] GLL is 1059.0093308843225 at iteration 4.\n",
      "INFO     [merf.py:235] GLL is 1077.5976501570037 at iteration 5.\n",
      "INFO     [merf.py:235] GLL is 1069.7462647535485 at iteration 6.\n",
      "INFO     [merf.py:235] GLL is 1061.3094972324568 at iteration 7.\n",
      "INFO     [merf.py:235] GLL is 1052.501003732775 at iteration 8.\n",
      "INFO     [merf.py:235] GLL is 1063.2585176340835 at iteration 9.\n",
      "INFO     [merf.py:235] GLL is 1067.121786763562 at iteration 10.\n",
      "INFO     [merf.py:235] GLL is 1068.242855944304 at iteration 11.\n",
      "INFO     [merf.py:235] GLL is 1065.1867453404225 at iteration 12.\n",
      "INFO     [merf.py:235] GLL is 1050.8004996808163 at iteration 13.\n",
      "INFO     [merf.py:235] GLL is 1061.2529288066273 at iteration 14.\n",
      "INFO     [merf.py:235] GLL is 1053.426432365872 at iteration 15.\n",
      "INFO     [merf.py:235] GLL is 1064.2493708821917 at iteration 16.\n",
      "INFO     [merf.py:235] GLL is 1063.5442566156485 at iteration 17.\n",
      "INFO     [merf.py:235] GLL is 1070.6245342476645 at iteration 18.\n",
      "INFO     [merf.py:235] GLL is 1062.3694240090877 at iteration 19.\n",
      "INFO     [merf.py:235] GLL is 1063.1126723007562 at iteration 20.\n"
     ]
    },
    {
     "name": "stdout",
     "output_type": "stream",
     "text": [
      "\n",
      "---------------------Random Forest Fixed Effect Only----------------------\n",
      "---------------------Random Forest w OHE Cluster----------------------\n"
     ]
    },
    {
     "name": "stderr",
     "output_type": "stream",
     "text": [
      "/Users/souravdey/.virtualenvs/merf/lib/python3.6/site-packages/pandas/core/internals.py:490: RuntimeWarning: None of the categories were found in values. Did you mean to use\n",
      "'Categorical.from_codes(codes, categories)'?\n",
      "  return self.make_block(Categorical(self.values, **kwargs))\n",
      "INFO     [utils.py:164] Drew 10000 samples from 200 clusters.\n",
      "INFO     [utils.py:165] PTEV = 89.83266520927404, PREV = 10.186273879703037.\n"
     ]
    },
    {
     "name": "stdout",
     "output_type": "stream",
     "text": [
      "Experiment iteration: 5\n",
      "---------------------MERF----------------------"
     ]
    },
    {
     "name": "stderr",
     "output_type": "stream",
     "text": [
      "INFO     [merf.py:235] GLL is 941.3330006786983 at iteration 1.\n",
      "INFO     [merf.py:235] GLL is 903.9524100722432 at iteration 2.\n",
      "INFO     [merf.py:235] GLL is 900.8909778684754 at iteration 3.\n",
      "INFO     [merf.py:235] GLL is 899.2350094190398 at iteration 4.\n",
      "INFO     [merf.py:235] GLL is 895.2263040348527 at iteration 5.\n",
      "INFO     [merf.py:235] GLL is 902.6825843837883 at iteration 6.\n",
      "INFO     [merf.py:235] GLL is 894.3362780852071 at iteration 7.\n",
      "INFO     [merf.py:235] GLL is 898.987187009061 at iteration 8.\n",
      "INFO     [merf.py:235] GLL is 894.2345391552669 at iteration 9.\n",
      "INFO     [merf.py:235] GLL is 889.1905416896294 at iteration 10.\n",
      "INFO     [merf.py:235] GLL is 894.5553868603085 at iteration 11.\n",
      "INFO     [merf.py:235] GLL is 890.4767690954203 at iteration 12.\n",
      "INFO     [merf.py:235] GLL is 894.2542903646184 at iteration 13.\n",
      "INFO     [merf.py:235] GLL is 892.6284322204618 at iteration 14.\n",
      "INFO     [merf.py:235] GLL is 893.5419434124565 at iteration 15.\n",
      "INFO     [merf.py:235] GLL is 891.2169953074913 at iteration 16.\n",
      "INFO     [merf.py:235] GLL is 899.525435500613 at iteration 17.\n",
      "INFO     [merf.py:235] GLL is 895.2483547191882 at iteration 18.\n",
      "INFO     [merf.py:235] GLL is 895.4763437174023 at iteration 19.\n",
      "INFO     [merf.py:235] GLL is 889.7174728053915 at iteration 20.\n"
     ]
    },
    {
     "name": "stdout",
     "output_type": "stream",
     "text": [
      "\n",
      "---------------------Random Forest Fixed Effect Only----------------------\n",
      "---------------------Random Forest w OHE Cluster----------------------\n"
     ]
    },
    {
     "name": "stderr",
     "output_type": "stream",
     "text": [
      "/Users/souravdey/.virtualenvs/merf/lib/python3.6/site-packages/pandas/core/internals.py:490: RuntimeWarning: None of the categories were found in values. Did you mean to use\n",
      "'Categorical.from_codes(codes, categories)'?\n",
      "  return self.make_block(Categorical(self.values, **kwargs))\n",
      "INFO     [utils.py:164] Drew 10000 samples from 200 clusters.\n",
      "INFO     [utils.py:165] PTEV = 89.71537288508922, PREV = 10.317255678439118.\n"
     ]
    },
    {
     "name": "stdout",
     "output_type": "stream",
     "text": [
      "Experiment iteration: 6\n",
      "---------------------MERF----------------------\n"
     ]
    },
    {
     "name": "stderr",
     "output_type": "stream",
     "text": [
      "INFO     [merf.py:235] GLL is 899.2029301213041 at iteration 1.\n",
      "INFO     [merf.py:235] GLL is 850.4954837999163 at iteration 2.\n",
      "INFO     [merf.py:235] GLL is 847.0467816176282 at iteration 3.\n",
      "INFO     [merf.py:235] GLL is 845.7457148203226 at iteration 4.\n",
      "INFO     [merf.py:235] GLL is 840.582628736116 at iteration 5.\n",
      "INFO     [merf.py:235] GLL is 838.0804026028069 at iteration 6.\n",
      "INFO     [merf.py:235] GLL is 849.0321626335684 at iteration 7.\n",
      "INFO     [merf.py:235] GLL is 842.035887129022 at iteration 8.\n",
      "INFO     [merf.py:235] GLL is 829.7512412762771 at iteration 9.\n",
      "INFO     [merf.py:235] GLL is 836.636600432767 at iteration 10.\n",
      "INFO     [merf.py:235] GLL is 851.4105317609997 at iteration 11.\n",
      "INFO     [merf.py:235] GLL is 844.900798944407 at iteration 12.\n",
      "INFO     [merf.py:235] GLL is 846.2367122827709 at iteration 13.\n",
      "INFO     [merf.py:235] GLL is 833.8003889369704 at iteration 14.\n",
      "INFO     [merf.py:235] GLL is 839.1782020825977 at iteration 15.\n",
      "INFO     [merf.py:235] GLL is 846.9501969913937 at iteration 16.\n",
      "INFO     [merf.py:235] GLL is 853.9864113180291 at iteration 17.\n",
      "INFO     [merf.py:235] GLL is 844.3131702871152 at iteration 18.\n",
      "INFO     [merf.py:235] GLL is 842.8879577463564 at iteration 19.\n",
      "INFO     [merf.py:235] GLL is 844.2980739506124 at iteration 20.\n"
     ]
    },
    {
     "name": "stdout",
     "output_type": "stream",
     "text": [
      "---------------------Random Forest Fixed Effect Only----------------------\n",
      "---------------------Random Forest w OHE Cluster----------------------\n"
     ]
    },
    {
     "name": "stderr",
     "output_type": "stream",
     "text": [
      "/Users/souravdey/.virtualenvs/merf/lib/python3.6/site-packages/pandas/core/internals.py:490: RuntimeWarning: None of the categories were found in values. Did you mean to use\n",
      "'Categorical.from_codes(codes, categories)'?\n",
      "  return self.make_block(Categorical(self.values, **kwargs))\n",
      "INFO     [utils.py:164] Drew 10000 samples from 200 clusters.\n",
      "INFO     [utils.py:165] PTEV = 89.89296131227327, PREV = 10.119073491588388.\n"
     ]
    },
    {
     "name": "stdout",
     "output_type": "stream",
     "text": [
      "Experiment iteration: 7\n",
      "---------------------MERF----------------------"
     ]
    },
    {
     "name": "stderr",
     "output_type": "stream",
     "text": [
      "INFO     [merf.py:235] GLL is 919.7239796648369 at iteration 1.\n",
      "INFO     [merf.py:235] GLL is 908.6880208338328 at iteration 2.\n",
      "INFO     [merf.py:235] GLL is 885.4323725322098 at iteration 3.\n",
      "INFO     [merf.py:235] GLL is 890.0815379950619 at iteration 4.\n",
      "INFO     [merf.py:235] GLL is 902.8953014919716 at iteration 5.\n",
      "INFO     [merf.py:235] GLL is 885.3372171122688 at iteration 6.\n",
      "INFO     [merf.py:235] GLL is 892.9624050722135 at iteration 7.\n",
      "INFO     [merf.py:235] GLL is 902.062268396417 at iteration 8.\n",
      "INFO     [merf.py:235] GLL is 883.691970567401 at iteration 9.\n",
      "INFO     [merf.py:235] GLL is 894.585773849177 at iteration 10.\n",
      "INFO     [merf.py:235] GLL is 895.8887496234133 at iteration 11.\n",
      "INFO     [merf.py:235] GLL is 880.3696541583932 at iteration 12.\n",
      "INFO     [merf.py:235] GLL is 890.1301504856762 at iteration 13.\n",
      "INFO     [merf.py:235] GLL is 886.6490539557335 at iteration 14.\n",
      "INFO     [merf.py:235] GLL is 876.4230083806251 at iteration 15.\n",
      "INFO     [merf.py:235] GLL is 885.257390263223 at iteration 16.\n",
      "INFO     [merf.py:235] GLL is 891.0817586006199 at iteration 17.\n",
      "INFO     [merf.py:235] GLL is 880.5049126163578 at iteration 18.\n",
      "INFO     [merf.py:235] GLL is 880.0507898200233 at iteration 19.\n",
      "INFO     [merf.py:235] GLL is 889.4722385300229 at iteration 20.\n"
     ]
    },
    {
     "name": "stdout",
     "output_type": "stream",
     "text": [
      "\n",
      "---------------------Random Forest Fixed Effect Only----------------------\n",
      "---------------------Random Forest w OHE Cluster----------------------\n"
     ]
    },
    {
     "name": "stderr",
     "output_type": "stream",
     "text": [
      "/Users/souravdey/.virtualenvs/merf/lib/python3.6/site-packages/pandas/core/internals.py:490: RuntimeWarning: None of the categories were found in values. Did you mean to use\n",
      "'Categorical.from_codes(codes, categories)'?\n",
      "  return self.make_block(Categorical(self.values, **kwargs))\n",
      "INFO     [utils.py:164] Drew 10000 samples from 200 clusters.\n",
      "INFO     [utils.py:165] PTEV = 89.80940039989389, PREV = 10.212226781670319.\n"
     ]
    },
    {
     "name": "stdout",
     "output_type": "stream",
     "text": [
      "Experiment iteration: 8\n",
      "---------------------MERF----------------------"
     ]
    },
    {
     "name": "stderr",
     "output_type": "stream",
     "text": [
      "INFO     [merf.py:235] GLL is 1049.4818566035672 at iteration 1.\n",
      "INFO     [merf.py:235] GLL is 980.8609330414491 at iteration 2.\n",
      "INFO     [merf.py:235] GLL is 990.8834750587266 at iteration 3.\n",
      "INFO     [merf.py:235] GLL is 998.520158326364 at iteration 4.\n",
      "INFO     [merf.py:235] GLL is 1008.9445369065542 at iteration 5.\n",
      "INFO     [merf.py:235] GLL is 989.7810434593994 at iteration 6.\n",
      "INFO     [merf.py:235] GLL is 1009.6110261503509 at iteration 7.\n",
      "INFO     [merf.py:235] GLL is 998.2837535604835 at iteration 8.\n",
      "INFO     [merf.py:235] GLL is 1005.5118684638268 at iteration 9.\n",
      "INFO     [merf.py:235] GLL is 1004.8992572591713 at iteration 10.\n",
      "INFO     [merf.py:235] GLL is 1002.2535717775227 at iteration 11.\n",
      "INFO     [merf.py:235] GLL is 1003.5531584756743 at iteration 12.\n",
      "INFO     [merf.py:235] GLL is 1008.4377914594442 at iteration 13.\n",
      "INFO     [merf.py:235] GLL is 989.6791016635798 at iteration 14.\n",
      "INFO     [merf.py:235] GLL is 1001.088888644414 at iteration 15.\n",
      "INFO     [merf.py:235] GLL is 1016.2819451355733 at iteration 16.\n",
      "INFO     [merf.py:235] GLL is 980.3994025802085 at iteration 17.\n",
      "INFO     [merf.py:235] GLL is 988.2326363150265 at iteration 18.\n",
      "INFO     [merf.py:235] GLL is 988.944579421606 at iteration 19.\n",
      "INFO     [merf.py:235] GLL is 991.5822251818405 at iteration 20.\n"
     ]
    },
    {
     "name": "stdout",
     "output_type": "stream",
     "text": [
      "\n",
      "---------------------Random Forest Fixed Effect Only----------------------\n",
      "---------------------Random Forest w OHE Cluster----------------------\n"
     ]
    },
    {
     "name": "stderr",
     "output_type": "stream",
     "text": [
      "/Users/souravdey/.virtualenvs/merf/lib/python3.6/site-packages/pandas/core/internals.py:490: RuntimeWarning: None of the categories were found in values. Did you mean to use\n",
      "'Categorical.from_codes(codes, categories)'?\n",
      "  return self.make_block(Categorical(self.values, **kwargs))\n",
      "INFO     [utils.py:164] Drew 10000 samples from 200 clusters.\n",
      "INFO     [utils.py:165] PTEV = 90.24141418980889, PREV = 9.732479602656571.\n"
     ]
    },
    {
     "name": "stdout",
     "output_type": "stream",
     "text": [
      "Experiment iteration: 9\n",
      "---------------------MERF----------------------"
     ]
    },
    {
     "name": "stderr",
     "output_type": "stream",
     "text": [
      "INFO     [merf.py:235] GLL is 973.7663374666306 at iteration 1.\n",
      "INFO     [merf.py:235] GLL is 952.1945555634679 at iteration 2.\n",
      "INFO     [merf.py:235] GLL is 936.1426934532406 at iteration 3.\n",
      "INFO     [merf.py:235] GLL is 940.1674839654628 at iteration 4.\n",
      "INFO     [merf.py:235] GLL is 944.4342156860675 at iteration 5.\n",
      "INFO     [merf.py:235] GLL is 936.7919008962795 at iteration 6.\n",
      "INFO     [merf.py:235] GLL is 935.755873199 at iteration 7.\n",
      "INFO     [merf.py:235] GLL is 936.0844723883406 at iteration 8.\n",
      "INFO     [merf.py:235] GLL is 954.573109414007 at iteration 9.\n",
      "INFO     [merf.py:235] GLL is 943.8389265409578 at iteration 10.\n",
      "INFO     [merf.py:235] GLL is 941.7290401907829 at iteration 11.\n",
      "INFO     [merf.py:235] GLL is 935.4870896899539 at iteration 12.\n",
      "INFO     [merf.py:235] GLL is 941.7292138037767 at iteration 13.\n",
      "INFO     [merf.py:235] GLL is 936.9113200064149 at iteration 14.\n",
      "INFO     [merf.py:235] GLL is 949.3960240257945 at iteration 15.\n",
      "INFO     [merf.py:235] GLL is 941.117824132697 at iteration 16.\n",
      "INFO     [merf.py:235] GLL is 934.1178137115589 at iteration 17.\n",
      "INFO     [merf.py:235] GLL is 930.3858731331064 at iteration 18.\n",
      "INFO     [merf.py:235] GLL is 930.3574023812757 at iteration 19.\n",
      "INFO     [merf.py:235] GLL is 942.966557216423 at iteration 20.\n"
     ]
    },
    {
     "name": "stdout",
     "output_type": "stream",
     "text": [
      "\n",
      "---------------------Random Forest Fixed Effect Only----------------------\n",
      "---------------------Random Forest w OHE Cluster----------------------\n"
     ]
    },
    {
     "name": "stderr",
     "output_type": "stream",
     "text": [
      "/Users/souravdey/.virtualenvs/merf/lib/python3.6/site-packages/pandas/core/internals.py:490: RuntimeWarning: None of the categories were found in values. Did you mean to use\n",
      "'Categorical.from_codes(codes, categories)'?\n",
      "  return self.make_block(Categorical(self.values, **kwargs))\n",
      "INFO     [utils.py:164] Drew 10000 samples from 200 clusters.\n",
      "INFO     [utils.py:165] PTEV = 89.65678634553137, PREV = 31.148425016526605.\n"
     ]
    },
    {
     "name": "stdout",
     "output_type": "stream",
     "text": [
      "Experiment iteration: 0\n",
      "---------------------MERF----------------------\n"
     ]
    },
    {
     "name": "stderr",
     "output_type": "stream",
     "text": [
      "INFO     [merf.py:235] GLL is 1040.1009339331513 at iteration 1.\n",
      "INFO     [merf.py:235] GLL is 938.8107565808608 at iteration 2.\n",
      "INFO     [merf.py:235] GLL is 950.7940515563829 at iteration 3.\n",
      "INFO     [merf.py:235] GLL is 939.9767238207864 at iteration 4.\n",
      "INFO     [merf.py:235] GLL is 944.4486896051673 at iteration 5.\n",
      "INFO     [merf.py:235] GLL is 951.0338345261949 at iteration 6.\n",
      "INFO     [merf.py:235] GLL is 956.57386904686 at iteration 7.\n",
      "INFO     [merf.py:235] GLL is 949.4576850647402 at iteration 8.\n",
      "INFO     [merf.py:235] GLL is 948.1850848572935 at iteration 9.\n",
      "INFO     [merf.py:235] GLL is 952.0056650010197 at iteration 10.\n",
      "INFO     [merf.py:235] GLL is 952.0953121621576 at iteration 11.\n",
      "INFO     [merf.py:235] GLL is 952.7632195785666 at iteration 12.\n",
      "INFO     [merf.py:235] GLL is 950.8966623022447 at iteration 13.\n",
      "INFO     [merf.py:235] GLL is 958.7969761490357 at iteration 14.\n",
      "INFO     [merf.py:235] GLL is 962.7737150437815 at iteration 15.\n",
      "INFO     [merf.py:235] GLL is 958.3690604062791 at iteration 16.\n",
      "INFO     [merf.py:235] GLL is 955.8322920083741 at iteration 17.\n",
      "INFO     [merf.py:235] GLL is 951.2966911784899 at iteration 18.\n",
      "INFO     [merf.py:235] GLL is 965.5886407161246 at iteration 19.\n",
      "INFO     [merf.py:235] GLL is 954.936649735091 at iteration 20.\n"
     ]
    },
    {
     "name": "stdout",
     "output_type": "stream",
     "text": [
      "---------------------Random Forest Fixed Effect Only----------------------\n",
      "---------------------Random Forest w OHE Cluster----------------------\n"
     ]
    },
    {
     "name": "stderr",
     "output_type": "stream",
     "text": [
      "/Users/souravdey/.virtualenvs/merf/lib/python3.6/site-packages/pandas/core/internals.py:490: RuntimeWarning: None of the categories were found in values. Did you mean to use\n",
      "'Categorical.from_codes(codes, categories)'?\n",
      "  return self.make_block(Categorical(self.values, **kwargs))\n",
      "INFO     [utils.py:164] Drew 10000 samples from 200 clusters.\n",
      "INFO     [utils.py:165] PTEV = 89.49877106824401, PREV = 31.68012004781764.\n"
     ]
    },
    {
     "name": "stdout",
     "output_type": "stream",
     "text": [
      "Experiment iteration: 1\n",
      "---------------------MERF----------------------\n"
     ]
    },
    {
     "name": "stderr",
     "output_type": "stream",
     "text": [
      "INFO     [merf.py:235] GLL is 1049.9440967093 at iteration 1.\n",
      "INFO     [merf.py:235] GLL is 925.7303050321442 at iteration 2.\n",
      "INFO     [merf.py:235] GLL is 918.5380847272096 at iteration 3.\n",
      "INFO     [merf.py:235] GLL is 904.0363838292229 at iteration 4.\n",
      "INFO     [merf.py:235] GLL is 897.6343416298878 at iteration 5.\n",
      "INFO     [merf.py:235] GLL is 907.3519472611144 at iteration 6.\n",
      "INFO     [merf.py:235] GLL is 905.5518027718049 at iteration 7.\n",
      "INFO     [merf.py:235] GLL is 910.9890059516869 at iteration 8.\n",
      "INFO     [merf.py:235] GLL is 905.3369668337804 at iteration 9.\n",
      "INFO     [merf.py:235] GLL is 902.5954757112505 at iteration 10.\n",
      "INFO     [merf.py:235] GLL is 900.3404554677172 at iteration 11.\n",
      "INFO     [merf.py:235] GLL is 916.2521583111632 at iteration 12.\n",
      "INFO     [merf.py:235] GLL is 907.2236444167437 at iteration 13.\n",
      "INFO     [merf.py:235] GLL is 909.1884712600628 at iteration 14.\n",
      "INFO     [merf.py:235] GLL is 909.06968653477 at iteration 15.\n",
      "INFO     [merf.py:235] GLL is 912.89329501329 at iteration 16.\n",
      "INFO     [merf.py:235] GLL is 909.6000485921484 at iteration 17.\n",
      "INFO     [merf.py:235] GLL is 909.1160327403372 at iteration 18.\n",
      "INFO     [merf.py:235] GLL is 915.8250949173507 at iteration 19.\n",
      "INFO     [merf.py:235] GLL is 899.4754798778932 at iteration 20.\n"
     ]
    },
    {
     "name": "stdout",
     "output_type": "stream",
     "text": [
      "---------------------Random Forest Fixed Effect Only----------------------\n",
      "---------------------Random Forest w OHE Cluster----------------------\n"
     ]
    },
    {
     "name": "stderr",
     "output_type": "stream",
     "text": [
      "/Users/souravdey/.virtualenvs/merf/lib/python3.6/site-packages/pandas/core/internals.py:490: RuntimeWarning: None of the categories were found in values. Did you mean to use\n",
      "'Categorical.from_codes(codes, categories)'?\n",
      "  return self.make_block(Categorical(self.values, **kwargs))\n",
      "INFO     [utils.py:164] Drew 10000 samples from 200 clusters.\n",
      "INFO     [utils.py:165] PTEV = 89.65106312621478, PREV = 31.167649980772573.\n"
     ]
    },
    {
     "name": "stdout",
     "output_type": "stream",
     "text": [
      "Experiment iteration: 2\n",
      "---------------------MERF----------------------"
     ]
    },
    {
     "name": "stderr",
     "output_type": "stream",
     "text": [
      "INFO     [merf.py:235] GLL is 1056.5153359453159 at iteration 1.\n",
      "INFO     [merf.py:235] GLL is 1010.0095991985281 at iteration 2.\n",
      "INFO     [merf.py:235] GLL is 993.9591688063027 at iteration 3.\n",
      "INFO     [merf.py:235] GLL is 996.0521137123268 at iteration 4.\n",
      "INFO     [merf.py:235] GLL is 993.7707143190776 at iteration 5.\n",
      "INFO     [merf.py:235] GLL is 982.91978740682 at iteration 6.\n",
      "INFO     [merf.py:235] GLL is 991.3482480087096 at iteration 7.\n",
      "INFO     [merf.py:235] GLL is 985.3173515510026 at iteration 8.\n",
      "INFO     [merf.py:235] GLL is 982.2481899197438 at iteration 9.\n",
      "INFO     [merf.py:235] GLL is 1000.5583225717901 at iteration 10.\n",
      "INFO     [merf.py:235] GLL is 1002.1895597785932 at iteration 11.\n",
      "INFO     [merf.py:235] GLL is 991.6929590940291 at iteration 12.\n",
      "INFO     [merf.py:235] GLL is 993.9510286287766 at iteration 13.\n",
      "INFO     [merf.py:235] GLL is 990.9448428215845 at iteration 14.\n",
      "INFO     [merf.py:235] GLL is 993.2604464872888 at iteration 15.\n",
      "INFO     [merf.py:235] GLL is 992.1404801378469 at iteration 16.\n",
      "INFO     [merf.py:235] GLL is 1000.9085841903826 at iteration 17.\n",
      "INFO     [merf.py:235] GLL is 982.6512556102774 at iteration 18.\n",
      "INFO     [merf.py:235] GLL is 1003.3669091920002 at iteration 19.\n",
      "INFO     [merf.py:235] GLL is 999.9787502816747 at iteration 20.\n"
     ]
    },
    {
     "name": "stdout",
     "output_type": "stream",
     "text": [
      "\n",
      "---------------------Random Forest Fixed Effect Only----------------------\n",
      "---------------------Random Forest w OHE Cluster----------------------\n"
     ]
    },
    {
     "name": "stderr",
     "output_type": "stream",
     "text": [
      "/Users/souravdey/.virtualenvs/merf/lib/python3.6/site-packages/pandas/core/internals.py:490: RuntimeWarning: None of the categories were found in values. Did you mean to use\n",
      "'Categorical.from_codes(codes, categories)'?\n",
      "  return self.make_block(Categorical(self.values, **kwargs))\n",
      "INFO     [utils.py:164] Drew 10000 samples from 200 clusters.\n",
      "INFO     [utils.py:165] PTEV = 89.51293726090873, PREV = 31.632376572578337.\n"
     ]
    },
    {
     "name": "stdout",
     "output_type": "stream",
     "text": [
      "Experiment iteration: 3\n",
      "---------------------MERF----------------------\n"
     ]
    },
    {
     "name": "stderr",
     "output_type": "stream",
     "text": [
      "INFO     [merf.py:235] GLL is 1005.7588938582314 at iteration 1.\n",
      "INFO     [merf.py:235] GLL is 877.4877745504751 at iteration 2.\n",
      "INFO     [merf.py:235] GLL is 888.0588198700862 at iteration 3.\n",
      "INFO     [merf.py:235] GLL is 876.8147375576832 at iteration 4.\n",
      "INFO     [merf.py:235] GLL is 878.1787474082845 at iteration 5.\n",
      "INFO     [merf.py:235] GLL is 881.1942129517427 at iteration 6.\n",
      "INFO     [merf.py:235] GLL is 880.0220026241675 at iteration 7.\n",
      "INFO     [merf.py:235] GLL is 881.9249573474316 at iteration 8.\n",
      "INFO     [merf.py:235] GLL is 879.7659763168433 at iteration 9.\n",
      "INFO     [merf.py:235] GLL is 882.2193047748738 at iteration 10.\n",
      "INFO     [merf.py:235] GLL is 884.4405668081123 at iteration 11.\n",
      "INFO     [merf.py:235] GLL is 885.8649501360278 at iteration 12.\n",
      "INFO     [merf.py:235] GLL is 889.1686771075049 at iteration 13.\n",
      "INFO     [merf.py:235] GLL is 882.4889904842943 at iteration 14.\n",
      "INFO     [merf.py:235] GLL is 884.9402451292907 at iteration 15.\n",
      "INFO     [merf.py:235] GLL is 879.8465112673094 at iteration 16.\n",
      "INFO     [merf.py:235] GLL is 888.7947572837413 at iteration 17.\n",
      "INFO     [merf.py:235] GLL is 878.0291127034718 at iteration 18.\n",
      "INFO     [merf.py:235] GLL is 878.5945042415979 at iteration 19.\n",
      "INFO     [merf.py:235] GLL is 889.1770344833965 at iteration 20.\n"
     ]
    },
    {
     "name": "stdout",
     "output_type": "stream",
     "text": [
      "---------------------Random Forest Fixed Effect Only----------------------\n",
      "---------------------Random Forest w OHE Cluster----------------------\n"
     ]
    },
    {
     "name": "stderr",
     "output_type": "stream",
     "text": [
      "/Users/souravdey/.virtualenvs/merf/lib/python3.6/site-packages/pandas/core/internals.py:490: RuntimeWarning: None of the categories were found in values. Did you mean to use\n",
      "'Categorical.from_codes(codes, categories)'?\n",
      "  return self.make_block(Categorical(self.values, **kwargs))\n",
      "INFO     [utils.py:164] Drew 10000 samples from 200 clusters.\n",
      "INFO     [utils.py:165] PTEV = 89.84793892826025, PREV = 30.507728079976854.\n"
     ]
    },
    {
     "name": "stdout",
     "output_type": "stream",
     "text": [
      "Experiment iteration: 4\n",
      "---------------------MERF----------------------\n"
     ]
    },
    {
     "name": "stderr",
     "output_type": "stream",
     "text": [
      "INFO     [merf.py:235] GLL is 911.3606188192448 at iteration 1.\n",
      "INFO     [merf.py:235] GLL is 811.4201062871101 at iteration 2.\n",
      "INFO     [merf.py:235] GLL is 808.9478240293107 at iteration 3.\n",
      "INFO     [merf.py:235] GLL is 812.1101342069261 at iteration 4.\n",
      "INFO     [merf.py:235] GLL is 812.1138025058925 at iteration 5.\n",
      "INFO     [merf.py:235] GLL is 812.7541354172727 at iteration 6.\n",
      "INFO     [merf.py:235] GLL is 815.9872888177908 at iteration 7.\n",
      "INFO     [merf.py:235] GLL is 806.9060768712678 at iteration 8.\n",
      "INFO     [merf.py:235] GLL is 813.4712815682403 at iteration 9.\n",
      "INFO     [merf.py:235] GLL is 807.7904741119786 at iteration 10.\n",
      "INFO     [merf.py:235] GLL is 805.3146602248377 at iteration 11.\n",
      "INFO     [merf.py:235] GLL is 814.66249596976 at iteration 12.\n",
      "INFO     [merf.py:235] GLL is 810.2952264224286 at iteration 13.\n",
      "INFO     [merf.py:235] GLL is 807.6808383075813 at iteration 14.\n",
      "INFO     [merf.py:235] GLL is 813.0692162432197 at iteration 15.\n",
      "INFO     [merf.py:235] GLL is 820.5504109213281 at iteration 16.\n",
      "INFO     [merf.py:235] GLL is 816.8050972724585 at iteration 17.\n",
      "INFO     [merf.py:235] GLL is 813.2040559885794 at iteration 18.\n",
      "INFO     [merf.py:235] GLL is 811.1360281658145 at iteration 19.\n",
      "INFO     [merf.py:235] GLL is 808.5953961726258 at iteration 20.\n"
     ]
    },
    {
     "name": "stdout",
     "output_type": "stream",
     "text": [
      "---------------------Random Forest Fixed Effect Only----------------------\n",
      "---------------------Random Forest w OHE Cluster----------------------\n"
     ]
    },
    {
     "name": "stderr",
     "output_type": "stream",
     "text": [
      "/Users/souravdey/.virtualenvs/merf/lib/python3.6/site-packages/pandas/core/internals.py:490: RuntimeWarning: None of the categories were found in values. Did you mean to use\n",
      "'Categorical.from_codes(codes, categories)'?\n",
      "  return self.make_block(Categorical(self.values, **kwargs))\n",
      "INFO     [utils.py:164] Drew 10000 samples from 200 clusters.\n",
      "INFO     [utils.py:165] PTEV = 89.97066209626034, PREV = 30.097824901104815.\n"
     ]
    },
    {
     "name": "stdout",
     "output_type": "stream",
     "text": [
      "Experiment iteration: 5\n",
      "---------------------MERF----------------------\n"
     ]
    },
    {
     "name": "stderr",
     "output_type": "stream",
     "text": [
      "INFO     [merf.py:235] GLL is 1011.5836216310222 at iteration 1.\n",
      "INFO     [merf.py:235] GLL is 868.5153482490422 at iteration 2.\n",
      "INFO     [merf.py:235] GLL is 859.7296917385503 at iteration 3.\n",
      "INFO     [merf.py:235] GLL is 869.2721599375834 at iteration 4.\n",
      "INFO     [merf.py:235] GLL is 860.7366729064196 at iteration 5.\n",
      "INFO     [merf.py:235] GLL is 866.130019580133 at iteration 6.\n",
      "INFO     [merf.py:235] GLL is 857.0923224247442 at iteration 7.\n",
      "INFO     [merf.py:235] GLL is 851.4703510428542 at iteration 8.\n",
      "INFO     [merf.py:235] GLL is 857.8904614339028 at iteration 9.\n",
      "INFO     [merf.py:235] GLL is 859.4391687357023 at iteration 10.\n",
      "INFO     [merf.py:235] GLL is 860.0735846541431 at iteration 11.\n",
      "INFO     [merf.py:235] GLL is 866.7468395276097 at iteration 12.\n",
      "INFO     [merf.py:235] GLL is 861.3660235831176 at iteration 13.\n",
      "INFO     [merf.py:235] GLL is 862.3323558405243 at iteration 14.\n",
      "INFO     [merf.py:235] GLL is 861.137006182116 at iteration 15.\n",
      "INFO     [merf.py:235] GLL is 862.5103227670088 at iteration 16.\n",
      "INFO     [merf.py:235] GLL is 868.0871561877067 at iteration 17.\n",
      "INFO     [merf.py:235] GLL is 861.1805205956878 at iteration 18.\n",
      "INFO     [merf.py:235] GLL is 859.3551716587664 at iteration 19.\n",
      "INFO     [merf.py:235] GLL is 859.3609399258836 at iteration 20.\n"
     ]
    },
    {
     "name": "stdout",
     "output_type": "stream",
     "text": [
      "---------------------Random Forest Fixed Effect Only----------------------\n",
      "---------------------Random Forest w OHE Cluster----------------------\n"
     ]
    },
    {
     "name": "stderr",
     "output_type": "stream",
     "text": [
      "/Users/souravdey/.virtualenvs/merf/lib/python3.6/site-packages/pandas/core/internals.py:490: RuntimeWarning: None of the categories were found in values. Did you mean to use\n",
      "'Categorical.from_codes(codes, categories)'?\n",
      "  return self.make_block(Categorical(self.values, **kwargs))\n",
      "INFO     [utils.py:164] Drew 10000 samples from 200 clusters.\n",
      "INFO     [utils.py:165] PTEV = 90.09943306254638, PREV = 29.668922236800217.\n"
     ]
    },
    {
     "name": "stdout",
     "output_type": "stream",
     "text": [
      "Experiment iteration: 6\n",
      "---------------------MERF----------------------"
     ]
    },
    {
     "name": "stderr",
     "output_type": "stream",
     "text": [
      "INFO     [merf.py:235] GLL is 931.765309507851 at iteration 1.\n",
      "INFO     [merf.py:235] GLL is 813.7847796655234 at iteration 2.\n",
      "INFO     [merf.py:235] GLL is 813.4426927215461 at iteration 3.\n",
      "INFO     [merf.py:235] GLL is 810.1112091288752 at iteration 4.\n",
      "INFO     [merf.py:235] GLL is 803.6370411514699 at iteration 5.\n",
      "INFO     [merf.py:235] GLL is 806.6475548568499 at iteration 6.\n",
      "INFO     [merf.py:235] GLL is 812.5251300607061 at iteration 7.\n",
      "INFO     [merf.py:235] GLL is 801.2235276442169 at iteration 8.\n",
      "INFO     [merf.py:235] GLL is 805.5338246657502 at iteration 9.\n",
      "INFO     [merf.py:235] GLL is 807.1521962381652 at iteration 10.\n",
      "INFO     [merf.py:235] GLL is 809.8801195819422 at iteration 11.\n",
      "INFO     [merf.py:235] GLL is 809.8625573162358 at iteration 12.\n",
      "INFO     [merf.py:235] GLL is 808.0775931246422 at iteration 13.\n",
      "INFO     [merf.py:235] GLL is 816.0920568597273 at iteration 14.\n",
      "INFO     [merf.py:235] GLL is 812.3084941607104 at iteration 15.\n",
      "INFO     [merf.py:235] GLL is 801.5081595988576 at iteration 16.\n",
      "INFO     [merf.py:235] GLL is 806.7795699665819 at iteration 17.\n",
      "INFO     [merf.py:235] GLL is 805.1989324634418 at iteration 18.\n",
      "INFO     [merf.py:235] GLL is 813.8863488414681 at iteration 19.\n",
      "INFO     [merf.py:235] GLL is 822.5695216101033 at iteration 20.\n"
     ]
    },
    {
     "name": "stdout",
     "output_type": "stream",
     "text": [
      "\n",
      "---------------------Random Forest Fixed Effect Only----------------------\n",
      "---------------------Random Forest w OHE Cluster----------------------\n"
     ]
    },
    {
     "name": "stderr",
     "output_type": "stream",
     "text": [
      "/Users/souravdey/.virtualenvs/merf/lib/python3.6/site-packages/pandas/core/internals.py:490: RuntimeWarning: None of the categories were found in values. Did you mean to use\n",
      "'Categorical.from_codes(codes, categories)'?\n",
      "  return self.make_block(Categorical(self.values, **kwargs))\n",
      "INFO     [utils.py:164] Drew 10000 samples from 200 clusters.\n",
      "INFO     [utils.py:165] PTEV = 89.82571815952855, PREV = 30.582066619813453.\n"
     ]
    },
    {
     "name": "stdout",
     "output_type": "stream",
     "text": [
      "Experiment iteration: 7\n",
      "---------------------MERF----------------------"
     ]
    },
    {
     "name": "stderr",
     "output_type": "stream",
     "text": [
      "INFO     [merf.py:235] GLL is 1074.6419632814323 at iteration 1.\n",
      "INFO     [merf.py:235] GLL is 939.3668881304752 at iteration 2.\n",
      "INFO     [merf.py:235] GLL is 932.7198722522405 at iteration 3.\n",
      "INFO     [merf.py:235] GLL is 935.3400969698316 at iteration 4.\n",
      "INFO     [merf.py:235] GLL is 944.1752272305428 at iteration 5.\n",
      "INFO     [merf.py:235] GLL is 933.9481870672578 at iteration 6.\n",
      "INFO     [merf.py:235] GLL is 926.6506357167682 at iteration 7.\n",
      "INFO     [merf.py:235] GLL is 932.897342666797 at iteration 8.\n",
      "INFO     [merf.py:235] GLL is 927.7446203202813 at iteration 9.\n",
      "INFO     [merf.py:235] GLL is 935.082614968943 at iteration 10.\n",
      "INFO     [merf.py:235] GLL is 934.2584422695041 at iteration 11.\n",
      "INFO     [merf.py:235] GLL is 936.9861773422152 at iteration 12.\n",
      "INFO     [merf.py:235] GLL is 923.4939051320065 at iteration 13.\n",
      "INFO     [merf.py:235] GLL is 943.4128302297013 at iteration 14.\n",
      "INFO     [merf.py:235] GLL is 930.546604860996 at iteration 15.\n",
      "INFO     [merf.py:235] GLL is 931.0150505042764 at iteration 16.\n",
      "INFO     [merf.py:235] GLL is 938.0515881108142 at iteration 17.\n",
      "INFO     [merf.py:235] GLL is 939.4730992586044 at iteration 18.\n",
      "INFO     [merf.py:235] GLL is 933.0119520130899 at iteration 19.\n",
      "INFO     [merf.py:235] GLL is 933.9269590664899 at iteration 20.\n"
     ]
    },
    {
     "name": "stdout",
     "output_type": "stream",
     "text": [
      "\n",
      "---------------------Random Forest Fixed Effect Only----------------------\n",
      "---------------------Random Forest w OHE Cluster----------------------\n"
     ]
    },
    {
     "name": "stderr",
     "output_type": "stream",
     "text": [
      "/Users/souravdey/.virtualenvs/merf/lib/python3.6/site-packages/pandas/core/internals.py:490: RuntimeWarning: None of the categories were found in values. Did you mean to use\n",
      "'Categorical.from_codes(codes, categories)'?\n",
      "  return self.make_block(Categorical(self.values, **kwargs))\n",
      "INFO     [utils.py:164] Drew 10000 samples from 200 clusters.\n",
      "INFO     [utils.py:165] PTEV = 89.81873068162945, PREV = 30.605450501231473.\n"
     ]
    },
    {
     "name": "stdout",
     "output_type": "stream",
     "text": [
      "Experiment iteration: 8\n",
      "---------------------MERF----------------------"
     ]
    },
    {
     "name": "stderr",
     "output_type": "stream",
     "text": [
      "INFO     [merf.py:235] GLL is 1110.9817701787233 at iteration 1.\n",
      "INFO     [merf.py:235] GLL is 1000.9445035527318 at iteration 2.\n",
      "INFO     [merf.py:235] GLL is 1018.1310754023508 at iteration 3.\n",
      "INFO     [merf.py:235] GLL is 1014.7434634010623 at iteration 4.\n",
      "INFO     [merf.py:235] GLL is 1010.6557250207021 at iteration 5.\n",
      "INFO     [merf.py:235] GLL is 1001.7332306730099 at iteration 6.\n",
      "INFO     [merf.py:235] GLL is 1023.7760174200497 at iteration 7.\n",
      "INFO     [merf.py:235] GLL is 1014.4973275603568 at iteration 8.\n",
      "INFO     [merf.py:235] GLL is 1019.8461370105765 at iteration 9.\n",
      "INFO     [merf.py:235] GLL is 1021.7313907744673 at iteration 10.\n",
      "INFO     [merf.py:235] GLL is 1013.3146169979137 at iteration 11.\n",
      "INFO     [merf.py:235] GLL is 1008.7422893693384 at iteration 12.\n",
      "INFO     [merf.py:235] GLL is 1024.9694446169608 at iteration 13.\n",
      "INFO     [merf.py:235] GLL is 1026.2105993420514 at iteration 14.\n",
      "INFO     [merf.py:235] GLL is 1024.2496029763965 at iteration 15.\n",
      "INFO     [merf.py:235] GLL is 1011.8355829878686 at iteration 16.\n",
      "INFO     [merf.py:235] GLL is 1028.4487993276896 at iteration 17.\n",
      "INFO     [merf.py:235] GLL is 1024.2637490530958 at iteration 18.\n",
      "INFO     [merf.py:235] GLL is 1026.6412151128347 at iteration 19.\n",
      "INFO     [merf.py:235] GLL is 1017.3493393261859 at iteration 20.\n"
     ]
    },
    {
     "name": "stdout",
     "output_type": "stream",
     "text": [
      "\n",
      "---------------------Random Forest Fixed Effect Only----------------------\n",
      "---------------------Random Forest w OHE Cluster----------------------\n"
     ]
    },
    {
     "name": "stderr",
     "output_type": "stream",
     "text": [
      "/Users/souravdey/.virtualenvs/merf/lib/python3.6/site-packages/pandas/core/internals.py:490: RuntimeWarning: None of the categories were found in values. Did you mean to use\n",
      "'Categorical.from_codes(codes, categories)'?\n",
      "  return self.make_block(Categorical(self.values, **kwargs))\n",
      "INFO     [utils.py:164] Drew 10000 samples from 200 clusters.\n",
      "INFO     [utils.py:165] PTEV = 89.83306514474003, PREV = 30.55748355571859.\n"
     ]
    },
    {
     "name": "stdout",
     "output_type": "stream",
     "text": [
      "Experiment iteration: 9\n",
      "---------------------MERF----------------------\n"
     ]
    },
    {
     "name": "stderr",
     "output_type": "stream",
     "text": [
      "INFO     [merf.py:235] GLL is 1083.058194020325 at iteration 1.\n",
      "INFO     [merf.py:235] GLL is 940.4318882178922 at iteration 2.\n",
      "INFO     [merf.py:235] GLL is 956.4345550620408 at iteration 3.\n",
      "INFO     [merf.py:235] GLL is 935.6824390310622 at iteration 4.\n",
      "INFO     [merf.py:235] GLL is 929.7025155658425 at iteration 5.\n",
      "INFO     [merf.py:235] GLL is 936.2392894322633 at iteration 6.\n",
      "INFO     [merf.py:235] GLL is 932.46502626581 at iteration 7.\n",
      "INFO     [merf.py:235] GLL is 937.6527991342435 at iteration 8.\n",
      "INFO     [merf.py:235] GLL is 943.8359648208587 at iteration 9.\n",
      "INFO     [merf.py:235] GLL is 934.9628831017573 at iteration 10.\n",
      "INFO     [merf.py:235] GLL is 931.8009222443262 at iteration 11.\n",
      "INFO     [merf.py:235] GLL is 933.0583403132575 at iteration 12.\n",
      "INFO     [merf.py:235] GLL is 935.097519022384 at iteration 13.\n",
      "INFO     [merf.py:235] GLL is 929.9399000241671 at iteration 14.\n",
      "INFO     [merf.py:235] GLL is 945.7942840460854 at iteration 15.\n",
      "INFO     [merf.py:235] GLL is 930.5571484106472 at iteration 16.\n",
      "INFO     [merf.py:235] GLL is 945.3135892507936 at iteration 17.\n",
      "INFO     [merf.py:235] GLL is 938.9437392349172 at iteration 18.\n",
      "INFO     [merf.py:235] GLL is 929.7307591734565 at iteration 19.\n",
      "INFO     [merf.py:235] GLL is 934.4078791299713 at iteration 20.\n"
     ]
    },
    {
     "name": "stdout",
     "output_type": "stream",
     "text": [
      "---------------------Random Forest Fixed Effect Only----------------------\n",
      "---------------------Random Forest w OHE Cluster----------------------\n"
     ]
    },
    {
     "name": "stderr",
     "output_type": "stream",
     "text": [
      "/Users/souravdey/.virtualenvs/merf/lib/python3.6/site-packages/pandas/core/internals.py:490: RuntimeWarning: None of the categories were found in values. Did you mean to use\n",
      "'Categorical.from_codes(codes, categories)'?\n",
      "  return self.make_block(Categorical(self.values, **kwargs))\n",
      "INFO     [utils.py:164] Drew 10000 samples from 200 clusters.\n",
      "INFO     [utils.py:165] PTEV = 90.09362819855492, PREV = 49.48038390490515.\n"
     ]
    },
    {
     "name": "stdout",
     "output_type": "stream",
     "text": [
      "Experiment iteration: 0\n",
      "---------------------MERF----------------------"
     ]
    },
    {
     "name": "stderr",
     "output_type": "stream",
     "text": [
      "INFO     [merf.py:235] GLL is 1136.8864668567176 at iteration 1.\n",
      "INFO     [merf.py:235] GLL is 977.9332752372758 at iteration 2.\n",
      "INFO     [merf.py:235] GLL is 972.4444171643656 at iteration 3.\n",
      "INFO     [merf.py:235] GLL is 965.6931667012938 at iteration 4.\n",
      "INFO     [merf.py:235] GLL is 961.5694034680159 at iteration 5.\n",
      "INFO     [merf.py:235] GLL is 951.8534405363046 at iteration 6.\n",
      "INFO     [merf.py:235] GLL is 954.2955903406046 at iteration 7.\n",
      "INFO     [merf.py:235] GLL is 965.0371624419761 at iteration 8.\n",
      "INFO     [merf.py:235] GLL is 957.2759778192659 at iteration 9.\n",
      "INFO     [merf.py:235] GLL is 960.0660681097789 at iteration 10.\n",
      "INFO     [merf.py:235] GLL is 962.9604172493565 at iteration 11.\n",
      "INFO     [merf.py:235] GLL is 952.6396823514573 at iteration 12.\n",
      "INFO     [merf.py:235] GLL is 958.6924175475934 at iteration 13.\n",
      "INFO     [merf.py:235] GLL is 960.7310500811185 at iteration 14.\n",
      "INFO     [merf.py:235] GLL is 958.3407183627255 at iteration 15.\n",
      "INFO     [merf.py:235] GLL is 951.9647132220664 at iteration 16.\n",
      "INFO     [merf.py:235] GLL is 962.4298573556996 at iteration 17.\n",
      "INFO     [merf.py:235] GLL is 958.4031837040993 at iteration 18.\n",
      "INFO     [merf.py:235] GLL is 958.4807267768821 at iteration 19.\n",
      "INFO     [merf.py:235] GLL is 950.2469801304985 at iteration 20.\n"
     ]
    },
    {
     "name": "stdout",
     "output_type": "stream",
     "text": [
      "\n",
      "---------------------Random Forest Fixed Effect Only----------------------\n",
      "---------------------Random Forest w OHE Cluster----------------------\n"
     ]
    },
    {
     "name": "stderr",
     "output_type": "stream",
     "text": [
      "/Users/souravdey/.virtualenvs/merf/lib/python3.6/site-packages/pandas/core/internals.py:490: RuntimeWarning: None of the categories were found in values. Did you mean to use\n",
      "'Categorical.from_codes(codes, categories)'?\n",
      "  return self.make_block(Categorical(self.values, **kwargs))\n",
      "INFO     [utils.py:164] Drew 10000 samples from 200 clusters.\n",
      "INFO     [utils.py:165] PTEV = 89.87831070730736, PREV = 50.676966955292016.\n"
     ]
    },
    {
     "name": "stdout",
     "output_type": "stream",
     "text": [
      "Experiment iteration: 1\n",
      "---------------------MERF----------------------\n"
     ]
    },
    {
     "name": "stderr",
     "output_type": "stream",
     "text": [
      "INFO     [merf.py:235] GLL is 1211.8577405799285 at iteration 1.\n",
      "INFO     [merf.py:235] GLL is 1008.9284086768707 at iteration 2.\n",
      "INFO     [merf.py:235] GLL is 996.7601782263039 at iteration 3.\n",
      "INFO     [merf.py:235] GLL is 995.7681478562123 at iteration 4.\n",
      "INFO     [merf.py:235] GLL is 995.7691796405567 at iteration 5.\n",
      "INFO     [merf.py:235] GLL is 994.8855923647443 at iteration 6.\n",
      "INFO     [merf.py:235] GLL is 993.2422242317488 at iteration 7.\n",
      "INFO     [merf.py:235] GLL is 982.8905940475178 at iteration 8.\n",
      "INFO     [merf.py:235] GLL is 1001.9245057498869 at iteration 9.\n",
      "INFO     [merf.py:235] GLL is 992.9938879688601 at iteration 10.\n",
      "INFO     [merf.py:235] GLL is 988.2712048794644 at iteration 11.\n",
      "INFO     [merf.py:235] GLL is 980.5918473435502 at iteration 12.\n",
      "INFO     [merf.py:235] GLL is 994.0126934823677 at iteration 13.\n",
      "INFO     [merf.py:235] GLL is 1010.6226583875311 at iteration 14.\n",
      "INFO     [merf.py:235] GLL is 993.127647433091 at iteration 15.\n",
      "INFO     [merf.py:235] GLL is 994.7984943952276 at iteration 16.\n",
      "INFO     [merf.py:235] GLL is 995.3089833629556 at iteration 17.\n",
      "INFO     [merf.py:235] GLL is 1003.5156836545478 at iteration 18.\n",
      "INFO     [merf.py:235] GLL is 989.198077433649 at iteration 19.\n",
      "INFO     [merf.py:235] GLL is 1001.0054060143414 at iteration 20.\n"
     ]
    },
    {
     "name": "stdout",
     "output_type": "stream",
     "text": [
      "---------------------Random Forest Fixed Effect Only----------------------\n",
      "---------------------Random Forest w OHE Cluster----------------------\n"
     ]
    },
    {
     "name": "stderr",
     "output_type": "stream",
     "text": [
      "/Users/souravdey/.virtualenvs/merf/lib/python3.6/site-packages/pandas/core/internals.py:490: RuntimeWarning: None of the categories were found in values. Did you mean to use\n",
      "'Categorical.from_codes(codes, categories)'?\n",
      "  return self.make_block(Categorical(self.values, **kwargs))\n",
      "INFO     [utils.py:164] Drew 10000 samples from 200 clusters.\n",
      "INFO     [utils.py:165] PTEV = 90.06440961401894, PREV = 49.64242471418519.\n"
     ]
    },
    {
     "name": "stdout",
     "output_type": "stream",
     "text": [
      "Experiment iteration: 2\n",
      "---------------------MERF----------------------"
     ]
    },
    {
     "name": "stderr",
     "output_type": "stream",
     "text": [
      "INFO     [merf.py:235] GLL is 1120.8178320522504 at iteration 1.\n",
      "INFO     [merf.py:235] GLL is 881.667929058123 at iteration 2.\n",
      "INFO     [merf.py:235] GLL is 851.7783362255105 at iteration 3.\n",
      "INFO     [merf.py:235] GLL is 835.0210910881433 at iteration 4.\n",
      "INFO     [merf.py:235] GLL is 848.5267149205497 at iteration 5.\n",
      "INFO     [merf.py:235] GLL is 842.6769913473972 at iteration 6.\n",
      "INFO     [merf.py:235] GLL is 843.7654901500398 at iteration 7.\n",
      "INFO     [merf.py:235] GLL is 845.4923855857072 at iteration 8.\n",
      "INFO     [merf.py:235] GLL is 837.7510080218489 at iteration 9.\n",
      "INFO     [merf.py:235] GLL is 846.1728667475652 at iteration 10.\n",
      "INFO     [merf.py:235] GLL is 841.0117901441627 at iteration 11.\n",
      "INFO     [merf.py:235] GLL is 841.7099865469932 at iteration 12.\n",
      "INFO     [merf.py:235] GLL is 846.1628441172178 at iteration 13.\n",
      "INFO     [merf.py:235] GLL is 850.4634147084662 at iteration 14.\n",
      "INFO     [merf.py:235] GLL is 847.4531477945236 at iteration 15.\n",
      "INFO     [merf.py:235] GLL is 841.1056229875089 at iteration 16.\n",
      "INFO     [merf.py:235] GLL is 842.2616100357617 at iteration 17.\n",
      "INFO     [merf.py:235] GLL is 843.5324221833662 at iteration 18.\n",
      "INFO     [merf.py:235] GLL is 841.1043633488059 at iteration 19.\n",
      "INFO     [merf.py:235] GLL is 834.8545447080094 at iteration 20.\n"
     ]
    },
    {
     "name": "stdout",
     "output_type": "stream",
     "text": [
      "\n",
      "---------------------Random Forest Fixed Effect Only----------------------\n",
      "---------------------Random Forest w OHE Cluster----------------------\n"
     ]
    },
    {
     "name": "stderr",
     "output_type": "stream",
     "text": [
      "/Users/souravdey/.virtualenvs/merf/lib/python3.6/site-packages/pandas/core/internals.py:490: RuntimeWarning: None of the categories were found in values. Did you mean to use\n",
      "'Categorical.from_codes(codes, categories)'?\n",
      "  return self.make_block(Categorical(self.values, **kwargs))\n",
      "INFO     [utils.py:164] Drew 10000 samples from 200 clusters.\n",
      "INFO     [utils.py:165] PTEV = 90.04886316125659, PREV = 49.728685296286926.\n"
     ]
    },
    {
     "name": "stdout",
     "output_type": "stream",
     "text": [
      "Experiment iteration: 3\n",
      "---------------------MERF----------------------"
     ]
    },
    {
     "name": "stderr",
     "output_type": "stream",
     "text": [
      "INFO     [merf.py:235] GLL is 1142.3109810476435 at iteration 1.\n",
      "INFO     [merf.py:235] GLL is 1042.4981905150848 at iteration 2.\n",
      "INFO     [merf.py:235] GLL is 1037.6411397021952 at iteration 3.\n",
      "INFO     [merf.py:235] GLL is 1041.1924490427295 at iteration 4.\n",
      "INFO     [merf.py:235] GLL is 1042.6726929795232 at iteration 5.\n",
      "INFO     [merf.py:235] GLL is 1041.9380992763633 at iteration 6.\n",
      "INFO     [merf.py:235] GLL is 1034.6208232807733 at iteration 7.\n",
      "INFO     [merf.py:235] GLL is 1037.8143605215394 at iteration 8.\n",
      "INFO     [merf.py:235] GLL is 1037.4521042551007 at iteration 9.\n",
      "INFO     [merf.py:235] GLL is 1037.179232085699 at iteration 10.\n",
      "INFO     [merf.py:235] GLL is 1047.5462321830069 at iteration 11.\n",
      "INFO     [merf.py:235] GLL is 1037.456630296186 at iteration 12.\n",
      "INFO     [merf.py:235] GLL is 1037.8786328708652 at iteration 13.\n",
      "INFO     [merf.py:235] GLL is 1041.6033975405178 at iteration 14.\n",
      "INFO     [merf.py:235] GLL is 1036.095180524308 at iteration 15.\n",
      "INFO     [merf.py:235] GLL is 1034.2660232236465 at iteration 16.\n",
      "INFO     [merf.py:235] GLL is 1034.2563183278164 at iteration 17.\n",
      "INFO     [merf.py:235] GLL is 1041.2401886239215 at iteration 18.\n",
      "INFO     [merf.py:235] GLL is 1040.9696893338617 at iteration 19.\n",
      "INFO     [merf.py:235] GLL is 1045.048155929551 at iteration 20.\n"
     ]
    },
    {
     "name": "stdout",
     "output_type": "stream",
     "text": [
      "\n",
      "---------------------Random Forest Fixed Effect Only----------------------\n",
      "---------------------Random Forest w OHE Cluster----------------------\n"
     ]
    },
    {
     "name": "stderr",
     "output_type": "stream",
     "text": [
      "/Users/souravdey/.virtualenvs/merf/lib/python3.6/site-packages/pandas/core/internals.py:490: RuntimeWarning: None of the categories were found in values. Did you mean to use\n",
      "'Categorical.from_codes(codes, categories)'?\n",
      "  return self.make_block(Categorical(self.values, **kwargs))\n",
      "INFO     [utils.py:164] Drew 10000 samples from 200 clusters.\n",
      "INFO     [utils.py:165] PTEV = 90.20533256106495, PREV = 48.86186018478478.\n"
     ]
    },
    {
     "name": "stdout",
     "output_type": "stream",
     "text": [
      "Experiment iteration: 4\n",
      "---------------------MERF----------------------\n"
     ]
    },
    {
     "name": "stderr",
     "output_type": "stream",
     "text": [
      "INFO     [merf.py:235] GLL is 1143.3624370370137 at iteration 1.\n",
      "INFO     [merf.py:235] GLL is 980.0541513745063 at iteration 2.\n",
      "INFO     [merf.py:235] GLL is 987.0627827612568 at iteration 3.\n",
      "INFO     [merf.py:235] GLL is 975.7357283194777 at iteration 4.\n",
      "INFO     [merf.py:235] GLL is 980.7956398934463 at iteration 5.\n",
      "INFO     [merf.py:235] GLL is 977.3269899919483 at iteration 6.\n",
      "INFO     [merf.py:235] GLL is 977.4704724947877 at iteration 7.\n",
      "INFO     [merf.py:235] GLL is 971.0761517878375 at iteration 8.\n",
      "INFO     [merf.py:235] GLL is 985.3145103730798 at iteration 9.\n",
      "INFO     [merf.py:235] GLL is 974.2334878048207 at iteration 10.\n",
      "INFO     [merf.py:235] GLL is 989.7714457178814 at iteration 11.\n",
      "INFO     [merf.py:235] GLL is 978.4580970097198 at iteration 12.\n",
      "INFO     [merf.py:235] GLL is 972.9124683820094 at iteration 13.\n",
      "INFO     [merf.py:235] GLL is 972.1025956224508 at iteration 14.\n",
      "INFO     [merf.py:235] GLL is 978.6332845344748 at iteration 15.\n",
      "INFO     [merf.py:235] GLL is 987.9786364586464 at iteration 16.\n",
      "INFO     [merf.py:235] GLL is 983.7525455317306 at iteration 17.\n",
      "INFO     [merf.py:235] GLL is 971.9249544709245 at iteration 18.\n",
      "INFO     [merf.py:235] GLL is 987.0980107307377 at iteration 19.\n",
      "INFO     [merf.py:235] GLL is 981.950877832236 at iteration 20.\n"
     ]
    },
    {
     "name": "stdout",
     "output_type": "stream",
     "text": [
      "---------------------Random Forest Fixed Effect Only----------------------\n",
      "---------------------Random Forest w OHE Cluster----------------------\n"
     ]
    },
    {
     "name": "stderr",
     "output_type": "stream",
     "text": [
      "/Users/souravdey/.virtualenvs/merf/lib/python3.6/site-packages/pandas/core/internals.py:490: RuntimeWarning: None of the categories were found in values. Did you mean to use\n",
      "'Categorical.from_codes(codes, categories)'?\n",
      "  return self.make_block(Categorical(self.values, **kwargs))\n",
      "INFO     [utils.py:164] Drew 10000 samples from 200 clusters.\n",
      "INFO     [utils.py:165] PTEV = 89.99685956165199, PREV = 50.01744748851963.\n"
     ]
    },
    {
     "name": "stdout",
     "output_type": "stream",
     "text": [
      "Experiment iteration: 5\n",
      "---------------------MERF----------------------\n"
     ]
    },
    {
     "name": "stderr",
     "output_type": "stream",
     "text": [
      "INFO     [merf.py:235] GLL is 1143.6653859808616 at iteration 1.\n",
      "INFO     [merf.py:235] GLL is 999.8042427398282 at iteration 2.\n",
      "INFO     [merf.py:235] GLL is 1006.4492267563915 at iteration 3.\n",
      "INFO     [merf.py:235] GLL is 993.7861091756957 at iteration 4.\n",
      "INFO     [merf.py:235] GLL is 999.7780448716213 at iteration 5.\n",
      "INFO     [merf.py:235] GLL is 1009.9125022814318 at iteration 6.\n",
      "INFO     [merf.py:235] GLL is 1003.7754495337716 at iteration 7.\n",
      "INFO     [merf.py:235] GLL is 1003.98347885533 at iteration 8.\n",
      "INFO     [merf.py:235] GLL is 1003.712454861998 at iteration 9.\n",
      "INFO     [merf.py:235] GLL is 1004.4425382811414 at iteration 10.\n",
      "INFO     [merf.py:235] GLL is 1012.4645211841316 at iteration 11.\n",
      "INFO     [merf.py:235] GLL is 1010.1855591434738 at iteration 12.\n",
      "INFO     [merf.py:235] GLL is 1008.4761520118564 at iteration 13.\n",
      "INFO     [merf.py:235] GLL is 1009.1756973671683 at iteration 14.\n",
      "INFO     [merf.py:235] GLL is 1000.4666336283939 at iteration 15.\n",
      "INFO     [merf.py:235] GLL is 1012.0484046005404 at iteration 16.\n",
      "INFO     [merf.py:235] GLL is 1011.9739858389573 at iteration 17.\n",
      "INFO     [merf.py:235] GLL is 1005.7876344696938 at iteration 18.\n",
      "INFO     [merf.py:235] GLL is 1013.1676661300683 at iteration 19.\n",
      "INFO     [merf.py:235] GLL is 1004.6612916635708 at iteration 20.\n"
     ]
    },
    {
     "name": "stdout",
     "output_type": "stream",
     "text": [
      "---------------------Random Forest Fixed Effect Only----------------------\n",
      "---------------------Random Forest w OHE Cluster----------------------\n"
     ]
    },
    {
     "name": "stderr",
     "output_type": "stream",
     "text": [
      "/Users/souravdey/.virtualenvs/merf/lib/python3.6/site-packages/pandas/core/internals.py:490: RuntimeWarning: None of the categories were found in values. Did you mean to use\n",
      "'Categorical.from_codes(codes, categories)'?\n",
      "  return self.make_block(Categorical(self.values, **kwargs))\n",
      "INFO     [utils.py:164] Drew 10000 samples from 200 clusters.\n",
      "INFO     [utils.py:165] PTEV = 89.9508152779942, PREV = 50.27339786667743.\n"
     ]
    },
    {
     "name": "stdout",
     "output_type": "stream",
     "text": [
      "Experiment iteration: 6\n",
      "---------------------MERF----------------------\n"
     ]
    },
    {
     "name": "stderr",
     "output_type": "stream",
     "text": [
      "INFO     [merf.py:235] GLL is 1114.3695341252214 at iteration 1.\n",
      "INFO     [merf.py:235] GLL is 929.7954084593498 at iteration 2.\n",
      "INFO     [merf.py:235] GLL is 930.1487525874832 at iteration 3.\n",
      "INFO     [merf.py:235] GLL is 911.3825200236626 at iteration 4.\n",
      "INFO     [merf.py:235] GLL is 927.5661381928007 at iteration 5.\n",
      "INFO     [merf.py:235] GLL is 938.0832094611402 at iteration 6.\n",
      "INFO     [merf.py:235] GLL is 928.5928925462774 at iteration 7.\n",
      "INFO     [merf.py:235] GLL is 922.6124122469702 at iteration 8.\n",
      "INFO     [merf.py:235] GLL is 930.0958069038522 at iteration 9.\n",
      "INFO     [merf.py:235] GLL is 933.4033705673634 at iteration 10.\n",
      "INFO     [merf.py:235] GLL is 932.0062829349758 at iteration 11.\n",
      "INFO     [merf.py:235] GLL is 924.7703429091367 at iteration 12.\n",
      "INFO     [merf.py:235] GLL is 916.7259735960193 at iteration 13.\n",
      "INFO     [merf.py:235] GLL is 937.7684681660076 at iteration 14.\n",
      "INFO     [merf.py:235] GLL is 929.5795616029448 at iteration 15.\n",
      "INFO     [merf.py:235] GLL is 943.7964831109654 at iteration 16.\n",
      "INFO     [merf.py:235] GLL is 918.3166563245665 at iteration 17.\n",
      "INFO     [merf.py:235] GLL is 923.8002516371621 at iteration 18.\n",
      "INFO     [merf.py:235] GLL is 921.6574055669607 at iteration 19.\n",
      "INFO     [merf.py:235] GLL is 926.5126979088618 at iteration 20.\n"
     ]
    },
    {
     "name": "stdout",
     "output_type": "stream",
     "text": [
      "---------------------Random Forest Fixed Effect Only----------------------\n",
      "---------------------Random Forest w OHE Cluster----------------------\n"
     ]
    },
    {
     "name": "stderr",
     "output_type": "stream",
     "text": [
      "/Users/souravdey/.virtualenvs/merf/lib/python3.6/site-packages/pandas/core/internals.py:490: RuntimeWarning: None of the categories were found in values. Did you mean to use\n",
      "'Categorical.from_codes(codes, categories)'?\n",
      "  return self.make_block(Categorical(self.values, **kwargs))\n",
      "INFO     [utils.py:164] Drew 10000 samples from 200 clusters.\n",
      "INFO     [utils.py:165] PTEV = 90.02138884537307, PREV = 49.881201314224285.\n"
     ]
    },
    {
     "name": "stdout",
     "output_type": "stream",
     "text": [
      "Experiment iteration: 7\n",
      "---------------------MERF----------------------"
     ]
    },
    {
     "name": "stderr",
     "output_type": "stream",
     "text": [
      "INFO     [merf.py:235] GLL is 1266.2243560939573 at iteration 1.\n",
      "INFO     [merf.py:235] GLL is 1074.4836938363976 at iteration 2.\n",
      "INFO     [merf.py:235] GLL is 1057.2058640624039 at iteration 3.\n",
      "INFO     [merf.py:235] GLL is 1054.654464904697 at iteration 4.\n",
      "INFO     [merf.py:235] GLL is 1044.0239841602656 at iteration 5.\n",
      "INFO     [merf.py:235] GLL is 1047.2523950035545 at iteration 6.\n",
      "INFO     [merf.py:235] GLL is 1039.8810554151032 at iteration 7.\n",
      "INFO     [merf.py:235] GLL is 1038.5697016151976 at iteration 8.\n",
      "INFO     [merf.py:235] GLL is 1043.9137329915038 at iteration 9.\n",
      "INFO     [merf.py:235] GLL is 1030.9651465365953 at iteration 10.\n",
      "INFO     [merf.py:235] GLL is 1029.8607879331225 at iteration 11.\n",
      "INFO     [merf.py:235] GLL is 1029.219936056436 at iteration 12.\n",
      "INFO     [merf.py:235] GLL is 1032.6216728327804 at iteration 13.\n",
      "INFO     [merf.py:235] GLL is 1035.1402670857294 at iteration 14.\n",
      "INFO     [merf.py:235] GLL is 1039.6468137111715 at iteration 15.\n",
      "INFO     [merf.py:235] GLL is 1033.7375503573794 at iteration 16.\n",
      "INFO     [merf.py:235] GLL is 1035.9745468889505 at iteration 17.\n",
      "INFO     [merf.py:235] GLL is 1052.1969579904883 at iteration 18.\n",
      "INFO     [merf.py:235] GLL is 1035.3457769829274 at iteration 19.\n",
      "INFO     [merf.py:235] GLL is 1047.2505215745014 at iteration 20.\n"
     ]
    },
    {
     "name": "stdout",
     "output_type": "stream",
     "text": [
      "\n",
      "---------------------Random Forest Fixed Effect Only----------------------\n",
      "---------------------Random Forest w OHE Cluster----------------------\n"
     ]
    },
    {
     "name": "stderr",
     "output_type": "stream",
     "text": [
      "/Users/souravdey/.virtualenvs/merf/lib/python3.6/site-packages/pandas/core/internals.py:490: RuntimeWarning: None of the categories were found in values. Did you mean to use\n",
      "'Categorical.from_codes(codes, categories)'?\n",
      "  return self.make_block(Categorical(self.values, **kwargs))\n",
      "INFO     [utils.py:164] Drew 10000 samples from 200 clusters.\n",
      "INFO     [utils.py:165] PTEV = 89.93590691210618, PREV = 50.35632646678293.\n"
     ]
    },
    {
     "name": "stdout",
     "output_type": "stream",
     "text": [
      "Experiment iteration: 8\n",
      "---------------------MERF----------------------\n"
     ]
    },
    {
     "name": "stderr",
     "output_type": "stream",
     "text": [
      "INFO     [merf.py:235] GLL is 1058.0668661023542 at iteration 1.\n",
      "INFO     [merf.py:235] GLL is 959.8466398932586 at iteration 2.\n",
      "INFO     [merf.py:235] GLL is 949.0128613083751 at iteration 3.\n",
      "INFO     [merf.py:235] GLL is 946.1545273483258 at iteration 4.\n",
      "INFO     [merf.py:235] GLL is 942.867650336903 at iteration 5.\n",
      "INFO     [merf.py:235] GLL is 929.3712946449434 at iteration 6.\n",
      "INFO     [merf.py:235] GLL is 935.6868297471847 at iteration 7.\n",
      "INFO     [merf.py:235] GLL is 940.4832231104189 at iteration 8.\n",
      "INFO     [merf.py:235] GLL is 944.6656498512999 at iteration 9.\n",
      "INFO     [merf.py:235] GLL is 934.3022367307216 at iteration 10.\n",
      "INFO     [merf.py:235] GLL is 952.311344104339 at iteration 11.\n",
      "INFO     [merf.py:235] GLL is 951.0744509852293 at iteration 12.\n",
      "INFO     [merf.py:235] GLL is 936.6686271111013 at iteration 13.\n",
      "INFO     [merf.py:235] GLL is 944.5551772100353 at iteration 14.\n",
      "INFO     [merf.py:235] GLL is 939.8267438264808 at iteration 15.\n",
      "INFO     [merf.py:235] GLL is 947.5238048268127 at iteration 16.\n",
      "INFO     [merf.py:235] GLL is 935.3926929293608 at iteration 17.\n",
      "INFO     [merf.py:235] GLL is 953.5571723788648 at iteration 18.\n",
      "INFO     [merf.py:235] GLL is 949.1471065481022 at iteration 19.\n",
      "INFO     [merf.py:235] GLL is 937.4869859997643 at iteration 20.\n"
     ]
    },
    {
     "name": "stdout",
     "output_type": "stream",
     "text": [
      "---------------------Random Forest Fixed Effect Only----------------------\n",
      "---------------------Random Forest w OHE Cluster----------------------\n"
     ]
    },
    {
     "name": "stderr",
     "output_type": "stream",
     "text": [
      "/Users/souravdey/.virtualenvs/merf/lib/python3.6/site-packages/pandas/core/internals.py:490: RuntimeWarning: None of the categories were found in values. Did you mean to use\n",
      "'Categorical.from_codes(codes, categories)'?\n",
      "  return self.make_block(Categorical(self.values, **kwargs))\n",
      "INFO     [utils.py:164] Drew 10000 samples from 200 clusters.\n",
      "INFO     [utils.py:165] PTEV = 89.96776035822663, PREV = 50.17917330410913.\n"
     ]
    },
    {
     "name": "stdout",
     "output_type": "stream",
     "text": [
      "Experiment iteration: 9\n",
      "---------------------MERF----------------------"
     ]
    },
    {
     "name": "stderr",
     "output_type": "stream",
     "text": [
      "INFO     [merf.py:235] GLL is 1043.4073652231891 at iteration 1.\n",
      "INFO     [merf.py:235] GLL is 876.1435174481547 at iteration 2.\n",
      "INFO     [merf.py:235] GLL is 860.0336187313117 at iteration 3.\n",
      "INFO     [merf.py:235] GLL is 857.1560255591617 at iteration 4.\n",
      "INFO     [merf.py:235] GLL is 863.5541865502237 at iteration 5.\n",
      "INFO     [merf.py:235] GLL is 870.8851840257173 at iteration 6.\n",
      "INFO     [merf.py:235] GLL is 869.6768363360876 at iteration 7.\n",
      "INFO     [merf.py:235] GLL is 867.5805146785161 at iteration 8.\n",
      "INFO     [merf.py:235] GLL is 868.8200934882691 at iteration 9.\n",
      "INFO     [merf.py:235] GLL is 874.626020329051 at iteration 10.\n",
      "INFO     [merf.py:235] GLL is 872.6244103640818 at iteration 11.\n",
      "INFO     [merf.py:235] GLL is 871.746411181288 at iteration 12.\n",
      "INFO     [merf.py:235] GLL is 877.9236818366113 at iteration 13.\n",
      "INFO     [merf.py:235] GLL is 870.683600781207 at iteration 14.\n",
      "INFO     [merf.py:235] GLL is 868.9871482609851 at iteration 15.\n",
      "INFO     [merf.py:235] GLL is 870.4382821067767 at iteration 16.\n",
      "INFO     [merf.py:235] GLL is 870.5403279496207 at iteration 17.\n",
      "INFO     [merf.py:235] GLL is 883.985636277958 at iteration 18.\n",
      "INFO     [merf.py:235] GLL is 872.4923168021159 at iteration 19.\n",
      "INFO     [merf.py:235] GLL is 877.9660051439082 at iteration 20.\n"
     ]
    },
    {
     "name": "stdout",
     "output_type": "stream",
     "text": [
      "\n",
      "---------------------Random Forest Fixed Effect Only----------------------\n",
      "---------------------Random Forest w OHE Cluster----------------------\n"
     ]
    },
    {
     "name": "stderr",
     "output_type": "stream",
     "text": [
      "/Users/souravdey/.virtualenvs/merf/lib/python3.6/site-packages/pandas/core/internals.py:490: RuntimeWarning: None of the categories were found in values. Did you mean to use\n",
      "'Categorical.from_codes(codes, categories)'?\n",
      "  return self.make_block(Categorical(self.values, **kwargs))\n",
      "INFO     [utils.py:164] Drew 10000 samples from 200 clusters.\n",
      "INFO     [utils.py:165] PTEV = 57.06254842270536, PREV = 15.049258318862494.\n"
     ]
    },
    {
     "name": "stdout",
     "output_type": "stream",
     "text": [
      "Experiment iteration: 0\n",
      "---------------------MERF----------------------\n"
     ]
    },
    {
     "name": "stderr",
     "output_type": "stream",
     "text": [
      "INFO     [merf.py:235] GLL is 524.8916243739486 at iteration 1.\n",
      "INFO     [merf.py:235] GLL is 475.1576662945693 at iteration 2.\n",
      "INFO     [merf.py:235] GLL is 466.50509012547815 at iteration 3.\n",
      "INFO     [merf.py:235] GLL is 452.47160552017874 at iteration 4.\n",
      "INFO     [merf.py:235] GLL is 445.95105259503407 at iteration 5.\n",
      "INFO     [merf.py:235] GLL is 442.6577813833553 at iteration 6.\n",
      "INFO     [merf.py:235] GLL is 435.8463563140372 at iteration 7.\n",
      "INFO     [merf.py:235] GLL is 447.1217062597083 at iteration 8.\n",
      "INFO     [merf.py:235] GLL is 430.9071508002321 at iteration 9.\n",
      "INFO     [merf.py:235] GLL is 435.3983945161175 at iteration 10.\n",
      "INFO     [merf.py:235] GLL is 433.5676380805072 at iteration 11.\n",
      "INFO     [merf.py:235] GLL is 433.4954662372558 at iteration 12.\n",
      "INFO     [merf.py:235] GLL is 436.4033823201554 at iteration 13.\n",
      "INFO     [merf.py:235] GLL is 441.37018813157084 at iteration 14.\n",
      "INFO     [merf.py:235] GLL is 433.3113771625222 at iteration 15.\n",
      "INFO     [merf.py:235] GLL is 432.4258604601081 at iteration 16.\n",
      "INFO     [merf.py:235] GLL is 425.5513288357026 at iteration 17.\n",
      "INFO     [merf.py:235] GLL is 429.3456195652591 at iteration 18.\n",
      "INFO     [merf.py:235] GLL is 435.0249460513007 at iteration 19.\n",
      "INFO     [merf.py:235] GLL is 422.0150303537436 at iteration 20.\n"
     ]
    },
    {
     "name": "stdout",
     "output_type": "stream",
     "text": [
      "---------------------Random Forest Fixed Effect Only----------------------\n",
      "---------------------Random Forest w OHE Cluster----------------------\n"
     ]
    },
    {
     "name": "stderr",
     "output_type": "stream",
     "text": [
      "/Users/souravdey/.virtualenvs/merf/lib/python3.6/site-packages/pandas/core/internals.py:490: RuntimeWarning: None of the categories were found in values. Did you mean to use\n",
      "'Categorical.from_codes(codes, categories)'?\n",
      "  return self.make_block(Categorical(self.values, **kwargs))\n",
      "INFO     [utils.py:164] Drew 10000 samples from 200 clusters.\n",
      "INFO     [utils.py:165] PTEV = 56.639505625172525, PREV = 15.311042671091602.\n"
     ]
    },
    {
     "name": "stdout",
     "output_type": "stream",
     "text": [
      "Experiment iteration: 1\n",
      "---------------------MERF----------------------"
     ]
    },
    {
     "name": "stderr",
     "output_type": "stream",
     "text": [
      "INFO     [merf.py:235] GLL is 545.7609444846089 at iteration 1.\n",
      "INFO     [merf.py:235] GLL is 495.5239290183243 at iteration 2.\n",
      "INFO     [merf.py:235] GLL is 471.3872284403107 at iteration 3.\n",
      "INFO     [merf.py:235] GLL is 470.4504004105461 at iteration 4.\n",
      "INFO     [merf.py:235] GLL is 453.47607042265594 at iteration 5.\n",
      "INFO     [merf.py:235] GLL is 451.5023321712297 at iteration 6.\n",
      "INFO     [merf.py:235] GLL is 453.6183125776493 at iteration 7.\n",
      "INFO     [merf.py:235] GLL is 440.1523455536157 at iteration 8.\n",
      "INFO     [merf.py:235] GLL is 433.8221058167193 at iteration 9.\n",
      "INFO     [merf.py:235] GLL is 420.98467314376126 at iteration 10.\n",
      "INFO     [merf.py:235] GLL is 432.54473687979674 at iteration 11.\n",
      "INFO     [merf.py:235] GLL is 427.58074033235124 at iteration 12.\n",
      "INFO     [merf.py:235] GLL is 419.7160401524174 at iteration 13.\n",
      "INFO     [merf.py:235] GLL is 416.88894944947907 at iteration 14.\n",
      "INFO     [merf.py:235] GLL is 410.3171630802825 at iteration 15.\n",
      "INFO     [merf.py:235] GLL is 407.89108539768415 at iteration 16.\n",
      "INFO     [merf.py:235] GLL is 405.9062493880832 at iteration 17.\n",
      "INFO     [merf.py:235] GLL is 411.82999948920184 at iteration 18.\n",
      "INFO     [merf.py:235] GLL is 408.64327287619983 at iteration 19.\n",
      "INFO     [merf.py:235] GLL is 398.0880456880169 at iteration 20.\n"
     ]
    },
    {
     "name": "stdout",
     "output_type": "stream",
     "text": [
      "\n",
      "---------------------Random Forest Fixed Effect Only----------------------\n",
      "---------------------Random Forest w OHE Cluster----------------------\n"
     ]
    },
    {
     "name": "stderr",
     "output_type": "stream",
     "text": [
      "/Users/souravdey/.virtualenvs/merf/lib/python3.6/site-packages/pandas/core/internals.py:490: RuntimeWarning: None of the categories were found in values. Did you mean to use\n",
      "'Categorical.from_codes(codes, categories)'?\n",
      "  return self.make_block(Categorical(self.values, **kwargs))\n",
      "INFO     [utils.py:164] Drew 10000 samples from 200 clusters.\n",
      "INFO     [utils.py:165] PTEV = 56.85928634781586, PREV = 15.1745533309323.\n"
     ]
    },
    {
     "name": "stdout",
     "output_type": "stream",
     "text": [
      "Experiment iteration: 2\n",
      "---------------------MERF----------------------\n"
     ]
    },
    {
     "name": "stderr",
     "output_type": "stream",
     "text": [
      "INFO     [merf.py:235] GLL is 533.0432225857395 at iteration 1.\n",
      "INFO     [merf.py:235] GLL is 485.09451767990913 at iteration 2.\n",
      "INFO     [merf.py:235] GLL is 477.6505977651617 at iteration 3.\n",
      "INFO     [merf.py:235] GLL is 474.3195214876638 at iteration 4.\n",
      "INFO     [merf.py:235] GLL is 461.56980846265384 at iteration 5.\n",
      "INFO     [merf.py:235] GLL is 468.8392455457718 at iteration 6.\n",
      "INFO     [merf.py:235] GLL is 462.4612668770985 at iteration 7.\n",
      "INFO     [merf.py:235] GLL is 459.46698389631393 at iteration 8.\n",
      "INFO     [merf.py:235] GLL is 462.5111000887986 at iteration 9.\n",
      "INFO     [merf.py:235] GLL is 449.745755521734 at iteration 10.\n",
      "INFO     [merf.py:235] GLL is 455.35897114663703 at iteration 11.\n",
      "INFO     [merf.py:235] GLL is 450.193714932646 at iteration 12.\n",
      "INFO     [merf.py:235] GLL is 455.60145826502617 at iteration 13.\n",
      "INFO     [merf.py:235] GLL is 449.3342418126774 at iteration 14.\n",
      "INFO     [merf.py:235] GLL is 451.1684116051804 at iteration 15.\n",
      "INFO     [merf.py:235] GLL is 446.51002711381255 at iteration 16.\n",
      "INFO     [merf.py:235] GLL is 454.38773737576565 at iteration 17.\n",
      "INFO     [merf.py:235] GLL is 450.80684864061374 at iteration 18.\n",
      "INFO     [merf.py:235] GLL is 451.48704327122283 at iteration 19.\n",
      "INFO     [merf.py:235] GLL is 456.7982650570782 at iteration 20.\n"
     ]
    },
    {
     "name": "stdout",
     "output_type": "stream",
     "text": [
      "---------------------Random Forest Fixed Effect Only----------------------\n",
      "---------------------Random Forest w OHE Cluster----------------------\n"
     ]
    },
    {
     "name": "stderr",
     "output_type": "stream",
     "text": [
      "/Users/souravdey/.virtualenvs/merf/lib/python3.6/site-packages/pandas/core/internals.py:490: RuntimeWarning: None of the categories were found in values. Did you mean to use\n",
      "'Categorical.from_codes(codes, categories)'?\n",
      "  return self.make_block(Categorical(self.values, **kwargs))\n",
      "INFO     [utils.py:164] Drew 10000 samples from 200 clusters.\n",
      "INFO     [utils.py:165] PTEV = 57.870738902480525, PREV = 14.559779915204668.\n"
     ]
    },
    {
     "name": "stdout",
     "output_type": "stream",
     "text": [
      "Experiment iteration: 3\n",
      "---------------------MERF----------------------"
     ]
    },
    {
     "name": "stderr",
     "output_type": "stream",
     "text": [
      "INFO     [merf.py:235] GLL is 543.511618807539 at iteration 1.\n",
      "INFO     [merf.py:235] GLL is 511.7324102464338 at iteration 2.\n",
      "INFO     [merf.py:235] GLL is 498.00854074533805 at iteration 3.\n",
      "INFO     [merf.py:235] GLL is 499.96383463183037 at iteration 4.\n",
      "INFO     [merf.py:235] GLL is 487.64665311314195 at iteration 5.\n",
      "INFO     [merf.py:235] GLL is 493.18227986373057 at iteration 6.\n",
      "INFO     [merf.py:235] GLL is 486.1267457259294 at iteration 7.\n",
      "INFO     [merf.py:235] GLL is 483.78239491636054 at iteration 8.\n",
      "INFO     [merf.py:235] GLL is 478.64034914845337 at iteration 9.\n",
      "INFO     [merf.py:235] GLL is 480.65618311553703 at iteration 10.\n",
      "INFO     [merf.py:235] GLL is 483.8323241809534 at iteration 11.\n",
      "INFO     [merf.py:235] GLL is 484.77507965261066 at iteration 12.\n",
      "INFO     [merf.py:235] GLL is 483.15543890596774 at iteration 13.\n",
      "INFO     [merf.py:235] GLL is 484.06780184834713 at iteration 14.\n",
      "INFO     [merf.py:235] GLL is 486.3576460528683 at iteration 15.\n",
      "INFO     [merf.py:235] GLL is 481.16694391573463 at iteration 16.\n",
      "INFO     [merf.py:235] GLL is 476.2142781089314 at iteration 17.\n",
      "INFO     [merf.py:235] GLL is 485.2676535924562 at iteration 18.\n",
      "INFO     [merf.py:235] GLL is 480.60791578698525 at iteration 19.\n",
      "INFO     [merf.py:235] GLL is 479.76769991808186 at iteration 20.\n"
     ]
    },
    {
     "name": "stdout",
     "output_type": "stream",
     "text": [
      "\n",
      "---------------------Random Forest Fixed Effect Only----------------------\n",
      "---------------------Random Forest w OHE Cluster----------------------\n"
     ]
    },
    {
     "name": "stderr",
     "output_type": "stream",
     "text": [
      "/Users/souravdey/.virtualenvs/merf/lib/python3.6/site-packages/pandas/core/internals.py:490: RuntimeWarning: None of the categories were found in values. Did you mean to use\n",
      "'Categorical.from_codes(codes, categories)'?\n",
      "  return self.make_block(Categorical(self.values, **kwargs))\n",
      "INFO     [utils.py:164] Drew 10000 samples from 200 clusters.\n",
      "INFO     [utils.py:165] PTEV = 56.59123204167314, PREV = 15.341163778290301.\n"
     ]
    },
    {
     "name": "stdout",
     "output_type": "stream",
     "text": [
      "Experiment iteration: 4\n",
      "---------------------MERF----------------------"
     ]
    },
    {
     "name": "stderr",
     "output_type": "stream",
     "text": [
      "INFO     [merf.py:235] GLL is 500.55510523803684 at iteration 1.\n",
      "INFO     [merf.py:235] GLL is 443.93707522706364 at iteration 2.\n",
      "INFO     [merf.py:235] GLL is 435.3906891060494 at iteration 3.\n",
      "INFO     [merf.py:235] GLL is 421.99843727508096 at iteration 4.\n",
      "INFO     [merf.py:235] GLL is 428.0453516746343 at iteration 5.\n",
      "INFO     [merf.py:235] GLL is 418.4929064883272 at iteration 6.\n",
      "INFO     [merf.py:235] GLL is 425.06514066356755 at iteration 7.\n",
      "INFO     [merf.py:235] GLL is 426.5499736170211 at iteration 8.\n",
      "INFO     [merf.py:235] GLL is 431.4242990573244 at iteration 9.\n",
      "INFO     [merf.py:235] GLL is 429.27525853992694 at iteration 10.\n",
      "INFO     [merf.py:235] GLL is 432.56545893518256 at iteration 11.\n",
      "INFO     [merf.py:235] GLL is 429.75726889884584 at iteration 12.\n",
      "INFO     [merf.py:235] GLL is 430.29512408770137 at iteration 13.\n",
      "INFO     [merf.py:235] GLL is 433.46564451818 at iteration 14.\n",
      "INFO     [merf.py:235] GLL is 430.1048995901162 at iteration 15.\n",
      "INFO     [merf.py:235] GLL is 426.0137176766925 at iteration 16.\n",
      "INFO     [merf.py:235] GLL is 424.30344292564166 at iteration 17.\n",
      "INFO     [merf.py:235] GLL is 417.7492069816313 at iteration 18.\n",
      "INFO     [merf.py:235] GLL is 424.42037045258064 at iteration 19.\n",
      "INFO     [merf.py:235] GLL is 422.7491858522567 at iteration 20.\n"
     ]
    },
    {
     "name": "stdout",
     "output_type": "stream",
     "text": [
      "\n",
      "---------------------Random Forest Fixed Effect Only----------------------\n",
      "---------------------Random Forest w OHE Cluster----------------------\n"
     ]
    },
    {
     "name": "stderr",
     "output_type": "stream",
     "text": [
      "/Users/souravdey/.virtualenvs/merf/lib/python3.6/site-packages/pandas/core/internals.py:490: RuntimeWarning: None of the categories were found in values. Did you mean to use\n",
      "'Categorical.from_codes(codes, categories)'?\n",
      "  return self.make_block(Categorical(self.values, **kwargs))\n",
      "INFO     [utils.py:164] Drew 10000 samples from 200 clusters.\n",
      "INFO     [utils.py:165] PTEV = 56.55308010572748, PREV = 15.365005694843628.\n"
     ]
    },
    {
     "name": "stdout",
     "output_type": "stream",
     "text": [
      "Experiment iteration: 5\n",
      "---------------------MERF----------------------\n"
     ]
    },
    {
     "name": "stderr",
     "output_type": "stream",
     "text": [
      "INFO     [merf.py:235] GLL is 567.7060010141951 at iteration 1.\n",
      "INFO     [merf.py:235] GLL is 499.5866755058598 at iteration 2.\n",
      "INFO     [merf.py:235] GLL is 485.2879411389421 at iteration 3.\n",
      "INFO     [merf.py:235] GLL is 474.90959476410285 at iteration 4.\n",
      "INFO     [merf.py:235] GLL is 462.21373423994766 at iteration 5.\n",
      "INFO     [merf.py:235] GLL is 465.7029278316701 at iteration 6.\n",
      "INFO     [merf.py:235] GLL is 455.5123621877015 at iteration 7.\n",
      "INFO     [merf.py:235] GLL is 460.09191292728684 at iteration 8.\n",
      "INFO     [merf.py:235] GLL is 462.93350991241783 at iteration 9.\n",
      "INFO     [merf.py:235] GLL is 439.9636523139591 at iteration 10.\n",
      "INFO     [merf.py:235] GLL is 448.7585465614825 at iteration 11.\n",
      "INFO     [merf.py:235] GLL is 441.4592345318964 at iteration 12.\n",
      "INFO     [merf.py:235] GLL is 441.67207826689247 at iteration 13.\n",
      "INFO     [merf.py:235] GLL is 441.5385479415431 at iteration 14.\n",
      "INFO     [merf.py:235] GLL is 436.8195965024114 at iteration 15.\n",
      "INFO     [merf.py:235] GLL is 433.64421537777025 at iteration 16.\n",
      "INFO     [merf.py:235] GLL is 436.891084939599 at iteration 17.\n",
      "INFO     [merf.py:235] GLL is 433.11988088253844 at iteration 18.\n",
      "INFO     [merf.py:235] GLL is 428.619783070602 at iteration 19.\n",
      "INFO     [merf.py:235] GLL is 431.8523836438462 at iteration 20.\n"
     ]
    },
    {
     "name": "stdout",
     "output_type": "stream",
     "text": [
      "---------------------Random Forest Fixed Effect Only----------------------\n",
      "---------------------Random Forest w OHE Cluster----------------------\n"
     ]
    },
    {
     "name": "stderr",
     "output_type": "stream",
     "text": [
      "/Users/souravdey/.virtualenvs/merf/lib/python3.6/site-packages/pandas/core/internals.py:490: RuntimeWarning: None of the categories were found in values. Did you mean to use\n",
      "'Categorical.from_codes(codes, categories)'?\n",
      "  return self.make_block(Categorical(self.values, **kwargs))\n",
      "INFO     [utils.py:164] Drew 10000 samples from 200 clusters.\n",
      "INFO     [utils.py:165] PTEV = 57.5471112838781, PREV = 14.754133706800015.\n"
     ]
    },
    {
     "name": "stdout",
     "output_type": "stream",
     "text": [
      "Experiment iteration: 6\n",
      "---------------------MERF----------------------"
     ]
    },
    {
     "name": "stderr",
     "output_type": "stream",
     "text": [
      "INFO     [merf.py:235] GLL is 562.8303513729719 at iteration 1.\n",
      "INFO     [merf.py:235] GLL is 514.1334513831168 at iteration 2.\n",
      "INFO     [merf.py:235] GLL is 502.9801013702477 at iteration 3.\n",
      "INFO     [merf.py:235] GLL is 499.62419085787815 at iteration 4.\n",
      "INFO     [merf.py:235] GLL is 498.5101384552644 at iteration 5.\n",
      "INFO     [merf.py:235] GLL is 494.83011909505433 at iteration 6.\n",
      "INFO     [merf.py:235] GLL is 490.07650515442 at iteration 7.\n",
      "INFO     [merf.py:235] GLL is 486.30257287814914 at iteration 8.\n",
      "INFO     [merf.py:235] GLL is 493.2086923662178 at iteration 9.\n",
      "INFO     [merf.py:235] GLL is 480.0837689737938 at iteration 10.\n",
      "INFO     [merf.py:235] GLL is 481.28692605113116 at iteration 11.\n",
      "INFO     [merf.py:235] GLL is 483.83665335673635 at iteration 12.\n",
      "INFO     [merf.py:235] GLL is 479.02492452274686 at iteration 13.\n",
      "INFO     [merf.py:235] GLL is 485.827527180574 at iteration 14.\n",
      "INFO     [merf.py:235] GLL is 475.3484750401233 at iteration 15.\n",
      "INFO     [merf.py:235] GLL is 492.141868189558 at iteration 16.\n",
      "INFO     [merf.py:235] GLL is 487.3427294079985 at iteration 17.\n",
      "INFO     [merf.py:235] GLL is 481.8132518952841 at iteration 18.\n",
      "INFO     [merf.py:235] GLL is 487.61102100634884 at iteration 19.\n",
      "INFO     [merf.py:235] GLL is 476.8783013218705 at iteration 20.\n"
     ]
    },
    {
     "name": "stdout",
     "output_type": "stream",
     "text": [
      "\n",
      "---------------------Random Forest Fixed Effect Only----------------------\n",
      "---------------------Random Forest w OHE Cluster----------------------\n"
     ]
    },
    {
     "name": "stderr",
     "output_type": "stream",
     "text": [
      "/Users/souravdey/.virtualenvs/merf/lib/python3.6/site-packages/pandas/core/internals.py:490: RuntimeWarning: None of the categories were found in values. Did you mean to use\n",
      "'Categorical.from_codes(codes, categories)'?\n",
      "  return self.make_block(Categorical(self.values, **kwargs))\n",
      "INFO     [utils.py:164] Drew 10000 samples from 200 clusters.\n",
      "INFO     [utils.py:165] PTEV = 55.89314858401958, PREV = 15.782561023442149.\n"
     ]
    },
    {
     "name": "stdout",
     "output_type": "stream",
     "text": [
      "Experiment iteration: 7\n",
      "---------------------MERF----------------------"
     ]
    },
    {
     "name": "stderr",
     "output_type": "stream",
     "text": [
      "INFO     [merf.py:235] GLL is 609.2065135846065 at iteration 1.\n",
      "INFO     [merf.py:235] GLL is 552.2540692296291 at iteration 2.\n",
      "INFO     [merf.py:235] GLL is 549.5194690828292 at iteration 3.\n",
      "INFO     [merf.py:235] GLL is 535.0458709917149 at iteration 4.\n",
      "INFO     [merf.py:235] GLL is 547.9037606806538 at iteration 5.\n",
      "INFO     [merf.py:235] GLL is 535.80166116891 at iteration 6.\n",
      "INFO     [merf.py:235] GLL is 533.7551777068942 at iteration 7.\n",
      "INFO     [merf.py:235] GLL is 524.4512850990095 at iteration 8.\n",
      "INFO     [merf.py:235] GLL is 531.4840049170888 at iteration 9.\n",
      "INFO     [merf.py:235] GLL is 532.0710425126325 at iteration 10.\n",
      "INFO     [merf.py:235] GLL is 531.355464193869 at iteration 11.\n",
      "INFO     [merf.py:235] GLL is 527.8795959390526 at iteration 12.\n",
      "INFO     [merf.py:235] GLL is 525.6800491913173 at iteration 13.\n",
      "INFO     [merf.py:235] GLL is 536.9539195999322 at iteration 14.\n",
      "INFO     [merf.py:235] GLL is 520.3462199978488 at iteration 15.\n",
      "INFO     [merf.py:235] GLL is 528.4179282743944 at iteration 16.\n",
      "INFO     [merf.py:235] GLL is 523.5472337741699 at iteration 17.\n",
      "INFO     [merf.py:235] GLL is 524.6314037192172 at iteration 18.\n",
      "INFO     [merf.py:235] GLL is 519.6623455838937 at iteration 19.\n",
      "INFO     [merf.py:235] GLL is 519.7628407997986 at iteration 20.\n"
     ]
    },
    {
     "name": "stdout",
     "output_type": "stream",
     "text": [
      "\n",
      "---------------------Random Forest Fixed Effect Only----------------------\n",
      "---------------------Random Forest w OHE Cluster----------------------\n"
     ]
    },
    {
     "name": "stderr",
     "output_type": "stream",
     "text": [
      "/Users/souravdey/.virtualenvs/merf/lib/python3.6/site-packages/pandas/core/internals.py:490: RuntimeWarning: None of the categories were found in values. Did you mean to use\n",
      "'Categorical.from_codes(codes, categories)'?\n",
      "  return self.make_block(Categorical(self.values, **kwargs))\n",
      "INFO     [utils.py:164] Drew 10000 samples from 200 clusters.\n",
      "INFO     [utils.py:165] PTEV = 56.68711792762977, PREV = 15.281384432938042.\n"
     ]
    },
    {
     "name": "stdout",
     "output_type": "stream",
     "text": [
      "Experiment iteration: 8\n",
      "---------------------MERF----------------------\n"
     ]
    },
    {
     "name": "stderr",
     "output_type": "stream",
     "text": [
      "INFO     [merf.py:235] GLL is 561.7325974219538 at iteration 1.\n",
      "INFO     [merf.py:235] GLL is 513.9682037352505 at iteration 2.\n",
      "INFO     [merf.py:235] GLL is 502.2999041087805 at iteration 3.\n",
      "INFO     [merf.py:235] GLL is 481.2355621855414 at iteration 4.\n",
      "INFO     [merf.py:235] GLL is 468.10432643774743 at iteration 5.\n",
      "INFO     [merf.py:235] GLL is 468.93120006580966 at iteration 6.\n",
      "INFO     [merf.py:235] GLL is 460.1013248997582 at iteration 7.\n",
      "INFO     [merf.py:235] GLL is 470.73425281028307 at iteration 8.\n",
      "INFO     [merf.py:235] GLL is 461.23620741475105 at iteration 9.\n",
      "INFO     [merf.py:235] GLL is 457.7717922972335 at iteration 10.\n",
      "INFO     [merf.py:235] GLL is 460.87241882200107 at iteration 11.\n",
      "INFO     [merf.py:235] GLL is 458.8868989986535 at iteration 12.\n",
      "INFO     [merf.py:235] GLL is 456.0141705349424 at iteration 13.\n",
      "INFO     [merf.py:235] GLL is 456.69439168801205 at iteration 14.\n",
      "INFO     [merf.py:235] GLL is 447.86258153609475 at iteration 15.\n",
      "INFO     [merf.py:235] GLL is 450.65080536383874 at iteration 16.\n",
      "INFO     [merf.py:235] GLL is 464.0166733372716 at iteration 17.\n",
      "INFO     [merf.py:235] GLL is 454.1262686010613 at iteration 18.\n",
      "INFO     [merf.py:235] GLL is 454.82969758564786 at iteration 19.\n",
      "INFO     [merf.py:235] GLL is 444.19767944689073 at iteration 20.\n"
     ]
    },
    {
     "name": "stdout",
     "output_type": "stream",
     "text": [
      "---------------------Random Forest Fixed Effect Only----------------------\n",
      "---------------------Random Forest w OHE Cluster----------------------\n"
     ]
    },
    {
     "name": "stderr",
     "output_type": "stream",
     "text": [
      "/Users/souravdey/.virtualenvs/merf/lib/python3.6/site-packages/pandas/core/internals.py:490: RuntimeWarning: None of the categories were found in values. Did you mean to use\n",
      "'Categorical.from_codes(codes, categories)'?\n",
      "  return self.make_block(Categorical(self.values, **kwargs))\n",
      "INFO     [utils.py:164] Drew 10000 samples from 200 clusters.\n",
      "INFO     [utils.py:165] PTEV = 56.51463364261468, PREV = 15.389064231532162.\n"
     ]
    },
    {
     "name": "stdout",
     "output_type": "stream",
     "text": [
      "Experiment iteration: 9\n",
      "---------------------MERF----------------------\n"
     ]
    },
    {
     "name": "stderr",
     "output_type": "stream",
     "text": [
      "INFO     [merf.py:235] GLL is 595.4417314057341 at iteration 1.\n",
      "INFO     [merf.py:235] GLL is 519.8832837175298 at iteration 2.\n",
      "INFO     [merf.py:235] GLL is 515.3582322679615 at iteration 3.\n",
      "INFO     [merf.py:235] GLL is 520.3569720930766 at iteration 4.\n",
      "INFO     [merf.py:235] GLL is 515.1109390803504 at iteration 5.\n",
      "INFO     [merf.py:235] GLL is 516.2562567665467 at iteration 6.\n",
      "INFO     [merf.py:235] GLL is 508.78041018516967 at iteration 7.\n",
      "INFO     [merf.py:235] GLL is 510.9267815404699 at iteration 8.\n",
      "INFO     [merf.py:235] GLL is 510.95547783185714 at iteration 9.\n",
      "INFO     [merf.py:235] GLL is 505.85549230240923 at iteration 10.\n",
      "INFO     [merf.py:235] GLL is 508.73628576560105 at iteration 11.\n",
      "INFO     [merf.py:235] GLL is 505.2055160509052 at iteration 12.\n",
      "INFO     [merf.py:235] GLL is 508.1496629563377 at iteration 13.\n",
      "INFO     [merf.py:235] GLL is 511.8402385732219 at iteration 14.\n",
      "INFO     [merf.py:235] GLL is 515.7158688299477 at iteration 15.\n",
      "INFO     [merf.py:235] GLL is 510.96133777656837 at iteration 16.\n",
      "INFO     [merf.py:235] GLL is 504.2421918336649 at iteration 17.\n",
      "INFO     [merf.py:235] GLL is 510.78567555154433 at iteration 18.\n",
      "INFO     [merf.py:235] GLL is 508.8914550419635 at iteration 19.\n",
      "INFO     [merf.py:235] GLL is 510.09659315308664 at iteration 20.\n"
     ]
    },
    {
     "name": "stdout",
     "output_type": "stream",
     "text": [
      "---------------------Random Forest Fixed Effect Only----------------------\n",
      "---------------------Random Forest w OHE Cluster----------------------\n"
     ]
    },
    {
     "name": "stderr",
     "output_type": "stream",
     "text": [
      "/Users/souravdey/.virtualenvs/merf/lib/python3.6/site-packages/pandas/core/internals.py:490: RuntimeWarning: None of the categories were found in values. Did you mean to use\n",
      "'Categorical.from_codes(codes, categories)'?\n",
      "  return self.make_block(Categorical(self.values, **kwargs))\n",
      "INFO     [utils.py:164] Drew 10000 samples from 200 clusters.\n",
      "INFO     [utils.py:165] PTEV = 62.13861617159869, PREV = 30.465261508113844.\n"
     ]
    },
    {
     "name": "stdout",
     "output_type": "stream",
     "text": [
      "Experiment iteration: 0\n",
      "---------------------MERF----------------------"
     ]
    },
    {
     "name": "stderr",
     "output_type": "stream",
     "text": [
      "INFO     [merf.py:235] GLL is 625.9750925612135 at iteration 1.\n",
      "INFO     [merf.py:235] GLL is 596.564412183505 at iteration 2.\n",
      "INFO     [merf.py:235] GLL is 588.3159218751641 at iteration 3.\n",
      "INFO     [merf.py:235] GLL is 590.2305945618853 at iteration 4.\n",
      "INFO     [merf.py:235] GLL is 588.5532838038812 at iteration 5.\n",
      "INFO     [merf.py:235] GLL is 595.3766020063794 at iteration 6.\n",
      "INFO     [merf.py:235] GLL is 580.3461863127133 at iteration 7.\n",
      "INFO     [merf.py:235] GLL is 587.7557490052503 at iteration 8.\n",
      "INFO     [merf.py:235] GLL is 585.9426116114404 at iteration 9.\n",
      "INFO     [merf.py:235] GLL is 590.4081172313047 at iteration 10.\n",
      "INFO     [merf.py:235] GLL is 589.3129807274572 at iteration 11.\n",
      "INFO     [merf.py:235] GLL is 590.9793027055166 at iteration 12.\n",
      "INFO     [merf.py:235] GLL is 591.1676292688051 at iteration 13.\n",
      "INFO     [merf.py:235] GLL is 583.2305711415817 at iteration 14.\n",
      "INFO     [merf.py:235] GLL is 595.1279706705398 at iteration 15.\n",
      "INFO     [merf.py:235] GLL is 583.1606844575648 at iteration 16.\n",
      "INFO     [merf.py:235] GLL is 593.9215528014906 at iteration 17.\n",
      "INFO     [merf.py:235] GLL is 592.9278031423909 at iteration 18.\n",
      "INFO     [merf.py:235] GLL is 588.4900234718692 at iteration 19.\n",
      "INFO     [merf.py:235] GLL is 589.800117499868 at iteration 20.\n"
     ]
    },
    {
     "name": "stdout",
     "output_type": "stream",
     "text": [
      "\n",
      "---------------------Random Forest Fixed Effect Only----------------------\n",
      "---------------------Random Forest w OHE Cluster----------------------\n"
     ]
    },
    {
     "name": "stderr",
     "output_type": "stream",
     "text": [
      "/Users/souravdey/.virtualenvs/merf/lib/python3.6/site-packages/pandas/core/internals.py:490: RuntimeWarning: None of the categories were found in values. Did you mean to use\n",
      "'Categorical.from_codes(codes, categories)'?\n",
      "  return self.make_block(Categorical(self.values, **kwargs))\n",
      "INFO     [utils.py:164] Drew 10000 samples from 200 clusters.\n",
      "INFO     [utils.py:165] PTEV = 61.80860384139386, PREV = 30.894886621778845.\n"
     ]
    },
    {
     "name": "stdout",
     "output_type": "stream",
     "text": [
      "Experiment iteration: 1\n",
      "---------------------MERF----------------------\n"
     ]
    },
    {
     "name": "stderr",
     "output_type": "stream",
     "text": [
      "INFO     [merf.py:235] GLL is 623.0905274035063 at iteration 1.\n",
      "INFO     [merf.py:235] GLL is 554.5560945622425 at iteration 2.\n",
      "INFO     [merf.py:235] GLL is 560.0592902106567 at iteration 3.\n",
      "INFO     [merf.py:235] GLL is 551.6806547315964 at iteration 4.\n",
      "INFO     [merf.py:235] GLL is 554.997412021629 at iteration 5.\n",
      "INFO     [merf.py:235] GLL is 564.3099909638998 at iteration 6.\n",
      "INFO     [merf.py:235] GLL is 556.9164350025109 at iteration 7.\n",
      "INFO     [merf.py:235] GLL is 553.9061059269376 at iteration 8.\n",
      "INFO     [merf.py:235] GLL is 552.8752104242029 at iteration 9.\n",
      "INFO     [merf.py:235] GLL is 557.7845518379244 at iteration 10.\n",
      "INFO     [merf.py:235] GLL is 560.6103770874439 at iteration 11.\n",
      "INFO     [merf.py:235] GLL is 554.2452844679941 at iteration 12.\n",
      "INFO     [merf.py:235] GLL is 552.4303450328961 at iteration 13.\n",
      "INFO     [merf.py:235] GLL is 557.2243753097397 at iteration 14.\n",
      "INFO     [merf.py:235] GLL is 557.4893247631737 at iteration 15.\n",
      "INFO     [merf.py:235] GLL is 552.7016512322296 at iteration 16.\n",
      "INFO     [merf.py:235] GLL is 555.3478754154625 at iteration 17.\n",
      "INFO     [merf.py:235] GLL is 552.8274728866604 at iteration 18.\n",
      "INFO     [merf.py:235] GLL is 554.5752351564264 at iteration 19.\n",
      "INFO     [merf.py:235] GLL is 553.120403456263 at iteration 20.\n"
     ]
    },
    {
     "name": "stdout",
     "output_type": "stream",
     "text": [
      "---------------------Random Forest Fixed Effect Only----------------------\n",
      "---------------------Random Forest w OHE Cluster----------------------\n"
     ]
    },
    {
     "name": "stderr",
     "output_type": "stream",
     "text": [
      "/Users/souravdey/.virtualenvs/merf/lib/python3.6/site-packages/pandas/core/internals.py:490: RuntimeWarning: None of the categories were found in values. Did you mean to use\n",
      "'Categorical.from_codes(codes, categories)'?\n",
      "  return self.make_block(Categorical(self.values, **kwargs))\n",
      "INFO     [utils.py:164] Drew 10000 samples from 200 clusters.\n",
      "INFO     [utils.py:165] PTEV = 61.223602055040175, PREV = 31.667850831530426.\n"
     ]
    },
    {
     "name": "stdout",
     "output_type": "stream",
     "text": [
      "Experiment iteration: 2\n",
      "---------------------MERF----------------------\n"
     ]
    },
    {
     "name": "stderr",
     "output_type": "stream",
     "text": [
      "INFO     [merf.py:235] GLL is 651.7754527265633 at iteration 1.\n",
      "INFO     [merf.py:235] GLL is 598.2897482475652 at iteration 2.\n",
      "INFO     [merf.py:235] GLL is 594.1109119783257 at iteration 3.\n",
      "INFO     [merf.py:235] GLL is 588.9690739120447 at iteration 4.\n",
      "INFO     [merf.py:235] GLL is 590.7306154968621 at iteration 5.\n",
      "INFO     [merf.py:235] GLL is 592.8827939632563 at iteration 6.\n",
      "INFO     [merf.py:235] GLL is 589.1528589507327 at iteration 7.\n",
      "INFO     [merf.py:235] GLL is 594.1000054898791 at iteration 8.\n",
      "INFO     [merf.py:235] GLL is 593.0730499056262 at iteration 9.\n",
      "INFO     [merf.py:235] GLL is 587.1113004256849 at iteration 10.\n",
      "INFO     [merf.py:235] GLL is 585.0607624260444 at iteration 11.\n",
      "INFO     [merf.py:235] GLL is 596.4386179605254 at iteration 12.\n",
      "INFO     [merf.py:235] GLL is 587.1107975404605 at iteration 13.\n",
      "INFO     [merf.py:235] GLL is 589.1922387543696 at iteration 14.\n",
      "INFO     [merf.py:235] GLL is 588.1112088425926 at iteration 15.\n",
      "INFO     [merf.py:235] GLL is 592.0137605690276 at iteration 16.\n",
      "INFO     [merf.py:235] GLL is 586.7708257184614 at iteration 17.\n",
      "INFO     [merf.py:235] GLL is 594.203192081871 at iteration 18.\n",
      "INFO     [merf.py:235] GLL is 594.3737024632416 at iteration 19.\n",
      "INFO     [merf.py:235] GLL is 590.7813609566949 at iteration 20.\n"
     ]
    },
    {
     "name": "stdout",
     "output_type": "stream",
     "text": [
      "---------------------Random Forest Fixed Effect Only----------------------\n",
      "---------------------Random Forest w OHE Cluster----------------------\n"
     ]
    },
    {
     "name": "stderr",
     "output_type": "stream",
     "text": [
      "/Users/souravdey/.virtualenvs/merf/lib/python3.6/site-packages/pandas/core/internals.py:490: RuntimeWarning: None of the categories were found in values. Did you mean to use\n",
      "'Categorical.from_codes(codes, categories)'?\n",
      "  return self.make_block(Categorical(self.values, **kwargs))\n",
      "INFO     [utils.py:164] Drew 10000 samples from 200 clusters.\n",
      "INFO     [utils.py:165] PTEV = 61.98173685864584, PREV = 30.668923676709607.\n"
     ]
    },
    {
     "name": "stdout",
     "output_type": "stream",
     "text": [
      "Experiment iteration: 3\n",
      "---------------------MERF----------------------"
     ]
    },
    {
     "name": "stderr",
     "output_type": "stream",
     "text": [
      "INFO     [merf.py:235] GLL is 625.1718730491453 at iteration 1.\n",
      "INFO     [merf.py:235] GLL is 584.3958434978531 at iteration 2.\n",
      "INFO     [merf.py:235] GLL is 575.1687490496363 at iteration 3.\n",
      "INFO     [merf.py:235] GLL is 581.9024350693019 at iteration 4.\n",
      "INFO     [merf.py:235] GLL is 575.7087749642801 at iteration 5.\n",
      "INFO     [merf.py:235] GLL is 584.674305531896 at iteration 6.\n",
      "INFO     [merf.py:235] GLL is 577.1467991555871 at iteration 7.\n",
      "INFO     [merf.py:235] GLL is 581.6942375349611 at iteration 8.\n",
      "INFO     [merf.py:235] GLL is 580.2690201582128 at iteration 9.\n",
      "INFO     [merf.py:235] GLL is 581.9861859258186 at iteration 10.\n",
      "INFO     [merf.py:235] GLL is 581.1934662081109 at iteration 11.\n",
      "INFO     [merf.py:235] GLL is 581.6304808949615 at iteration 12.\n",
      "INFO     [merf.py:235] GLL is 576.7239411017997 at iteration 13.\n",
      "INFO     [merf.py:235] GLL is 584.0837946728301 at iteration 14.\n",
      "INFO     [merf.py:235] GLL is 571.4365692655316 at iteration 15.\n",
      "INFO     [merf.py:235] GLL is 580.6265710879672 at iteration 16.\n",
      "INFO     [merf.py:235] GLL is 578.9737646047716 at iteration 17.\n",
      "INFO     [merf.py:235] GLL is 577.1114027375909 at iteration 18.\n",
      "INFO     [merf.py:235] GLL is 576.0478342159878 at iteration 19.\n",
      "INFO     [merf.py:235] GLL is 580.5018686105551 at iteration 20.\n"
     ]
    },
    {
     "name": "stdout",
     "output_type": "stream",
     "text": [
      "\n",
      "---------------------Random Forest Fixed Effect Only----------------------\n",
      "---------------------Random Forest w OHE Cluster----------------------\n"
     ]
    },
    {
     "name": "stderr",
     "output_type": "stream",
     "text": [
      "/Users/souravdey/.virtualenvs/merf/lib/python3.6/site-packages/pandas/core/internals.py:490: RuntimeWarning: None of the categories were found in values. Did you mean to use\n",
      "'Categorical.from_codes(codes, categories)'?\n",
      "  return self.make_block(Categorical(self.values, **kwargs))\n",
      "INFO     [utils.py:164] Drew 10000 samples from 200 clusters.\n",
      "INFO     [utils.py:165] PTEV = 61.993581725692536, PREV = 30.653510586367798.\n"
     ]
    },
    {
     "name": "stdout",
     "output_type": "stream",
     "text": [
      "Experiment iteration: 4\n",
      "---------------------MERF----------------------"
     ]
    },
    {
     "name": "stderr",
     "output_type": "stream",
     "text": [
      "INFO     [merf.py:235] GLL is 675.6880399859572 at iteration 1.\n",
      "INFO     [merf.py:235] GLL is 634.1613867474151 at iteration 2.\n",
      "INFO     [merf.py:235] GLL is 630.9532259594877 at iteration 3.\n",
      "INFO     [merf.py:235] GLL is 629.6365996638831 at iteration 4.\n",
      "INFO     [merf.py:235] GLL is 624.9339709462026 at iteration 5.\n",
      "INFO     [merf.py:235] GLL is 606.0545273754066 at iteration 6.\n",
      "INFO     [merf.py:235] GLL is 621.6539567480219 at iteration 7.\n",
      "INFO     [merf.py:235] GLL is 622.221865137905 at iteration 8.\n",
      "INFO     [merf.py:235] GLL is 625.298956053159 at iteration 9.\n",
      "INFO     [merf.py:235] GLL is 614.8681984065764 at iteration 10.\n",
      "INFO     [merf.py:235] GLL is 611.0613789755005 at iteration 11.\n",
      "INFO     [merf.py:235] GLL is 617.3233516388126 at iteration 12.\n",
      "INFO     [merf.py:235] GLL is 617.8108168531244 at iteration 13.\n",
      "INFO     [merf.py:235] GLL is 624.695124782482 at iteration 14.\n",
      "INFO     [merf.py:235] GLL is 625.1329456068889 at iteration 15.\n",
      "INFO     [merf.py:235] GLL is 619.8139798010081 at iteration 16.\n",
      "INFO     [merf.py:235] GLL is 619.2005477531517 at iteration 17.\n",
      "INFO     [merf.py:235] GLL is 619.30670059434 at iteration 18.\n",
      "INFO     [merf.py:235] GLL is 617.5658886720624 at iteration 19.\n",
      "INFO     [merf.py:235] GLL is 617.2482155119719 at iteration 20.\n"
     ]
    },
    {
     "name": "stdout",
     "output_type": "stream",
     "text": [
      "\n",
      "---------------------Random Forest Fixed Effect Only----------------------\n",
      "---------------------Random Forest w OHE Cluster----------------------\n"
     ]
    },
    {
     "name": "stderr",
     "output_type": "stream",
     "text": [
      "/Users/souravdey/.virtualenvs/merf/lib/python3.6/site-packages/pandas/core/internals.py:490: RuntimeWarning: None of the categories were found in values. Did you mean to use\n",
      "'Categorical.from_codes(codes, categories)'?\n",
      "  return self.make_block(Categorical(self.values, **kwargs))\n",
      "INFO     [utils.py:164] Drew 10000 samples from 200 clusters.\n",
      "INFO     [utils.py:165] PTEV = 62.67714077055948, PREV = 29.773900636331923.\n"
     ]
    },
    {
     "name": "stdout",
     "output_type": "stream",
     "text": [
      "Experiment iteration: 5\n",
      "---------------------MERF----------------------\n"
     ]
    },
    {
     "name": "stderr",
     "output_type": "stream",
     "text": [
      "INFO     [merf.py:235] GLL is 541.1633197520867 at iteration 1.\n",
      "INFO     [merf.py:235] GLL is 464.65782472716626 at iteration 2.\n",
      "INFO     [merf.py:235] GLL is 466.0046522685308 at iteration 3.\n",
      "INFO     [merf.py:235] GLL is 457.42941435542156 at iteration 4.\n",
      "INFO     [merf.py:235] GLL is 463.5053651590422 at iteration 5.\n",
      "INFO     [merf.py:235] GLL is 459.36701385503693 at iteration 6.\n",
      "INFO     [merf.py:235] GLL is 458.91685958741334 at iteration 7.\n",
      "INFO     [merf.py:235] GLL is 461.22107483444506 at iteration 8.\n",
      "INFO     [merf.py:235] GLL is 466.46452608387904 at iteration 9.\n",
      "INFO     [merf.py:235] GLL is 462.99848141162386 at iteration 10.\n",
      "INFO     [merf.py:235] GLL is 467.9594962305861 at iteration 11.\n",
      "INFO     [merf.py:235] GLL is 470.4217601940708 at iteration 12.\n",
      "INFO     [merf.py:235] GLL is 466.1907863860521 at iteration 13.\n",
      "INFO     [merf.py:235] GLL is 466.03639986120015 at iteration 14.\n",
      "INFO     [merf.py:235] GLL is 466.28801591960706 at iteration 15.\n",
      "INFO     [merf.py:235] GLL is 463.21639589688056 at iteration 16.\n",
      "INFO     [merf.py:235] GLL is 467.26555655043506 at iteration 17.\n",
      "INFO     [merf.py:235] GLL is 464.9370101854552 at iteration 18.\n",
      "INFO     [merf.py:235] GLL is 467.0059759881543 at iteration 19.\n",
      "INFO     [merf.py:235] GLL is 457.68428622080387 at iteration 20.\n"
     ]
    },
    {
     "name": "stdout",
     "output_type": "stream",
     "text": [
      "---------------------Random Forest Fixed Effect Only----------------------\n",
      "---------------------Random Forest w OHE Cluster----------------------\n"
     ]
    },
    {
     "name": "stderr",
     "output_type": "stream",
     "text": [
      "/Users/souravdey/.virtualenvs/merf/lib/python3.6/site-packages/pandas/core/internals.py:490: RuntimeWarning: None of the categories were found in values. Did you mean to use\n",
      "'Categorical.from_codes(codes, categories)'?\n",
      "  return self.make_block(Categorical(self.values, **kwargs))\n",
      "INFO     [utils.py:164] Drew 10000 samples from 200 clusters.\n",
      "INFO     [utils.py:165] PTEV = 62.117399833859736, PREV = 30.49274459930851.\n"
     ]
    },
    {
     "name": "stdout",
     "output_type": "stream",
     "text": [
      "Experiment iteration: 6\n",
      "---------------------MERF----------------------"
     ]
    },
    {
     "name": "stderr",
     "output_type": "stream",
     "text": [
      "INFO     [merf.py:235] GLL is 590.0922048061328 at iteration 1.\n",
      "INFO     [merf.py:235] GLL is 529.8354045064741 at iteration 2.\n",
      "INFO     [merf.py:235] GLL is 520.9013311461996 at iteration 3.\n",
      "INFO     [merf.py:235] GLL is 526.2985234061499 at iteration 4.\n",
      "INFO     [merf.py:235] GLL is 525.1713298172276 at iteration 5.\n",
      "INFO     [merf.py:235] GLL is 522.0077829412761 at iteration 6.\n",
      "INFO     [merf.py:235] GLL is 528.525133328346 at iteration 7.\n",
      "INFO     [merf.py:235] GLL is 521.1143256163245 at iteration 8.\n",
      "INFO     [merf.py:235] GLL is 524.6081991052156 at iteration 9.\n",
      "INFO     [merf.py:235] GLL is 517.5699895921606 at iteration 10.\n",
      "INFO     [merf.py:235] GLL is 517.4698997356097 at iteration 11.\n",
      "INFO     [merf.py:235] GLL is 516.5823495402936 at iteration 12.\n",
      "INFO     [merf.py:235] GLL is 523.5890334251778 at iteration 13.\n",
      "INFO     [merf.py:235] GLL is 525.9374577064513 at iteration 14.\n",
      "INFO     [merf.py:235] GLL is 524.8400596103346 at iteration 15.\n",
      "INFO     [merf.py:235] GLL is 525.9075244878368 at iteration 16.\n",
      "INFO     [merf.py:235] GLL is 526.2598022680037 at iteration 17.\n",
      "INFO     [merf.py:235] GLL is 522.5718705437905 at iteration 18.\n",
      "INFO     [merf.py:235] GLL is 520.6391417723029 at iteration 19.\n",
      "INFO     [merf.py:235] GLL is 522.3553447378366 at iteration 20.\n"
     ]
    },
    {
     "name": "stdout",
     "output_type": "stream",
     "text": [
      "\n",
      "---------------------Random Forest Fixed Effect Only----------------------\n",
      "---------------------Random Forest w OHE Cluster----------------------\n"
     ]
    },
    {
     "name": "stderr",
     "output_type": "stream",
     "text": [
      "/Users/souravdey/.virtualenvs/merf/lib/python3.6/site-packages/pandas/core/internals.py:490: RuntimeWarning: None of the categories were found in values. Did you mean to use\n",
      "'Categorical.from_codes(codes, categories)'?\n",
      "  return self.make_block(Categorical(self.values, **kwargs))\n",
      "INFO     [utils.py:164] Drew 10000 samples from 200 clusters.\n",
      "INFO     [utils.py:165] PTEV = 61.746359211526844, PREV = 30.976434300706064.\n"
     ]
    },
    {
     "name": "stdout",
     "output_type": "stream",
     "text": [
      "Experiment iteration: 7\n",
      "---------------------MERF----------------------\n"
     ]
    },
    {
     "name": "stderr",
     "output_type": "stream",
     "text": [
      "INFO     [merf.py:235] GLL is 603.1721742687204 at iteration 1.\n",
      "INFO     [merf.py:235] GLL is 566.5167520929643 at iteration 2.\n",
      "INFO     [merf.py:235] GLL is 571.5932862062591 at iteration 3.\n",
      "INFO     [merf.py:235] GLL is 558.847165798188 at iteration 4.\n",
      "INFO     [merf.py:235] GLL is 548.6331342118268 at iteration 5.\n",
      "INFO     [merf.py:235] GLL is 548.3603282481996 at iteration 6.\n",
      "INFO     [merf.py:235] GLL is 545.2182106980104 at iteration 7.\n",
      "INFO     [merf.py:235] GLL is 545.5773976324206 at iteration 8.\n",
      "INFO     [merf.py:235] GLL is 554.4568961479166 at iteration 9.\n",
      "INFO     [merf.py:235] GLL is 540.1209579851427 at iteration 10.\n",
      "INFO     [merf.py:235] GLL is 553.0442509424867 at iteration 11.\n",
      "INFO     [merf.py:235] GLL is 548.317055771995 at iteration 12.\n",
      "INFO     [merf.py:235] GLL is 554.6958517036064 at iteration 13.\n",
      "INFO     [merf.py:235] GLL is 549.34878947961 at iteration 14.\n",
      "INFO     [merf.py:235] GLL is 548.1280382878133 at iteration 15.\n",
      "INFO     [merf.py:235] GLL is 553.0019404914067 at iteration 16.\n",
      "INFO     [merf.py:235] GLL is 541.8692576337484 at iteration 17.\n",
      "INFO     [merf.py:235] GLL is 542.7363374342383 at iteration 18.\n",
      "INFO     [merf.py:235] GLL is 551.3392486790832 at iteration 19.\n",
      "INFO     [merf.py:235] GLL is 547.3725964602853 at iteration 20.\n"
     ]
    },
    {
     "name": "stdout",
     "output_type": "stream",
     "text": [
      "---------------------Random Forest Fixed Effect Only----------------------\n",
      "---------------------Random Forest w OHE Cluster----------------------\n"
     ]
    },
    {
     "name": "stderr",
     "output_type": "stream",
     "text": [
      "/Users/souravdey/.virtualenvs/merf/lib/python3.6/site-packages/pandas/core/internals.py:490: RuntimeWarning: None of the categories were found in values. Did you mean to use\n",
      "'Categorical.from_codes(codes, categories)'?\n",
      "  return self.make_block(Categorical(self.values, **kwargs))\n",
      "INFO     [utils.py:164] Drew 10000 samples from 200 clusters.\n",
      "INFO     [utils.py:165] PTEV = 61.967961397583835, PREV = 30.686856356629367.\n"
     ]
    },
    {
     "name": "stdout",
     "output_type": "stream",
     "text": [
      "Experiment iteration: 8\n",
      "---------------------MERF----------------------"
     ]
    },
    {
     "name": "stderr",
     "output_type": "stream",
     "text": [
      "INFO     [merf.py:235] GLL is 601.7068362646874 at iteration 1.\n",
      "INFO     [merf.py:235] GLL is 546.2469468371089 at iteration 2.\n",
      "INFO     [merf.py:235] GLL is 534.469601772895 at iteration 3.\n",
      "INFO     [merf.py:235] GLL is 536.4121439870202 at iteration 4.\n",
      "INFO     [merf.py:235] GLL is 529.7341615440768 at iteration 5.\n",
      "INFO     [merf.py:235] GLL is 527.080273077505 at iteration 6.\n",
      "INFO     [merf.py:235] GLL is 529.6990207346971 at iteration 7.\n",
      "INFO     [merf.py:235] GLL is 536.4318540703994 at iteration 8.\n",
      "INFO     [merf.py:235] GLL is 530.669131125126 at iteration 9.\n",
      "INFO     [merf.py:235] GLL is 533.1733239874068 at iteration 10.\n",
      "INFO     [merf.py:235] GLL is 534.4698713702372 at iteration 11.\n",
      "INFO     [merf.py:235] GLL is 535.2428983894418 at iteration 12.\n",
      "INFO     [merf.py:235] GLL is 528.172036947191 at iteration 13.\n",
      "INFO     [merf.py:235] GLL is 531.3668982894852 at iteration 14.\n",
      "INFO     [merf.py:235] GLL is 531.5285322839608 at iteration 15.\n",
      "INFO     [merf.py:235] GLL is 542.1869352010756 at iteration 16.\n",
      "INFO     [merf.py:235] GLL is 533.3627892982017 at iteration 17.\n",
      "INFO     [merf.py:235] GLL is 529.1078274186178 at iteration 18.\n",
      "INFO     [merf.py:235] GLL is 529.6724356341775 at iteration 19.\n",
      "INFO     [merf.py:235] GLL is 530.5804687003757 at iteration 20.\n"
     ]
    },
    {
     "name": "stdout",
     "output_type": "stream",
     "text": [
      "\n",
      "---------------------Random Forest Fixed Effect Only----------------------\n",
      "---------------------Random Forest w OHE Cluster----------------------\n"
     ]
    },
    {
     "name": "stderr",
     "output_type": "stream",
     "text": [
      "/Users/souravdey/.virtualenvs/merf/lib/python3.6/site-packages/pandas/core/internals.py:490: RuntimeWarning: None of the categories were found in values. Did you mean to use\n",
      "'Categorical.from_codes(codes, categories)'?\n",
      "  return self.make_block(Categorical(self.values, **kwargs))\n",
      "INFO     [utils.py:164] Drew 10000 samples from 200 clusters.\n",
      "INFO     [utils.py:165] PTEV = 61.612009140503964, PREV = 31.153010099016264.\n"
     ]
    },
    {
     "name": "stdout",
     "output_type": "stream",
     "text": [
      "Experiment iteration: 9\n",
      "---------------------MERF----------------------"
     ]
    },
    {
     "name": "stderr",
     "output_type": "stream",
     "text": [
      "INFO     [merf.py:235] GLL is 651.8927245237586 at iteration 1.\n",
      "INFO     [merf.py:235] GLL is 585.9528973235871 at iteration 2.\n",
      "INFO     [merf.py:235] GLL is 588.9402483441577 at iteration 3.\n",
      "INFO     [merf.py:235] GLL is 589.8058484733358 at iteration 4.\n",
      "INFO     [merf.py:235] GLL is 596.8101969462685 at iteration 5.\n",
      "INFO     [merf.py:235] GLL is 589.60812789519 at iteration 6.\n",
      "INFO     [merf.py:235] GLL is 591.8500507255922 at iteration 7.\n",
      "INFO     [merf.py:235] GLL is 595.9008269935402 at iteration 8.\n",
      "INFO     [merf.py:235] GLL is 596.0933697666612 at iteration 9.\n",
      "INFO     [merf.py:235] GLL is 589.9675765946575 at iteration 10.\n",
      "INFO     [merf.py:235] GLL is 594.9997918632885 at iteration 11.\n",
      "INFO     [merf.py:235] GLL is 592.7889919548919 at iteration 12.\n",
      "INFO     [merf.py:235] GLL is 601.6463660192852 at iteration 13.\n",
      "INFO     [merf.py:235] GLL is 599.5434128167193 at iteration 14.\n",
      "INFO     [merf.py:235] GLL is 598.0311024662667 at iteration 15.\n",
      "INFO     [merf.py:235] GLL is 591.9072282389885 at iteration 16.\n",
      "INFO     [merf.py:235] GLL is 597.7551966021912 at iteration 17.\n",
      "INFO     [merf.py:235] GLL is 600.105971622187 at iteration 18.\n",
      "INFO     [merf.py:235] GLL is 592.8496098394586 at iteration 19.\n",
      "INFO     [merf.py:235] GLL is 597.138689352776 at iteration 20.\n"
     ]
    },
    {
     "name": "stdout",
     "output_type": "stream",
     "text": [
      "\n",
      "---------------------Random Forest Fixed Effect Only----------------------\n",
      "---------------------Random Forest w OHE Cluster----------------------\n"
     ]
    },
    {
     "name": "stderr",
     "output_type": "stream",
     "text": [
      "/Users/souravdey/.virtualenvs/merf/lib/python3.6/site-packages/pandas/core/internals.py:490: RuntimeWarning: None of the categories were found in values. Did you mean to use\n",
      "'Categorical.from_codes(codes, categories)'?\n",
      "  return self.make_block(Categorical(self.values, **kwargs))\n",
      "INFO     [utils.py:164] Drew 10000 samples from 200 clusters.\n",
      "INFO     [utils.py:165] PTEV = 56.30724125485358, PREV = 62.07764084535777.\n"
     ]
    },
    {
     "name": "stdout",
     "output_type": "stream",
     "text": [
      "Experiment iteration: 0\n",
      "---------------------MERF----------------------"
     ]
    },
    {
     "name": "stderr",
     "output_type": "stream",
     "text": [
      "INFO     [merf.py:235] GLL is 573.5857147588421 at iteration 1.\n",
      "INFO     [merf.py:235] GLL is 531.4572311088641 at iteration 2.\n",
      "INFO     [merf.py:235] GLL is 527.5001353795222 at iteration 3.\n",
      "INFO     [merf.py:235] GLL is 528.4440551108727 at iteration 4.\n",
      "INFO     [merf.py:235] GLL is 526.4683660969405 at iteration 5.\n",
      "INFO     [merf.py:235] GLL is 527.9374021244801 at iteration 6.\n",
      "INFO     [merf.py:235] GLL is 527.6427821250052 at iteration 7.\n",
      "INFO     [merf.py:235] GLL is 530.4657825276913 at iteration 8.\n",
      "INFO     [merf.py:235] GLL is 524.2083033687334 at iteration 9.\n",
      "INFO     [merf.py:235] GLL is 521.7729366006521 at iteration 10.\n",
      "INFO     [merf.py:235] GLL is 529.0790459830652 at iteration 11.\n",
      "INFO     [merf.py:235] GLL is 531.1613116842642 at iteration 12.\n",
      "INFO     [merf.py:235] GLL is 534.3678548660233 at iteration 13.\n",
      "INFO     [merf.py:235] GLL is 524.7234888033738 at iteration 14.\n",
      "INFO     [merf.py:235] GLL is 528.6369400020429 at iteration 15.\n",
      "INFO     [merf.py:235] GLL is 528.0704647538437 at iteration 16.\n",
      "INFO     [merf.py:235] GLL is 529.0757796899011 at iteration 17.\n",
      "INFO     [merf.py:235] GLL is 525.8000963339956 at iteration 18.\n",
      "INFO     [merf.py:235] GLL is 529.9928435131553 at iteration 19.\n",
      "INFO     [merf.py:235] GLL is 526.7041499007619 at iteration 20.\n"
     ]
    },
    {
     "name": "stdout",
     "output_type": "stream",
     "text": [
      "\n",
      "---------------------Random Forest Fixed Effect Only----------------------\n",
      "---------------------Random Forest w OHE Cluster----------------------\n"
     ]
    },
    {
     "name": "stderr",
     "output_type": "stream",
     "text": [
      "/Users/souravdey/.virtualenvs/merf/lib/python3.6/site-packages/pandas/core/internals.py:490: RuntimeWarning: None of the categories were found in values. Did you mean to use\n",
      "'Categorical.from_codes(codes, categories)'?\n",
      "  return self.make_block(Categorical(self.values, **kwargs))\n",
      "INFO     [utils.py:164] Drew 10000 samples from 200 clusters.\n",
      "INFO     [utils.py:165] PTEV = 56.33531331006473, PREV = 62.006843131743786.\n"
     ]
    },
    {
     "name": "stdout",
     "output_type": "stream",
     "text": [
      "Experiment iteration: 1\n",
      "---------------------MERF----------------------\n"
     ]
    },
    {
     "name": "stderr",
     "output_type": "stream",
     "text": [
      "INFO     [merf.py:235] GLL is 603.0857135110849 at iteration 1.\n",
      "INFO     [merf.py:235] GLL is 562.4559218847661 at iteration 2.\n",
      "INFO     [merf.py:235] GLL is 576.617453538735 at iteration 3.\n",
      "INFO     [merf.py:235] GLL is 572.7908712037844 at iteration 4.\n",
      "INFO     [merf.py:235] GLL is 569.8512253370003 at iteration 5.\n",
      "INFO     [merf.py:235] GLL is 570.7050225015871 at iteration 6.\n",
      "INFO     [merf.py:235] GLL is 571.3255962534711 at iteration 7.\n",
      "INFO     [merf.py:235] GLL is 570.1709038141846 at iteration 8.\n",
      "INFO     [merf.py:235] GLL is 569.3468986961476 at iteration 9.\n",
      "INFO     [merf.py:235] GLL is 563.7634570419381 at iteration 10.\n",
      "INFO     [merf.py:235] GLL is 564.0562804516113 at iteration 11.\n",
      "INFO     [merf.py:235] GLL is 562.729846364755 at iteration 12.\n",
      "INFO     [merf.py:235] GLL is 560.8441060274502 at iteration 13.\n",
      "INFO     [merf.py:235] GLL is 573.7971803274219 at iteration 14.\n",
      "INFO     [merf.py:235] GLL is 556.7292249139555 at iteration 15.\n",
      "INFO     [merf.py:235] GLL is 562.099528257755 at iteration 16.\n",
      "INFO     [merf.py:235] GLL is 571.030501623894 at iteration 17.\n",
      "INFO     [merf.py:235] GLL is 561.0804746866008 at iteration 18.\n",
      "INFO     [merf.py:235] GLL is 567.1088620614697 at iteration 19.\n",
      "INFO     [merf.py:235] GLL is 561.8660061827059 at iteration 20.\n"
     ]
    },
    {
     "name": "stdout",
     "output_type": "stream",
     "text": [
      "---------------------Random Forest Fixed Effect Only----------------------\n",
      "---------------------Random Forest w OHE Cluster----------------------\n"
     ]
    },
    {
     "name": "stderr",
     "output_type": "stream",
     "text": [
      "/Users/souravdey/.virtualenvs/merf/lib/python3.6/site-packages/pandas/core/internals.py:490: RuntimeWarning: None of the categories were found in values. Did you mean to use\n",
      "'Categorical.from_codes(codes, categories)'?\n",
      "  return self.make_block(Categorical(self.values, **kwargs))\n",
      "INFO     [utils.py:164] Drew 10000 samples from 200 clusters.\n",
      "INFO     [utils.py:165] PTEV = 56.697070646564406, PREV = 61.100764268228815.\n"
     ]
    },
    {
     "name": "stdout",
     "output_type": "stream",
     "text": [
      "Experiment iteration: 2\n",
      "---------------------MERF----------------------"
     ]
    },
    {
     "name": "stderr",
     "output_type": "stream",
     "text": [
      "INFO     [merf.py:235] GLL is 640.2221184797928 at iteration 1.\n",
      "INFO     [merf.py:235] GLL is 585.0519845544652 at iteration 2.\n",
      "INFO     [merf.py:235] GLL is 582.44957722095 at iteration 3.\n",
      "INFO     [merf.py:235] GLL is 586.4470510069333 at iteration 4.\n",
      "INFO     [merf.py:235] GLL is 588.2503576696813 at iteration 5.\n",
      "INFO     [merf.py:235] GLL is 578.6062713427817 at iteration 6.\n",
      "INFO     [merf.py:235] GLL is 584.0227668527814 at iteration 7.\n",
      "INFO     [merf.py:235] GLL is 579.2888087281776 at iteration 8.\n",
      "INFO     [merf.py:235] GLL is 581.3605327682783 at iteration 9.\n",
      "INFO     [merf.py:235] GLL is 580.414121435347 at iteration 10.\n",
      "INFO     [merf.py:235] GLL is 582.5194086364749 at iteration 11.\n",
      "INFO     [merf.py:235] GLL is 588.8839204906017 at iteration 12.\n",
      "INFO     [merf.py:235] GLL is 584.0854669046497 at iteration 13.\n",
      "INFO     [merf.py:235] GLL is 584.9189012812565 at iteration 14.\n",
      "INFO     [merf.py:235] GLL is 587.9386257584042 at iteration 15.\n",
      "INFO     [merf.py:235] GLL is 585.30146850859 at iteration 16.\n",
      "INFO     [merf.py:235] GLL is 585.997069098292 at iteration 17.\n",
      "INFO     [merf.py:235] GLL is 586.3840694552804 at iteration 18.\n",
      "INFO     [merf.py:235] GLL is 585.1659883926395 at iteration 19.\n",
      "INFO     [merf.py:235] GLL is 584.6110998754001 at iteration 20.\n"
     ]
    },
    {
     "name": "stdout",
     "output_type": "stream",
     "text": [
      "\n",
      "---------------------Random Forest Fixed Effect Only----------------------\n",
      "---------------------Random Forest w OHE Cluster----------------------\n"
     ]
    },
    {
     "name": "stderr",
     "output_type": "stream",
     "text": [
      "/Users/souravdey/.virtualenvs/merf/lib/python3.6/site-packages/pandas/core/internals.py:490: RuntimeWarning: None of the categories were found in values. Did you mean to use\n",
      "'Categorical.from_codes(codes, categories)'?\n",
      "  return self.make_block(Categorical(self.values, **kwargs))\n",
      "INFO     [utils.py:164] Drew 10000 samples from 200 clusters.\n",
      "INFO     [utils.py:165] PTEV = 57.009834033730435, PREV = 60.32666706706635.\n"
     ]
    },
    {
     "name": "stdout",
     "output_type": "stream",
     "text": [
      "Experiment iteration: 3\n",
      "---------------------MERF----------------------"
     ]
    },
    {
     "name": "stderr",
     "output_type": "stream",
     "text": [
      "INFO     [merf.py:235] GLL is 660.5303895611822 at iteration 1.\n",
      "INFO     [merf.py:235] GLL is 581.6506346231492 at iteration 2.\n",
      "INFO     [merf.py:235] GLL is 589.4575404882038 at iteration 3.\n",
      "INFO     [merf.py:235] GLL is 575.5245587971496 at iteration 4.\n",
      "INFO     [merf.py:235] GLL is 581.0030548881765 at iteration 5.\n",
      "INFO     [merf.py:235] GLL is 582.1734325943495 at iteration 6.\n",
      "INFO     [merf.py:235] GLL is 583.6537459253225 at iteration 7.\n",
      "INFO     [merf.py:235] GLL is 587.0468358834834 at iteration 8.\n",
      "INFO     [merf.py:235] GLL is 581.70778211932 at iteration 9.\n",
      "INFO     [merf.py:235] GLL is 586.4474193086355 at iteration 10.\n",
      "INFO     [merf.py:235] GLL is 581.3631510603869 at iteration 11.\n",
      "INFO     [merf.py:235] GLL is 584.3426842192448 at iteration 12.\n",
      "INFO     [merf.py:235] GLL is 583.6041082668631 at iteration 13.\n",
      "INFO     [merf.py:235] GLL is 575.6236183117214 at iteration 14.\n",
      "INFO     [merf.py:235] GLL is 582.7053480839055 at iteration 15.\n",
      "INFO     [merf.py:235] GLL is 578.2413629972174 at iteration 16.\n",
      "INFO     [merf.py:235] GLL is 579.0819165715735 at iteration 17.\n",
      "INFO     [merf.py:235] GLL is 577.5566902259472 at iteration 18.\n",
      "INFO     [merf.py:235] GLL is 577.9274452686963 at iteration 19.\n",
      "INFO     [merf.py:235] GLL is 590.5285698493587 at iteration 20.\n"
     ]
    },
    {
     "name": "stdout",
     "output_type": "stream",
     "text": [
      "\n",
      "---------------------Random Forest Fixed Effect Only----------------------\n",
      "---------------------Random Forest w OHE Cluster----------------------\n"
     ]
    },
    {
     "name": "stderr",
     "output_type": "stream",
     "text": [
      "/Users/souravdey/.virtualenvs/merf/lib/python3.6/site-packages/pandas/core/internals.py:490: RuntimeWarning: None of the categories were found in values. Did you mean to use\n",
      "'Categorical.from_codes(codes, categories)'?\n",
      "  return self.make_block(Categorical(self.values, **kwargs))\n",
      "INFO     [utils.py:164] Drew 10000 samples from 200 clusters.\n",
      "INFO     [utils.py:165] PTEV = 56.378202584212644, PREV = 61.89881254284979.\n"
     ]
    },
    {
     "name": "stdout",
     "output_type": "stream",
     "text": [
      "Experiment iteration: 4\n",
      "---------------------MERF----------------------\n"
     ]
    },
    {
     "name": "stderr",
     "output_type": "stream",
     "text": [
      "INFO     [merf.py:235] GLL is 599.5794167254645 at iteration 1.\n",
      "INFO     [merf.py:235] GLL is 525.0003867116543 at iteration 2.\n",
      "INFO     [merf.py:235] GLL is 525.0416651172707 at iteration 3.\n",
      "INFO     [merf.py:235] GLL is 536.2534579585736 at iteration 4.\n",
      "INFO     [merf.py:235] GLL is 524.4123227715696 at iteration 5.\n",
      "INFO     [merf.py:235] GLL is 526.2860071568658 at iteration 6.\n",
      "INFO     [merf.py:235] GLL is 526.3395027420387 at iteration 7.\n",
      "INFO     [merf.py:235] GLL is 528.1447543966756 at iteration 8.\n",
      "INFO     [merf.py:235] GLL is 528.8174450097048 at iteration 9.\n",
      "INFO     [merf.py:235] GLL is 527.4844078546619 at iteration 10.\n",
      "INFO     [merf.py:235] GLL is 530.6062771059895 at iteration 11.\n",
      "INFO     [merf.py:235] GLL is 522.8066109650925 at iteration 12.\n",
      "INFO     [merf.py:235] GLL is 527.8300259623354 at iteration 13.\n",
      "INFO     [merf.py:235] GLL is 523.7140299944643 at iteration 14.\n",
      "INFO     [merf.py:235] GLL is 525.0283751047499 at iteration 15.\n",
      "INFO     [merf.py:235] GLL is 529.5628788898388 at iteration 16.\n",
      "INFO     [merf.py:235] GLL is 528.5686360092702 at iteration 17.\n",
      "INFO     [merf.py:235] GLL is 526.0980980732894 at iteration 18.\n",
      "INFO     [merf.py:235] GLL is 526.6800093412547 at iteration 19.\n",
      "INFO     [merf.py:235] GLL is 526.9072678793032 at iteration 20.\n"
     ]
    },
    {
     "name": "stdout",
     "output_type": "stream",
     "text": [
      "---------------------Random Forest Fixed Effect Only----------------------\n",
      "---------------------Random Forest w OHE Cluster----------------------\n"
     ]
    },
    {
     "name": "stderr",
     "output_type": "stream",
     "text": [
      "/Users/souravdey/.virtualenvs/merf/lib/python3.6/site-packages/pandas/core/internals.py:490: RuntimeWarning: None of the categories were found in values. Did you mean to use\n",
      "'Categorical.from_codes(codes, categories)'?\n",
      "  return self.make_block(Categorical(self.values, **kwargs))\n",
      "INFO     [utils.py:164] Drew 10000 samples from 200 clusters.\n",
      "INFO     [utils.py:165] PTEV = 56.35171276740929, PREV = 61.96551634588037.\n"
     ]
    },
    {
     "name": "stdout",
     "output_type": "stream",
     "text": [
      "Experiment iteration: 5\n",
      "---------------------MERF----------------------"
     ]
    },
    {
     "name": "stderr",
     "output_type": "stream",
     "text": [
      "INFO     [merf.py:235] GLL is 667.7765346813711 at iteration 1.\n",
      "INFO     [merf.py:235] GLL is 605.1186188129902 at iteration 2.\n",
      "INFO     [merf.py:235] GLL is 604.3430359912732 at iteration 3.\n",
      "INFO     [merf.py:235] GLL is 598.7212419156571 at iteration 4.\n",
      "INFO     [merf.py:235] GLL is 600.2129823626334 at iteration 5.\n",
      "INFO     [merf.py:235] GLL is 599.7309025634662 at iteration 6.\n",
      "INFO     [merf.py:235] GLL is 604.9270069546254 at iteration 7.\n",
      "INFO     [merf.py:235] GLL is 600.1980870549819 at iteration 8.\n",
      "INFO     [merf.py:235] GLL is 596.2711285754182 at iteration 9.\n",
      "INFO     [merf.py:235] GLL is 604.4679794907528 at iteration 10.\n",
      "INFO     [merf.py:235] GLL is 608.3037818001937 at iteration 11.\n",
      "INFO     [merf.py:235] GLL is 604.6353442234683 at iteration 12.\n",
      "INFO     [merf.py:235] GLL is 597.486124173668 at iteration 13.\n",
      "INFO     [merf.py:235] GLL is 604.5836437079407 at iteration 14.\n",
      "INFO     [merf.py:235] GLL is 603.5131698039934 at iteration 15.\n",
      "INFO     [merf.py:235] GLL is 594.5832153264541 at iteration 16.\n",
      "INFO     [merf.py:235] GLL is 594.5400404246902 at iteration 17.\n",
      "INFO     [merf.py:235] GLL is 599.4141948951401 at iteration 18.\n",
      "INFO     [merf.py:235] GLL is 595.0612250126601 at iteration 19.\n",
      "INFO     [merf.py:235] GLL is 599.1923454131972 at iteration 20.\n"
     ]
    },
    {
     "name": "stdout",
     "output_type": "stream",
     "text": [
      "\n",
      "---------------------Random Forest Fixed Effect Only----------------------\n",
      "---------------------Random Forest w OHE Cluster----------------------\n"
     ]
    },
    {
     "name": "stderr",
     "output_type": "stream",
     "text": [
      "/Users/souravdey/.virtualenvs/merf/lib/python3.6/site-packages/pandas/core/internals.py:490: RuntimeWarning: None of the categories were found in values. Did you mean to use\n",
      "'Categorical.from_codes(codes, categories)'?\n",
      "  return self.make_block(Categorical(self.values, **kwargs))\n",
      "INFO     [utils.py:164] Drew 10000 samples from 200 clusters.\n",
      "INFO     [utils.py:165] PTEV = 56.12881851771087, PREV = 62.529278386212304.\n"
     ]
    },
    {
     "name": "stdout",
     "output_type": "stream",
     "text": [
      "Experiment iteration: 6\n",
      "---------------------MERF----------------------"
     ]
    },
    {
     "name": "stderr",
     "output_type": "stream",
     "text": [
      "INFO     [merf.py:235] GLL is 612.6311193998679 at iteration 1.\n",
      "INFO     [merf.py:235] GLL is 550.7934662408666 at iteration 2.\n",
      "INFO     [merf.py:235] GLL is 555.0968392462163 at iteration 3.\n",
      "INFO     [merf.py:235] GLL is 552.1503973496507 at iteration 4.\n",
      "INFO     [merf.py:235] GLL is 556.6625900958935 at iteration 5.\n",
      "INFO     [merf.py:235] GLL is 562.2363303123004 at iteration 6.\n",
      "INFO     [merf.py:235] GLL is 553.7654146111446 at iteration 7.\n",
      "INFO     [merf.py:235] GLL is 557.7881697302578 at iteration 8.\n",
      "INFO     [merf.py:235] GLL is 559.8251245865547 at iteration 9.\n",
      "INFO     [merf.py:235] GLL is 553.1058344159563 at iteration 10.\n",
      "INFO     [merf.py:235] GLL is 554.6109620755126 at iteration 11.\n",
      "INFO     [merf.py:235] GLL is 551.9296575979374 at iteration 12.\n",
      "INFO     [merf.py:235] GLL is 558.4523409923247 at iteration 13.\n",
      "INFO     [merf.py:235] GLL is 560.1647896927303 at iteration 14.\n",
      "INFO     [merf.py:235] GLL is 560.4166660393458 at iteration 15.\n",
      "INFO     [merf.py:235] GLL is 560.6665330113289 at iteration 16.\n",
      "INFO     [merf.py:235] GLL is 558.6481227795767 at iteration 17.\n",
      "INFO     [merf.py:235] GLL is 549.3864992686006 at iteration 18.\n",
      "INFO     [merf.py:235] GLL is 561.7748799717306 at iteration 19.\n",
      "INFO     [merf.py:235] GLL is 554.417540551807 at iteration 20.\n"
     ]
    },
    {
     "name": "stdout",
     "output_type": "stream",
     "text": [
      "\n",
      "---------------------Random Forest Fixed Effect Only----------------------\n",
      "---------------------Random Forest w OHE Cluster----------------------\n"
     ]
    },
    {
     "name": "stderr",
     "output_type": "stream",
     "text": [
      "/Users/souravdey/.virtualenvs/merf/lib/python3.6/site-packages/pandas/core/internals.py:490: RuntimeWarning: None of the categories were found in values. Did you mean to use\n",
      "'Categorical.from_codes(codes, categories)'?\n",
      "  return self.make_block(Categorical(self.values, **kwargs))\n",
      "INFO     [utils.py:164] Drew 10000 samples from 200 clusters.\n",
      "INFO     [utils.py:165] PTEV = 56.57327040926647, PREV = 61.40953743925031.\n"
     ]
    },
    {
     "name": "stdout",
     "output_type": "stream",
     "text": [
      "Experiment iteration: 7\n",
      "---------------------MERF----------------------\n"
     ]
    },
    {
     "name": "stderr",
     "output_type": "stream",
     "text": [
      "INFO     [merf.py:235] GLL is 654.6604444822494 at iteration 1.\n",
      "INFO     [merf.py:235] GLL is 608.3799557599402 at iteration 2.\n",
      "INFO     [merf.py:235] GLL is 610.241767736313 at iteration 3.\n",
      "INFO     [merf.py:235] GLL is 609.5410874745902 at iteration 4.\n",
      "INFO     [merf.py:235] GLL is 600.9472182683279 at iteration 5.\n",
      "INFO     [merf.py:235] GLL is 600.2771339095415 at iteration 6.\n",
      "INFO     [merf.py:235] GLL is 604.9656837544377 at iteration 7.\n",
      "INFO     [merf.py:235] GLL is 605.5069261331427 at iteration 8.\n",
      "INFO     [merf.py:235] GLL is 595.630136433714 at iteration 9.\n",
      "INFO     [merf.py:235] GLL is 601.2567151839428 at iteration 10.\n",
      "INFO     [merf.py:235] GLL is 606.1672764666159 at iteration 11.\n",
      "INFO     [merf.py:235] GLL is 600.634390946039 at iteration 12.\n",
      "INFO     [merf.py:235] GLL is 599.0739192869372 at iteration 13.\n",
      "INFO     [merf.py:235] GLL is 608.3106119914027 at iteration 14.\n",
      "INFO     [merf.py:235] GLL is 601.6795767955618 at iteration 15.\n",
      "INFO     [merf.py:235] GLL is 598.2408392504725 at iteration 16.\n",
      "INFO     [merf.py:235] GLL is 606.2845017070848 at iteration 17.\n",
      "INFO     [merf.py:235] GLL is 602.8649448852009 at iteration 18.\n",
      "INFO     [merf.py:235] GLL is 606.4440348987882 at iteration 19.\n",
      "INFO     [merf.py:235] GLL is 596.0628177951505 at iteration 20.\n"
     ]
    },
    {
     "name": "stdout",
     "output_type": "stream",
     "text": [
      "---------------------Random Forest Fixed Effect Only----------------------\n",
      "---------------------Random Forest w OHE Cluster----------------------\n"
     ]
    },
    {
     "name": "stderr",
     "output_type": "stream",
     "text": [
      "/Users/souravdey/.virtualenvs/merf/lib/python3.6/site-packages/pandas/core/internals.py:490: RuntimeWarning: None of the categories were found in values. Did you mean to use\n",
      "'Categorical.from_codes(codes, categories)'?\n",
      "  return self.make_block(Categorical(self.values, **kwargs))\n",
      "INFO     [utils.py:164] Drew 10000 samples from 200 clusters.\n",
      "INFO     [utils.py:165] PTEV = 56.53469583032296, PREV = 61.50602355782233.\n"
     ]
    },
    {
     "name": "stdout",
     "output_type": "stream",
     "text": [
      "Experiment iteration: 8\n",
      "---------------------MERF----------------------\n"
     ]
    },
    {
     "name": "stderr",
     "output_type": "stream",
     "text": [
      "INFO     [merf.py:235] GLL is 609.9421198645981 at iteration 1.\n",
      "INFO     [merf.py:235] GLL is 544.3565728376564 at iteration 2.\n",
      "INFO     [merf.py:235] GLL is 547.2267894375017 at iteration 3.\n",
      "INFO     [merf.py:235] GLL is 545.9397077647993 at iteration 4.\n",
      "INFO     [merf.py:235] GLL is 540.7196727997355 at iteration 5.\n",
      "INFO     [merf.py:235] GLL is 541.8338104299133 at iteration 6.\n",
      "INFO     [merf.py:235] GLL is 544.6896349567088 at iteration 7.\n",
      "INFO     [merf.py:235] GLL is 544.3345948246497 at iteration 8.\n",
      "INFO     [merf.py:235] GLL is 543.5618697591415 at iteration 9.\n",
      "INFO     [merf.py:235] GLL is 540.7994543787147 at iteration 10.\n",
      "INFO     [merf.py:235] GLL is 544.4204878565049 at iteration 11.\n",
      "INFO     [merf.py:235] GLL is 543.9020056755928 at iteration 12.\n",
      "INFO     [merf.py:235] GLL is 543.4820458175208 at iteration 13.\n",
      "INFO     [merf.py:235] GLL is 542.1234996730853 at iteration 14.\n",
      "INFO     [merf.py:235] GLL is 542.7110139171704 at iteration 15.\n",
      "INFO     [merf.py:235] GLL is 544.5248799485042 at iteration 16.\n",
      "INFO     [merf.py:235] GLL is 541.17736067838 at iteration 17.\n",
      "INFO     [merf.py:235] GLL is 542.2748747459636 at iteration 18.\n",
      "INFO     [merf.py:235] GLL is 544.4879840914764 at iteration 19.\n",
      "INFO     [merf.py:235] GLL is 545.8710542427511 at iteration 20.\n"
     ]
    },
    {
     "name": "stdout",
     "output_type": "stream",
     "text": [
      "---------------------Random Forest Fixed Effect Only----------------------\n",
      "---------------------Random Forest w OHE Cluster----------------------\n"
     ]
    },
    {
     "name": "stderr",
     "output_type": "stream",
     "text": [
      "/Users/souravdey/.virtualenvs/merf/lib/python3.6/site-packages/pandas/core/internals.py:490: RuntimeWarning: None of the categories were found in values. Did you mean to use\n",
      "'Categorical.from_codes(codes, categories)'?\n",
      "  return self.make_block(Categorical(self.values, **kwargs))\n",
      "INFO     [utils.py:164] Drew 10000 samples from 200 clusters.\n",
      "INFO     [utils.py:165] PTEV = 56.770349019949116, PREV = 60.9186333730095.\n"
     ]
    },
    {
     "name": "stdout",
     "output_type": "stream",
     "text": [
      "Experiment iteration: 9\n",
      "---------------------MERF----------------------"
     ]
    },
    {
     "name": "stderr",
     "output_type": "stream",
     "text": [
      "INFO     [merf.py:235] GLL is 644.0301027331609 at iteration 1.\n",
      "INFO     [merf.py:235] GLL is 557.7380533998236 at iteration 2.\n",
      "INFO     [merf.py:235] GLL is 564.2565396773457 at iteration 3.\n",
      "INFO     [merf.py:235] GLL is 557.3810511689695 at iteration 4.\n",
      "INFO     [merf.py:235] GLL is 565.9282817812142 at iteration 5.\n",
      "INFO     [merf.py:235] GLL is 563.0694156819429 at iteration 6.\n",
      "INFO     [merf.py:235] GLL is 565.4937912592842 at iteration 7.\n",
      "INFO     [merf.py:235] GLL is 563.0859056973304 at iteration 8.\n",
      "INFO     [merf.py:235] GLL is 561.6207967029027 at iteration 9.\n",
      "INFO     [merf.py:235] GLL is 556.7559587505148 at iteration 10.\n",
      "INFO     [merf.py:235] GLL is 565.6854395687658 at iteration 11.\n",
      "INFO     [merf.py:235] GLL is 555.7407926520369 at iteration 12.\n",
      "INFO     [merf.py:235] GLL is 563.852482806235 at iteration 13.\n",
      "INFO     [merf.py:235] GLL is 563.2157111793713 at iteration 14.\n",
      "INFO     [merf.py:235] GLL is 560.6367506161175 at iteration 15.\n",
      "INFO     [merf.py:235] GLL is 566.7907110701168 at iteration 16.\n",
      "INFO     [merf.py:235] GLL is 558.6193934762482 at iteration 17.\n",
      "INFO     [merf.py:235] GLL is 557.9551708478044 at iteration 18.\n",
      "INFO     [merf.py:235] GLL is 564.818157242749 at iteration 19.\n",
      "INFO     [merf.py:235] GLL is 568.662913714581 at iteration 20.\n"
     ]
    },
    {
     "name": "stdout",
     "output_type": "stream",
     "text": [
      "\n",
      "---------------------Random Forest Fixed Effect Only----------------------\n",
      "---------------------Random Forest w OHE Cluster----------------------\n"
     ]
    },
    {
     "name": "stderr",
     "output_type": "stream",
     "text": [
      "/Users/souravdey/.virtualenvs/merf/lib/python3.6/site-packages/pandas/core/internals.py:490: RuntimeWarning: None of the categories were found in values. Did you mean to use\n",
      "'Categorical.from_codes(codes, categories)'?\n",
      "  return self.make_block(Categorical(self.values, **kwargs))\n"
     ]
    }
   ],
   "source": [
    "# Creating a dictionary to hold the results of the experiments\n",
    "results = []\n",
    "for experiment in experiments:\n",
    "    results.append({'id': experiment['id'], 'ptev': [], 'prev': [],\n",
    "                    'mse_known_rf_fixed': [], 'mse_known_rf_ohe': [], 'mse_known_merf': [], \n",
    "                    'mse_new_rf_fixed': [], 'mse_new_rf_ohe': [], 'mse_new_merf': []})\n",
    "    \n",
    "for experiment, result in zip(experiments, results): \n",
    "    for experiment_iteration in range(0, N_per_experiment):\n",
    "        print(\"Experiment iteration: {}\".format(experiment_iteration))\n",
    "        # Generate data for experiment\n",
    "        dgm = MERFDataGenerator(m=experiment['m'], sigma_b=np.sqrt(experiment['sigma_b_sq']), sigma_e=experiment['sigma_e'])\n",
    "        train, test_known, test_new, train_cluster_ids, ptev, prev = dgm.generate_split_samples(train_cluster_sizes, known_cluster_sizes, new_cluster_sizes)\n",
    "        \n",
    "        # Store off PTEV and PREV\n",
    "        result['ptev'].append(ptev)\n",
    "        result['prev'].append(prev)\n",
    "        \n",
    "        # Training Data Extract\n",
    "        X_train = train[['X_0', 'X_1', 'X_2']]\n",
    "        Z_train = train[['Z']]\n",
    "        clusters_train = train['cluster']\n",
    "        y_train = train['y']\n",
    "\n",
    "        # Known Cluster Data Extract\n",
    "        X_known = test_known[['X_0', 'X_1', 'X_2']]\n",
    "        Z_known = test_known[['Z']]\n",
    "        clusters_known = test_known['cluster']\n",
    "        y_known = test_known['y']\n",
    "\n",
    "        # New Cluster Data Extract\n",
    "        X_new = test_new[['X_0', 'X_1', 'X_2']]\n",
    "        Z_new = test_new[['Z']]\n",
    "        clusters_new = test_new['cluster']\n",
    "        y_new = test_new['y']\n",
    "\n",
    "        # MERF\n",
    "        print(\"---------------------MERF----------------------\")\n",
    "        mrf = MERF(n_estimators=n_estimators, max_iterations=max_iterations)\n",
    "        mrf.fit(X_train, Z_train, clusters_train, y_train)\n",
    "        y_hat_known_merf = mrf.predict(X_known, Z_known, clusters_known)\n",
    "        y_hat_new_merf = mrf.predict(X_new, Z_new, clusters_new)\n",
    "        mse_known_merf = np.mean((y_known - y_hat_known_merf) ** 2)\n",
    "        mse_new_merf = np.mean((y_new - y_hat_new_merf) ** 2)\n",
    "        result['mse_known_merf'].append(mse_known_merf)\n",
    "        result['mse_new_merf'].append(mse_new_merf)\n",
    "\n",
    "        # Random Forest Fixed Only \n",
    "        print(\"---------------------Random Forest Fixed Effect Only----------------------\")\n",
    "        rf = RandomForestRegressor(n_estimators=n_estimators, n_jobs=-1)\n",
    "        rf.fit(X_train, y_train)\n",
    "        y_hat_known_rf_fixed = rf.predict(X_known)\n",
    "        y_hat_new_rf_fixed = rf.predict(X_new)\n",
    "        mse_known_rf_fixed = np.mean((y_known - y_hat_known_rf_fixed) ** 2)\n",
    "        mse_new_rf_fixed = np.mean((y_new - y_hat_new_rf_fixed) ** 2)\n",
    "        result['mse_known_rf_fixed'].append(mse_known_rf_fixed)\n",
    "        result['mse_new_rf_fixed'].append(mse_new_rf_fixed)\n",
    "        \n",
    "        # Random Forest with OHE Cluster\n",
    "        print(\"---------------------Random Forest w OHE Cluster----------------------\")\n",
    "        X_train_w_ohe = MERFDataGenerator.create_X_with_ohe_clusters(X_train, clusters_train, train_cluster_ids)\n",
    "        X_known_w_ohe = MERFDataGenerator.create_X_with_ohe_clusters(X_known, clusters_known, train_cluster_ids)\n",
    "        X_new_w_ohe = MERFDataGenerator.create_X_with_ohe_clusters(X_new, clusters_new, train_cluster_ids)\n",
    "        rf_ohe = RandomForestRegressor(n_estimators=n_estimators, n_jobs=-1)\n",
    "        rf_ohe.fit(X_train_w_ohe, y_train)\n",
    "        y_hat_known_rf_ohe = rf_ohe.predict(X_known_w_ohe)\n",
    "        y_hat_new_rf_ohe = rf_ohe.predict(X_new_w_ohe)\n",
    "        mse_known_rf_ohe = np.mean((y_known - y_hat_known_rf_ohe) ** 2)\n",
    "        mse_new_rf_ohe = np.mean((y_new - y_hat_new_rf_ohe) ** 2)\n",
    "        result['mse_known_rf_ohe'].append(mse_known_rf_ohe)\n",
    "        result['mse_new_rf_ohe'].append(mse_new_rf_ohe)\n"
   ]
  },
  {
   "cell_type": "code",
   "execution_count": 86,
   "metadata": {},
   "outputs": [
    {
     "data": {
      "text/plain": [
       "[{'id': 0,\n",
       "  'mse_known_merf': [2.760523177093043,\n",
       "   2.5087553696669889,\n",
       "   2.5943145052516368,\n",
       "   2.6191382025895829,\n",
       "   2.9915420919390248,\n",
       "   2.5731980513549435,\n",
       "   2.5492818836814255,\n",
       "   2.6178646075415268,\n",
       "   2.6452967979724291,\n",
       "   2.6349716403447956],\n",
       "  'mse_known_rf_fixed': [3.4578330448297345,\n",
       "   3.3030197425003642,\n",
       "   3.1439550999880095,\n",
       "   3.6209615738420875,\n",
       "   3.6039473582364483,\n",
       "   3.3775328152199404,\n",
       "   3.3194500458977818,\n",
       "   3.1927294475839054,\n",
       "   3.265965109922873,\n",
       "   3.1003040609178845],\n",
       "  'mse_known_rf_ohe': [3.4830953017994477,\n",
       "   3.2239581083475639,\n",
       "   3.110565713929454,\n",
       "   3.6166597842930543,\n",
       "   3.7812827130356181,\n",
       "   3.2338646071131398,\n",
       "   3.4317161000726575,\n",
       "   3.2487270792306147,\n",
       "   3.2894341539626684,\n",
       "   3.1240517007738293],\n",
       "  'mse_new_merf': [3.5193318868215693,\n",
       "   3.3605649178449739,\n",
       "   3.1739032126075202,\n",
       "   3.2976605094331286,\n",
       "   3.5475359148960401,\n",
       "   3.3155429286244149,\n",
       "   3.9087842279383027,\n",
       "   3.1593715707432319,\n",
       "   3.1738679959817135,\n",
       "   3.1497458167262113],\n",
       "  'mse_new_rf_fixed': [3.5008557507120073,\n",
       "   3.3064849718748248,\n",
       "   3.2007615435207786,\n",
       "   3.5284468807272513,\n",
       "   3.4590576952865639,\n",
       "   3.442418987696938,\n",
       "   3.9397097839924702,\n",
       "   3.1086173167518472,\n",
       "   3.0810853729713314,\n",
       "   3.0183647093894268],\n",
       "  'mse_new_rf_ohe': [3.6313795149943515,\n",
       "   3.3450085435869301,\n",
       "   3.2479517849586301,\n",
       "   3.5635305633753682,\n",
       "   3.6303000972907924,\n",
       "   3.4504628635524002,\n",
       "   4.2505660299180068,\n",
       "   3.3011705418354236,\n",
       "   3.1974434207796913,\n",
       "   3.1779447029718648],\n",
       "  'prev': [9.6998045173324297,\n",
       "   10.449256111627585,\n",
       "   10.311101043049442,\n",
       "   10.349053363326419,\n",
       "   10.075095784598391,\n",
       "   10.186273879703037,\n",
       "   10.317255678439118,\n",
       "   10.119073491588388,\n",
       "   10.212226781670319,\n",
       "   9.7324796026565714],\n",
       "  'ptev': [90.270989432435485,\n",
       "   89.597477854872807,\n",
       "   89.720877414530293,\n",
       "   89.686944703049292,\n",
       "   89.932464510167421,\n",
       "   89.83266520927404,\n",
       "   89.715372885089224,\n",
       "   89.892961312273272,\n",
       "   89.809400399893889,\n",
       "   90.241414189808893]},\n",
       " {'id': 1,\n",
       "  'mse_known_merf': [2.6376520887588795,\n",
       "   2.1568544454315592,\n",
       "   2.6115610565611296,\n",
       "   2.2602789006311932,\n",
       "   2.3536426050901507,\n",
       "   2.6018049826057021,\n",
       "   2.7413273808317005,\n",
       "   2.3954347342784605,\n",
       "   2.1305415047171739,\n",
       "   2.7903330144475227],\n",
       "  'mse_known_rf_fixed': [4.9972216961342646,\n",
       "   5.2741172178927203,\n",
       "   4.9696784239464584,\n",
       "   4.9189450676310917,\n",
       "   4.3364792458094197,\n",
       "   5.4595191621831072,\n",
       "   5.7217799824952396,\n",
       "   5.3320328230523115,\n",
       "   4.2221731226715944,\n",
       "   5.8807261584020161],\n",
       "  'mse_known_rf_ohe': [4.263337508180415,\n",
       "   4.4887869655858168,\n",
       "   4.3584815055774833,\n",
       "   3.9223364314066753,\n",
       "   3.9306156424549892,\n",
       "   4.2603453343959492,\n",
       "   4.9047130581280847,\n",
       "   4.6412416902628522,\n",
       "   3.6930826691634802,\n",
       "   4.8220945751207394],\n",
       "  'mse_new_merf': [5.1141687910772209,\n",
       "   4.7784273741737868,\n",
       "   5.1790259425704823,\n",
       "   4.7817401193858826,\n",
       "   4.4531208605087764,\n",
       "   4.6698822773188189,\n",
       "   5.4750346073520166,\n",
       "   4.4988976076440128,\n",
       "   4.5402800979250966,\n",
       "   4.456706860485804],\n",
       "  'mse_new_rf_fixed': [4.8267641251921338,\n",
       "   5.281214345227891,\n",
       "   5.4375752470150331,\n",
       "   5.0913416896280799,\n",
       "   4.7824757313742881,\n",
       "   4.8850869984062513,\n",
       "   5.7377311695153708,\n",
       "   4.8840720137567031,\n",
       "   4.8031341047095362,\n",
       "   4.8999799468910741],\n",
       "  'mse_new_rf_ohe': [4.6745824120464636,\n",
       "   5.2401484838690786,\n",
       "   5.368578063524386,\n",
       "   5.1659152544120861,\n",
       "   4.8028494899407335,\n",
       "   4.7207134232230095,\n",
       "   5.6485321933583403,\n",
       "   4.9111080557692901,\n",
       "   4.7502130389715145,\n",
       "   4.6786573236937334],\n",
       "  'prev': [31.148425016526605,\n",
       "   31.680120047817638,\n",
       "   31.167649980772573,\n",
       "   31.632376572578337,\n",
       "   30.507728079976854,\n",
       "   30.097824901104815,\n",
       "   29.668922236800217,\n",
       "   30.582066619813453,\n",
       "   30.605450501231473,\n",
       "   30.557483555718591],\n",
       "  'ptev': [89.656786345531373,\n",
       "   89.498771068244011,\n",
       "   89.65106312621478,\n",
       "   89.512937260908728,\n",
       "   89.847938928260248,\n",
       "   89.970662096260341,\n",
       "   90.099433062546382,\n",
       "   89.825718159528549,\n",
       "   89.818730681629447,\n",
       "   89.833065144740033]},\n",
       " {'id': 2,\n",
       "  'mse_known_merf': [2.277266602766078,\n",
       "   2.1405474890753879,\n",
       "   2.0645527872225928,\n",
       "   2.1363665972040611,\n",
       "   2.1803657370729024,\n",
       "   2.2781304384914276,\n",
       "   2.3956030197024099,\n",
       "   2.3177780316019936,\n",
       "   2.0762036328823696,\n",
       "   1.999821672987891],\n",
       "  'mse_known_rf_fixed': [6.7471270106492112,\n",
       "   8.4597329049623617,\n",
       "   6.6777292928042327,\n",
       "   5.9140909232242249,\n",
       "   7.0420326456108704,\n",
       "   7.1382572498781807,\n",
       "   6.7910933131948807,\n",
       "   8.631357745239475,\n",
       "   5.7639133049590532,\n",
       "   6.0835363844094461],\n",
       "  'mse_known_rf_ohe': [5.2270263279868834,\n",
       "   5.5235751360166292,\n",
       "   4.8932308031777678,\n",
       "   4.4510642412732011,\n",
       "   5.7191467058378267,\n",
       "   4.9168456973980135,\n",
       "   4.8440959953614362,\n",
       "   5.9391558496572996,\n",
       "   3.8769023257841959,\n",
       "   4.5290001241814561],\n",
       "  'mse_new_merf': [7.5725538846095093,\n",
       "   6.1580284543578792,\n",
       "   7.0218020644343344,\n",
       "   6.9247784986606016,\n",
       "   6.298938089562867,\n",
       "   6.1376030066157927,\n",
       "   8.5470705381434353,\n",
       "   6.1864874398358882,\n",
       "   5.7633807581476528,\n",
       "   5.6990843705979453],\n",
       "  'mse_new_rf_fixed': [8.1469431336547125,\n",
       "   6.9607363389366572,\n",
       "   7.3767123538471147,\n",
       "   7.206414627628555,\n",
       "   7.443769339383107,\n",
       "   6.7434541504487511,\n",
       "   8.8655626557134326,\n",
       "   7.2152891263529311,\n",
       "   6.0397835977200156,\n",
       "   6.1093621572699384],\n",
       "  'mse_new_rf_ohe': [7.943929688833939,\n",
       "   6.5958273539270227,\n",
       "   7.151284931894927,\n",
       "   7.0322106315330402,\n",
       "   7.2123575180510846,\n",
       "   6.5074675909404078,\n",
       "   8.6676588453378738,\n",
       "   7.045051208386516,\n",
       "   5.7409853608284518,\n",
       "   5.838712875331983],\n",
       "  'prev': [49.480383904905153,\n",
       "   50.676966955292016,\n",
       "   49.642424714185189,\n",
       "   49.728685296286926,\n",
       "   48.861860184784781,\n",
       "   50.017447488519629,\n",
       "   50.273397866677428,\n",
       "   49.881201314224285,\n",
       "   50.356326466782932,\n",
       "   50.179173304109128],\n",
       "  'ptev': [90.093628198554924,\n",
       "   89.878310707307364,\n",
       "   90.064409614018942,\n",
       "   90.048863161256591,\n",
       "   90.205332561064949,\n",
       "   89.996859561651988,\n",
       "   89.950815277994195,\n",
       "   90.021388845373068,\n",
       "   89.935906912106176,\n",
       "   89.967760358226627]},\n",
       " {'id': 3,\n",
       "  'mse_known_merf': [1.4472576760020794,\n",
       "   1.4515419476787865,\n",
       "   1.4533959131741216,\n",
       "   1.4511939220173771,\n",
       "   1.4263242149859761,\n",
       "   1.5012133361478535,\n",
       "   1.4364371257436028,\n",
       "   1.477588101978409,\n",
       "   1.3601140837949039,\n",
       "   1.5256451284597983],\n",
       "  'mse_known_rf_fixed': [1.5531629198656896,\n",
       "   1.5187347475903552,\n",
       "   1.5791166848018203,\n",
       "   1.6099314849490982,\n",
       "   1.6136960156247369,\n",
       "   1.5327309580556108,\n",
       "   1.4912910409105242,\n",
       "   1.5490294625395,\n",
       "   1.4602583524471107,\n",
       "   1.5921599522272751],\n",
       "  'mse_known_rf_ohe': [1.498708463878123,\n",
       "   1.4756951311620474,\n",
       "   1.5129671753868679,\n",
       "   1.5041627534772057,\n",
       "   1.5620368545712089,\n",
       "   1.5065528549311593,\n",
       "   1.4649513903016118,\n",
       "   1.4733684719503153,\n",
       "   1.3970245768177005,\n",
       "   1.5372539103582166],\n",
       "  'mse_new_merf': [1.6218431793354027,\n",
       "   1.5339090124745045,\n",
       "   1.6420082499086035,\n",
       "   1.5604128352096955,\n",
       "   1.482465473730834,\n",
       "   1.5073413573533894,\n",
       "   1.4965808269408731,\n",
       "   1.6531601601029535,\n",
       "   1.5773274927722849,\n",
       "   1.5849046170499004],\n",
       "  'mse_new_rf_fixed': [1.6441757814659896,\n",
       "   1.5432281761802851,\n",
       "   1.6602836315825857,\n",
       "   1.5968916624975817,\n",
       "   1.5123215475398446,\n",
       "   1.5127034491572968,\n",
       "   1.4990356799759423,\n",
       "   1.6504375644671661,\n",
       "   1.6022085415600495,\n",
       "   1.5615541273798836],\n",
       "  'mse_new_rf_ohe': [1.588685892804943,\n",
       "   1.5099681419457291,\n",
       "   1.6377531869083224,\n",
       "   1.5536104819068979,\n",
       "   1.4869201138984047,\n",
       "   1.4855730802294755,\n",
       "   1.5174638436266694,\n",
       "   1.5626032656535707,\n",
       "   1.5622666352037575,\n",
       "   1.5463854294776211],\n",
       "  'prev': [15.049258318862494,\n",
       "   15.311042671091602,\n",
       "   15.1745533309323,\n",
       "   14.559779915204668,\n",
       "   15.341163778290301,\n",
       "   15.365005694843628,\n",
       "   14.754133706800015,\n",
       "   15.782561023442149,\n",
       "   15.281384432938042,\n",
       "   15.389064231532162],\n",
       "  'ptev': [57.062548422705362,\n",
       "   56.639505625172525,\n",
       "   56.859286347815861,\n",
       "   57.870738902480525,\n",
       "   56.591232041673138,\n",
       "   56.553080105727481,\n",
       "   57.547111283878102,\n",
       "   55.893148584019578,\n",
       "   56.687117927629771,\n",
       "   56.514633642614683]},\n",
       " {'id': 4,\n",
       "  'mse_known_merf': [1.5298355892747764,\n",
       "   1.333742152647625,\n",
       "   1.4727243306799407,\n",
       "   1.5060408304899962,\n",
       "   1.6676055203442799,\n",
       "   1.6216240688159687,\n",
       "   1.4675097538422985,\n",
       "   1.6218067563241521,\n",
       "   1.4433428213719226,\n",
       "   1.4323431675785969],\n",
       "  'mse_known_rf_fixed': [2.0983592986873485,\n",
       "   1.8528734831411207,\n",
       "   1.8275166171448614,\n",
       "   1.9241689490885303,\n",
       "   2.041794451133057,\n",
       "   1.9137964350125825,\n",
       "   1.8051623956037683,\n",
       "   1.9801080437200322,\n",
       "   1.8136528471012832,\n",
       "   1.8294431173041694],\n",
       "  'mse_known_rf_ohe': [1.8134627709547384,\n",
       "   1.5962657217389489,\n",
       "   1.6858012947739964,\n",
       "   1.7270185855008049,\n",
       "   1.9020640208642783,\n",
       "   1.7994229467169118,\n",
       "   1.6692206064381248,\n",
       "   1.7602874989501212,\n",
       "   1.6680754530983315,\n",
       "   1.6528964874784653],\n",
       "  'mse_new_merf': [1.9643742501307935,\n",
       "   1.8858963180334085,\n",
       "   1.8796646095272342,\n",
       "   1.7478454566846013,\n",
       "   1.9882425719485266,\n",
       "   1.9874865473933359,\n",
       "   1.9123489831304483,\n",
       "   1.7379940329077137,\n",
       "   1.805854485665515,\n",
       "   1.9613364693077842],\n",
       "  'mse_new_rf_fixed': [2.0855544366353644,\n",
       "   1.9464923258060172,\n",
       "   1.9345422772434027,\n",
       "   1.7998870342656708,\n",
       "   2.0445358879726077,\n",
       "   2.0173189426346516,\n",
       "   1.9554975769995924,\n",
       "   1.8046634825796122,\n",
       "   1.8906076181453106,\n",
       "   2.004749800785155],\n",
       "  'mse_new_rf_ohe': [2.0279759140364195,\n",
       "   1.9124389591942723,\n",
       "   1.8620986478367472,\n",
       "   1.7536854224961611,\n",
       "   2.0477893425679179,\n",
       "   1.9603642083236308,\n",
       "   1.8832626622393924,\n",
       "   1.7254911726504287,\n",
       "   1.8447216091873933,\n",
       "   1.9915040139767415],\n",
       "  'prev': [30.465261508113844,\n",
       "   30.894886621778845,\n",
       "   31.667850831530426,\n",
       "   30.668923676709607,\n",
       "   30.653510586367798,\n",
       "   29.773900636331923,\n",
       "   30.492744599308509,\n",
       "   30.976434300706064,\n",
       "   30.686856356629367,\n",
       "   31.153010099016264],\n",
       "  'ptev': [62.138616171598692,\n",
       "   61.808603841393861,\n",
       "   61.223602055040175,\n",
       "   61.981736858645839,\n",
       "   61.993581725692536,\n",
       "   62.677140770559483,\n",
       "   62.117399833859736,\n",
       "   61.746359211526844,\n",
       "   61.967961397583835,\n",
       "   61.612009140503964]},\n",
       " {'id': 5,\n",
       "  'mse_known_merf': [1.39364449077226,\n",
       "   1.3146689814554886,\n",
       "   1.4656912915430391,\n",
       "   1.4513588968518747,\n",
       "   1.3382728225296261,\n",
       "   1.4247388354630044,\n",
       "   1.4333158971857569,\n",
       "   1.4251566867306458,\n",
       "   1.4738715500860453,\n",
       "   1.3701497433273373],\n",
       "  'mse_known_rf_fixed': [1.7842202211906035,\n",
       "   2.2433415115035631,\n",
       "   2.2857252127953958,\n",
       "   2.1723449148702945,\n",
       "   2.0522658779403904,\n",
       "   2.1760954118728257,\n",
       "   2.0639169468996195,\n",
       "   2.0788990025963003,\n",
       "   2.1252071231187672,\n",
       "   2.1079102154889613],\n",
       "  'mse_known_rf_ohe': [1.5366416661398108,\n",
       "   1.6335273952344795,\n",
       "   1.76054007115463,\n",
       "   1.6344689710274789,\n",
       "   1.5812404517639143,\n",
       "   1.7094883337933684,\n",
       "   1.6597120140054797,\n",
       "   1.7250088002311024,\n",
       "   1.6977320899449881,\n",
       "   1.5979803915325359],\n",
       "  'mse_new_merf': [2.1673013244398187,\n",
       "   2.0028786787851569,\n",
       "   2.1882708745803416,\n",
       "   2.3431027364960979,\n",
       "   2.118420442653548,\n",
       "   2.2448996410032267,\n",
       "   2.1775299725200541,\n",
       "   2.0055189120044461,\n",
       "   1.9247519842322944,\n",
       "   1.8455116335583335],\n",
       "  'mse_new_rf_fixed': [2.1782976630255328,\n",
       "   2.2195540228150863,\n",
       "   2.2986622544841397,\n",
       "   2.4674818130868603,\n",
       "   2.20201975692998,\n",
       "   2.3333463266495222,\n",
       "   2.2792590483323774,\n",
       "   2.0982098159352507,\n",
       "   1.9936177110024786,\n",
       "   1.9504002403878224],\n",
       "  'mse_new_rf_ohe': [2.1672949597858571,\n",
       "   2.0535991746829252,\n",
       "   2.1811150453016026,\n",
       "   2.3694645701403023,\n",
       "   2.1221222017781658,\n",
       "   2.2927298373279399,\n",
       "   2.1553180770865867,\n",
       "   2.0144858853884049,\n",
       "   1.8988680129081739,\n",
       "   1.9167308410765065],\n",
       "  'prev': [62.07764084535777,\n",
       "   62.006843131743786,\n",
       "   61.100764268228815,\n",
       "   60.326667067066353,\n",
       "   61.89881254284979,\n",
       "   61.965516345880367,\n",
       "   62.529278386212304,\n",
       "   61.409537439250308,\n",
       "   61.506023557822331,\n",
       "   60.918633373009499],\n",
       "  'ptev': [56.307241254853579,\n",
       "   56.335313310064727,\n",
       "   56.697070646564406,\n",
       "   57.009834033730435,\n",
       "   56.378202584212644,\n",
       "   56.351712767409289,\n",
       "   56.128818517710869,\n",
       "   56.57327040926647,\n",
       "   56.53469583032296,\n",
       "   56.770349019949116]}]"
      ]
     },
     "execution_count": 86,
     "metadata": {},
     "output_type": "execute_result"
    }
   ],
   "source": [
    "results"
   ]
  },
  {
   "cell_type": "code",
   "execution_count": 87,
   "metadata": {},
   "outputs": [],
   "source": [
    "import pickle\n",
    "pickle.dump(results, open(\"results.pkl\", \"wb\" ))"
   ]
  },
  {
   "cell_type": "code",
   "execution_count": 92,
   "metadata": {},
   "outputs": [
    {
     "data": {
      "text/plain": [
       "20.538988592302683"
      ]
     },
     "execution_count": 92,
     "metadata": {},
     "output_type": "execute_result"
    }
   ],
   "source": [
    "100 * np.mean((np.array(results[0]['mse_known_rf_fixed']) - np.array(results[0]['mse_known_merf'])) / np.array(results[0]['mse_known_rf_fixed']))"
   ]
  },
  {
   "cell_type": "code",
   "execution_count": 93,
   "metadata": {},
   "outputs": [],
   "source": [
    "def merf_gain(merf_mse, non_merf_mse):\n",
    "    return 100 * np.mean((np.array(non_merf_mse) - np.array(merf_mse)) / np.array(non_merf_mse))"
   ]
  },
  {
   "cell_type": "code",
   "execution_count": 105,
   "metadata": {},
   "outputs": [],
   "source": [
    "summary_results = pd.DataFrame(np.zeros((len(results), 6)), columns=['ptev', 'prev', 'known merf-rf fixed gain', 'new merf-rf fixed gain', 'known merf-rf ohe gain', 'new merf-rf ohe gain'])\n",
    "for result in results: \n",
    "    summary_results.loc[result['id'], 'ptev'] = np.mean(np.array(result['ptev']))\n",
    "    summary_results.loc[result['id'], 'prev'] = np.mean(np.array(result['prev']))\n",
    "    summary_results.loc[result['id'], 'known merf-rf fixed gain'] = merf_gain(result['mse_known_merf'], result['mse_known_rf_fixed'])\n",
    "    summary_results.loc[result['id'], 'new merf-rf fixed gain']= merf_gain(result['mse_new_merf'], result['mse_new_rf_fixed'])\n",
    "    summary_results.loc[result['id'], 'known merf-rf ohe gain'] = merf_gain(result['mse_known_merf'], result['mse_known_rf_ohe'])\n",
    "    summary_results.loc[result['id'], 'new merf-rf ohe gain'] = merf_gain(result['mse_new_merf'], result['mse_new_rf_ohe'])"
   ]
  },
  {
   "cell_type": "code",
   "execution_count": 106,
   "metadata": {},
   "outputs": [
    {
     "data": {
      "text/html": [
       "<div>\n",
       "<style>\n",
       "    .dataframe thead tr:only-child th {\n",
       "        text-align: right;\n",
       "    }\n",
       "\n",
       "    .dataframe thead th {\n",
       "        text-align: left;\n",
       "    }\n",
       "\n",
       "    .dataframe tbody tr th {\n",
       "        vertical-align: top;\n",
       "    }\n",
       "</style>\n",
       "<table border=\"1\" class=\"dataframe\">\n",
       "  <thead>\n",
       "    <tr style=\"text-align: right;\">\n",
       "      <th></th>\n",
       "      <th>ptev</th>\n",
       "      <th>prev</th>\n",
       "      <th>known merf-rf fixed gain</th>\n",
       "      <th>new merf-rf fixed gain</th>\n",
       "      <th>known merf-rf ohe gain</th>\n",
       "      <th>new merf-rf ohe gain</th>\n",
       "    </tr>\n",
       "  </thead>\n",
       "  <tbody>\n",
       "    <tr>\n",
       "      <th>0</th>\n",
       "      <td>89.870057</td>\n",
       "      <td>10.145162</td>\n",
       "      <td>20.538989</td>\n",
       "      <td>-0.186749</td>\n",
       "      <td>20.879242</td>\n",
       "      <td>3.251213</td>\n",
       "    </tr>\n",
       "    <tr>\n",
       "      <th>1</th>\n",
       "      <td>89.771511</td>\n",
       "      <td>30.764805</td>\n",
       "      <td>51.514512</td>\n",
       "      <td>5.267747</td>\n",
       "      <td>42.852774</td>\n",
       "      <td>3.936174</td>\n",
       "    </tr>\n",
       "    <tr>\n",
       "      <th>2</th>\n",
       "      <td>90.016328</td>\n",
       "      <td>49.909787</td>\n",
       "      <td>68.000664</td>\n",
       "      <td>8.080870</td>\n",
       "      <td>55.684546</td>\n",
       "      <td>4.857849</td>\n",
       "    </tr>\n",
       "    <tr>\n",
       "      <th>3</th>\n",
       "      <td>56.821840</td>\n",
       "      <td>15.200795</td>\n",
       "      <td>6.205787</td>\n",
       "      <td>0.773231</td>\n",
       "      <td>2.662849</td>\n",
       "      <td>-1.341002</td>\n",
       "    </tr>\n",
       "    <tr>\n",
       "      <th>4</th>\n",
       "      <td>61.926701</td>\n",
       "      <td>30.743338</td>\n",
       "      <td>20.877254</td>\n",
       "      <td>3.143301</td>\n",
       "      <td>12.649553</td>\n",
       "      <td>0.679079</td>\n",
       "    </tr>\n",
       "    <tr>\n",
       "      <th>5</th>\n",
       "      <td>56.508651</td>\n",
       "      <td>61.573972</td>\n",
       "      <td>32.931911</td>\n",
       "      <td>4.541009</td>\n",
       "      <td>14.726535</td>\n",
       "      <td>0.728173</td>\n",
       "    </tr>\n",
       "  </tbody>\n",
       "</table>\n",
       "</div>"
      ],
      "text/plain": [
       "        ptev       prev  known merf-rf fixed gain  new merf-rf fixed gain  \\\n",
       "0  89.870057  10.145162                 20.538989               -0.186749   \n",
       "1  89.771511  30.764805                 51.514512                5.267747   \n",
       "2  90.016328  49.909787                 68.000664                8.080870   \n",
       "3  56.821840  15.200795                  6.205787                0.773231   \n",
       "4  61.926701  30.743338                 20.877254                3.143301   \n",
       "5  56.508651  61.573972                 32.931911                4.541009   \n",
       "\n",
       "   known merf-rf ohe gain  new merf-rf ohe gain  \n",
       "0               20.879242              3.251213  \n",
       "1               42.852774              3.936174  \n",
       "2               55.684546              4.857849  \n",
       "3                2.662849             -1.341002  \n",
       "4               12.649553              0.679079  \n",
       "5               14.726535              0.728173  "
      ]
     },
     "execution_count": 106,
     "metadata": {},
     "output_type": "execute_result"
    }
   ],
   "source": [
    "summary_results"
   ]
  },
  {
   "cell_type": "code",
   "execution_count": null,
   "metadata": {},
   "outputs": [],
   "source": []
  }
 ],
 "metadata": {
  "kernelspec": {
   "display_name": "Python 3",
   "language": "python",
   "name": "python3"
  },
  "language_info": {
   "codemirror_mode": {
    "name": "ipython",
    "version": 3
   },
   "file_extension": ".py",
   "mimetype": "text/x-python",
   "name": "python",
   "nbconvert_exporter": "python",
   "pygments_lexer": "ipython3",
   "version": "3.6.2"
  }
 },
 "nbformat": 4,
 "nbformat_minor": 2
}
