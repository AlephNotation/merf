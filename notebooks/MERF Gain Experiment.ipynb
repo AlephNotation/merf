{
 "cells": [
  {
   "cell_type": "code",
   "execution_count": 34,
   "metadata": {},
   "outputs": [
    {
     "name": "stdout",
     "output_type": "stream",
     "text": [
      "The autoreload extension is already loaded. To reload it, use:\n",
      "  %reload_ext autoreload\n"
     ]
    }
   ],
   "source": [
    "%load_ext autoreload\n",
    "%autoreload 2\n",
    "import os, sys\n",
    "sys.path.append('..')\n",
    "%matplotlib inline\n",
    "import matplotlib.pyplot as plt\n",
    "import seaborn as sns\n",
    "sns.set_context(\"poster\")\n",
    "import numpy as np\n",
    "from sklearn.ensemble import RandomForestRegressor\n",
    "import pandas as pd\n",
    "import matplotlib as mpl\n",
    "mpl.rcParams['figure.figsize'] = (11,8)\n",
    "from merf.utils import MERFDataGenerator\n",
    "from merf.merf import MERF"
   ]
  },
  {
   "cell_type": "markdown",
   "metadata": {},
   "source": [
    "# Experimental Setup\n",
    "\n",
    "There are some global parameters for all the experiments. Each experiment is run N_per_experiment times. The experiment itself is parametrized by three parameters of the generative model. We collect up the results of the experiments in a big list of dictinaries. This is then used to compute certain summary statistics after all the experiments are over."
   ]
  },
  {
   "cell_type": "code",
   "execution_count": 35,
   "metadata": {},
   "outputs": [],
   "source": [
    "# Globals\n",
    "num_clusters_each_size = 20\n",
    "train_sizes = [1, 3, 5, 7, 9]\n",
    "known_sizes = [9, 27, 45, 63, 81]\n",
    "new_sizes = [10, 30, 50, 70, 90]\n",
    "n_estimators=300\n",
    "max_iterations=2\n",
    "train_cluster_sizes = MERFDataGenerator.create_cluster_sizes_array(train_sizes, num_clusters_each_size)\n",
    "known_cluster_sizes = MERFDataGenerator.create_cluster_sizes_array(known_sizes, num_clusters_each_size)\n",
    "new_cluster_sizes = MERFDataGenerator.create_cluster_sizes_array(new_sizes, num_clusters_each_size)"
   ]
  },
  {
   "cell_type": "code",
   "execution_count": 48,
   "metadata": {},
   "outputs": [],
   "source": [
    "# Number of times to run each experiemnts \n",
    "N_per_experiment = 2"
   ]
  },
  {
   "cell_type": "code",
   "execution_count": 49,
   "metadata": {},
   "outputs": [],
   "source": [
    "# Defining the experiments to run\n",
    "experiments = [{'id': 0, 'm': .6, 'sigma_b_sq': 4.5, 'sigma_e': 1},\n",
    "               {'id': 1, 'm': .4, 'sigma_b_sq': 3.3, 'sigma_e': 1}]"
   ]
  },
  {
   "cell_type": "markdown",
   "metadata": {},
   "source": [
    "# Run Experiments"
   ]
  },
  {
   "cell_type": "code",
   "execution_count": 52,
   "metadata": {},
   "outputs": [
    {
     "name": "stderr",
     "output_type": "stream",
     "text": [
      "INFO     [utils.py:135] Drew 10000 samples from 200 clusters.\n",
      "INFO     [utils.py:136] PTEV = 90.29700475174558, PREV = 48.35540086538786.\n"
     ]
    },
    {
     "name": "stdout",
     "output_type": "stream",
     "text": [
      "Experiment iteration: 0\n",
      "---------------------MERF----------------------\n"
     ]
    },
    {
     "name": "stderr",
     "output_type": "stream",
     "text": [
      "INFO     [merf.py:235] GLL is 1114.8189544847446 at iteration 1.\n",
      "INFO     [merf.py:235] GLL is 947.3995403757851 at iteration 2.\n"
     ]
    },
    {
     "name": "stdout",
     "output_type": "stream",
     "text": [
      "---------------------Random Forest Fixed Effect Only----------------------\n"
     ]
    },
    {
     "name": "stderr",
     "output_type": "stream",
     "text": [
      "INFO     [utils.py:135] Drew 10000 samples from 200 clusters.\n",
      "INFO     [utils.py:136] PTEV = 90.00256350780256, PREV = 49.985758695626764.\n"
     ]
    },
    {
     "name": "stdout",
     "output_type": "stream",
     "text": [
      "Experiment iteration: 1\n",
      "---------------------MERF----------------------"
     ]
    },
    {
     "name": "stderr",
     "output_type": "stream",
     "text": [
      "INFO     [merf.py:235] GLL is 1142.3343719193601 at iteration 1.\n",
      "INFO     [merf.py:235] GLL is 1009.0158005721009 at iteration 2.\n"
     ]
    },
    {
     "name": "stdout",
     "output_type": "stream",
     "text": [
      "\n",
      "---------------------Random Forest Fixed Effect Only----------------------\n"
     ]
    },
    {
     "name": "stderr",
     "output_type": "stream",
     "text": [
      "INFO     [utils.py:135] Drew 10000 samples from 200 clusters.\n",
      "INFO     [utils.py:136] PTEV = 84.24758674684308, PREV = 61.702614570577865.\n"
     ]
    },
    {
     "name": "stdout",
     "output_type": "stream",
     "text": [
      "Experiment iteration: 0\n",
      "---------------------MERF----------------------\n"
     ]
    },
    {
     "name": "stderr",
     "output_type": "stream",
     "text": [
      "INFO     [merf.py:235] GLL is 960.3131386432229 at iteration 1.\n",
      "INFO     [merf.py:235] GLL is 819.1470191678178 at iteration 2.\n"
     ]
    },
    {
     "name": "stdout",
     "output_type": "stream",
     "text": [
      "---------------------Random Forest Fixed Effect Only----------------------\n"
     ]
    },
    {
     "name": "stderr",
     "output_type": "stream",
     "text": [
      "INFO     [utils.py:135] Drew 10000 samples from 200 clusters.\n",
      "INFO     [utils.py:136] PTEV = 83.91045242906765, PREV = 63.27639220985035.\n"
     ]
    },
    {
     "name": "stdout",
     "output_type": "stream",
     "text": [
      "Experiment iteration: 1\n",
      "---------------------MERF----------------------"
     ]
    },
    {
     "name": "stderr",
     "output_type": "stream",
     "text": [
      "INFO     [merf.py:235] GLL is 947.6970163442148 at iteration 1.\n",
      "INFO     [merf.py:235] GLL is 836.675862996841 at iteration 2.\n"
     ]
    },
    {
     "name": "stdout",
     "output_type": "stream",
     "text": [
      "\n",
      "---------------------Random Forest Fixed Effect Only----------------------\n"
     ]
    }
   ],
   "source": [
    "# Creating a dictionary to hold the results of the experiments\n",
    "results = []\n",
    "for experiment in experiments:\n",
    "    results.append({'id': experiment['id'], 'mse_known_rf_fixed': [], 'mse_known_rf_ohe': [], 'mse_known_merf': [], 'mse_new_rf_fixed': [], 'mse_new_rf_ohe': [], 'mse_new_merf': []})\n",
    "    \n",
    "for experiment, result in zip(experiments, results): \n",
    "    for experiment_iteration in range(0, N_per_experiment):\n",
    "        print(\"Experiment iteration: {}\".format(experiment_iteration))\n",
    "        # Generate data for experiment\n",
    "        dgm = MERFDataGenerator(m=experiment['m'], sigma_b=np.sqrt(experiment['sigma_b_sq']), sigma_e=experiment['sigma_e'])\n",
    "        train, test_known, test_new = dgm.generate_split_samples(train_cluster_sizes, known_cluster_sizes, new_cluster_sizes)\n",
    "\n",
    "        # Training Data Extract\n",
    "        X_train = train[['X_0', 'X_1', 'X_2']]\n",
    "        Z_train = train[['Z']]\n",
    "        clusters_train = train['cluster']\n",
    "        y_train = train['y']\n",
    "\n",
    "        # Known Cluster Data Extract\n",
    "        X_known = test_known[['X_0', 'X_1', 'X_2']]\n",
    "        Z_known = test_known[['Z']]\n",
    "        clusters_known = test_known['cluster']\n",
    "        y_known = test_known['y']\n",
    "\n",
    "        # New Cluster Data Extract\n",
    "        X_new = test_new[['X_0', 'X_1', 'X_2']]\n",
    "        Z_new = test_new[['Z']]\n",
    "        clusters_new = test_new['cluster']\n",
    "        y_new = test_new['y']\n",
    "\n",
    "        # MERF\n",
    "        print(\"---------------------MERF----------------------\")\n",
    "        mrf = MERF(n_estimators=n_estimators, max_iterations=max_iterations)\n",
    "        mrf.fit(X_train, Z_train, clusters_train, y_train)\n",
    "        y_hat_known_merf = mrf.predict(X_known, Z_known, clusters_known)\n",
    "        y_hat_new_merf = mrf.predict(X_new, Z_new, clusters_new)\n",
    "        mse_known_merf = np.mean((y_known - y_hat_known_merf) ** 2)\n",
    "        mse_new_merf = np.mean((y_new - y_hat_new_merf) ** 2)\n",
    "        result['mse_known_merf'].append(mse_known_merf)\n",
    "        result['mse_new_merf'].append(mse_new_merf)\n",
    "\n",
    "        # Random Forest Fixed Only \n",
    "        print(\"---------------------Random Forest Fixed Effect Only----------------------\")\n",
    "        rf = RandomForestRegressor(n_estimators=n_estimators, n_jobs=-1)\n",
    "        rf.fit(X_train, y_train)\n",
    "        y_hat_known_rf_fixed = rf.predict(X_known)\n",
    "        y_hat_new_rf_fixed = rf.predict(X_new)\n",
    "        mse_known_rf_fixed = np.mean((y_known - y_hat_known_rf_fixed) ** 2)\n",
    "        mse_new_rf_fixed = np.mean((y_new - y_hat_new_rf_fixed) ** 2)\n",
    "        result['mse_known_rf_fixed'].append(mse_known_rf_fixed)\n",
    "        result['mse_new_rf_fixed'].append(mse_new_rf_fixed)"
   ]
  },
  {
   "cell_type": "code",
   "execution_count": 53,
   "metadata": {},
   "outputs": [
    {
     "data": {
      "text/plain": [
       "[{'id': 0,\n",
       "  'mse_known_merf': [2.3444596752614615, 2.3665212404909872],\n",
       "  'mse_known_rf_fixed': [7.0643903891885262, 6.4318108324085417],\n",
       "  'mse_known_rf_ohe': [],\n",
       "  'mse_new_merf': [6.8293937852898843, 6.2719985336567969],\n",
       "  'mse_new_rf_fixed': [7.3376362164679882, 6.79549140018975],\n",
       "  'mse_new_rf_ohe': []},\n",
       " {'id': 1,\n",
       "  'mse_known_merf': [1.8120943357711161, 1.8425068509397735],\n",
       "  'mse_known_rf_fixed': [5.3248424188724632, 5.5741559360454476],\n",
       "  'mse_known_rf_ohe': [],\n",
       "  'mse_new_merf': [5.0110103870816962, 5.3272541739922872],\n",
       "  'mse_new_rf_fixed': [5.5040513382755583, 5.9087922465606075],\n",
       "  'mse_new_rf_ohe': []}]"
      ]
     },
     "execution_count": 53,
     "metadata": {},
     "output_type": "execute_result"
    }
   ],
   "source": [
    "results"
   ]
  },
  {
   "cell_type": "code",
   "execution_count": null,
   "metadata": {},
   "outputs": [],
   "source": []
  }
 ],
 "metadata": {
  "kernelspec": {
   "display_name": "Python 3",
   "language": "python",
   "name": "python3"
  },
  "language_info": {
   "codemirror_mode": {
    "name": "ipython",
    "version": 3
   },
   "file_extension": ".py",
   "mimetype": "text/x-python",
   "name": "python",
   "nbconvert_exporter": "python",
   "pygments_lexer": "ipython3",
   "version": "3.6.2"
  }
 },
 "nbformat": 4,
 "nbformat_minor": 2
}
