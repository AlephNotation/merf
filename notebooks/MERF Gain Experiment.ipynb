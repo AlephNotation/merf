{
 "cells": [
  {
   "cell_type": "code",
   "execution_count": 70,
   "metadata": {},
   "outputs": [
    {
     "name": "stdout",
     "output_type": "stream",
     "text": [
      "The autoreload extension is already loaded. To reload it, use:\n",
      "  %reload_ext autoreload\n"
     ]
    }
   ],
   "source": [
    "%load_ext autoreload\n",
    "%autoreload 2\n",
    "import os, sys\n",
    "sys.path.append('..')\n",
    "%matplotlib inline\n",
    "import matplotlib.pyplot as plt\n",
    "import seaborn as sns\n",
    "sns.set_context(\"poster\")\n",
    "import numpy as np\n",
    "from sklearn.ensemble import RandomForestRegressor\n",
    "import pandas as pd\n",
    "import matplotlib as mpl\n",
    "mpl.rcParams['figure.figsize'] = (11,8)\n",
    "from merf.utils import MERFDataGenerator\n",
    "from merf.merf import MERF"
   ]
  },
  {
   "cell_type": "markdown",
   "metadata": {},
   "source": [
    "# Experimental Setup\n",
    "\n",
    "There are some global parameters for all the experiments. Each experiment is run N_per_experiment times. The experiment itself is parametrized by three parameters of the generative model. We collect up the results of the experiments in a big list of dictinaries. This is then used to compute certain summary statistics after all the experiments are over."
   ]
  },
  {
   "cell_type": "code",
   "execution_count": 71,
   "metadata": {},
   "outputs": [],
   "source": [
    "# Globals\n",
    "num_clusters_each_size = 20\n",
    "train_sizes = [1, 3, 5, 7, 9]\n",
    "known_sizes = [9, 27, 45, 63, 81]\n",
    "new_sizes = [10, 30, 50, 70, 90]\n",
    "n_estimators = 300\n",
    "max_iterations = 2\n",
    "train_cluster_sizes = MERFDataGenerator.create_cluster_sizes_array(train_sizes, num_clusters_each_size)\n",
    "known_cluster_sizes = MERFDataGenerator.create_cluster_sizes_array(known_sizes, num_clusters_each_size)\n",
    "new_cluster_sizes = MERFDataGenerator.create_cluster_sizes_array(new_sizes, num_clusters_each_size)"
   ]
  },
  {
   "cell_type": "code",
   "execution_count": 72,
   "metadata": {},
   "outputs": [],
   "source": [
    "# Number of times to run each experiemnts \n",
    "N_per_experiment = 2"
   ]
  },
  {
   "cell_type": "code",
   "execution_count": 73,
   "metadata": {},
   "outputs": [],
   "source": [
    "# Defining the experiments to run\n",
    "experiments = [{'id': 0, 'm': .8, 'sigma_b_sq': 0.9, 'sigma_e': 1},\n",
    "               {'id': 1, 'm': .7, 'sigma_b_sq': 2.7, 'sigma_e': 1},\n",
    "               {'id': 2, 'm': .6, 'sigma_b_sq': 4.5, 'sigma_e': 1},\n",
    "               {'id': 3, 'm': .3, 'sigma_b_sq': 0.2, 'sigma_e': 1},\n",
    "               {'id': 4, 'm': .3, 'sigma_b_sq': 0.5, 'sigma_e': 1},\n",
    "               {'id': 5, 'm': .2, 'sigma_b_sq': 0.8, 'sigma_e': 1}]"
   ]
  },
  {
   "cell_type": "markdown",
   "metadata": {},
   "source": [
    "# Run Experiments"
   ]
  },
  {
   "cell_type": "code",
   "execution_count": 77,
   "metadata": {},
   "outputs": [
    {
     "name": "stderr",
     "output_type": "stream",
     "text": [
      "INFO     [utils.py:164] Drew 10000 samples from 200 clusters.\n",
      "INFO     [utils.py:165] PTEV = 89.89608754199945, PREV = 10.115591746917799.\n"
     ]
    },
    {
     "name": "stdout",
     "output_type": "stream",
     "text": [
      "Experiment iteration: 0\n",
      "---------------------MERF----------------------\n"
     ]
    },
    {
     "name": "stderr",
     "output_type": "stream",
     "text": [
      "INFO     [merf.py:235] GLL is 898.8831739979123 at iteration 1.\n",
      "INFO     [merf.py:235] GLL is 884.8857878632623 at iteration 2.\n"
     ]
    },
    {
     "name": "stdout",
     "output_type": "stream",
     "text": [
      "---------------------Random Forest Fixed Effect Only----------------------\n",
      "---------------------Random Forest w OHE Cluster----------------------\n"
     ]
    },
    {
     "name": "stderr",
     "output_type": "stream",
     "text": [
      "/Users/souravdey/.virtualenvs/merf/lib/python3.6/site-packages/pandas/core/internals.py:490: RuntimeWarning: None of the categories were found in values. Did you mean to use\n",
      "'Categorical.from_codes(codes, categories)'?\n",
      "  return self.make_block(Categorical(self.values, **kwargs))\n",
      "INFO     [utils.py:164] Drew 10000 samples from 200 clusters.\n",
      "INFO     [utils.py:165] PTEV = 89.72414570879856, PREV = 10.307447108046842.\n"
     ]
    },
    {
     "name": "stdout",
     "output_type": "stream",
     "text": [
      "Experiment iteration: 1\n",
      "---------------------MERF----------------------"
     ]
    },
    {
     "name": "stderr",
     "output_type": "stream",
     "text": [
      "INFO     [merf.py:235] GLL is 969.3998149204131 at iteration 1.\n",
      "INFO     [merf.py:235] GLL is 926.9129378868814 at iteration 2.\n"
     ]
    },
    {
     "name": "stdout",
     "output_type": "stream",
     "text": [
      "\n",
      "---------------------Random Forest Fixed Effect Only----------------------\n",
      "---------------------Random Forest w OHE Cluster----------------------\n"
     ]
    },
    {
     "name": "stderr",
     "output_type": "stream",
     "text": [
      "/Users/souravdey/.virtualenvs/merf/lib/python3.6/site-packages/pandas/core/internals.py:490: RuntimeWarning: None of the categories were found in values. Did you mean to use\n",
      "'Categorical.from_codes(codes, categories)'?\n",
      "  return self.make_block(Categorical(self.values, **kwargs))\n",
      "INFO     [utils.py:164] Drew 10000 samples from 200 clusters.\n",
      "INFO     [utils.py:165] PTEV = 89.85546678609913, PREV = 30.482552322314234.\n"
     ]
    },
    {
     "name": "stdout",
     "output_type": "stream",
     "text": [
      "Experiment iteration: 0\n",
      "---------------------MERF----------------------"
     ]
    },
    {
     "name": "stderr",
     "output_type": "stream",
     "text": [
      "INFO     [merf.py:235] GLL is 1132.7034229758258 at iteration 1.\n",
      "INFO     [merf.py:235] GLL is 1039.713089837637 at iteration 2.\n"
     ]
    },
    {
     "name": "stdout",
     "output_type": "stream",
     "text": [
      "\n",
      "---------------------Random Forest Fixed Effect Only----------------------\n",
      "---------------------Random Forest w OHE Cluster----------------------\n"
     ]
    },
    {
     "name": "stderr",
     "output_type": "stream",
     "text": [
      "/Users/souravdey/.virtualenvs/merf/lib/python3.6/site-packages/pandas/core/internals.py:490: RuntimeWarning: None of the categories were found in values. Did you mean to use\n",
      "'Categorical.from_codes(codes, categories)'?\n",
      "  return self.make_block(Categorical(self.values, **kwargs))\n",
      "INFO     [utils.py:164] Drew 10000 samples from 200 clusters.\n",
      "INFO     [utils.py:165] PTEV = 89.8094853034404, PREV = 30.636396130929537.\n"
     ]
    },
    {
     "name": "stdout",
     "output_type": "stream",
     "text": [
      "Experiment iteration: 1\n",
      "---------------------MERF----------------------"
     ]
    },
    {
     "name": "stderr",
     "output_type": "stream",
     "text": [
      "INFO     [merf.py:235] GLL is 1027.531663191939 at iteration 1.\n",
      "INFO     [merf.py:235] GLL is 979.9123872869907 at iteration 2.\n"
     ]
    },
    {
     "name": "stdout",
     "output_type": "stream",
     "text": [
      "\n",
      "---------------------Random Forest Fixed Effect Only----------------------\n",
      "---------------------Random Forest w OHE Cluster----------------------\n"
     ]
    },
    {
     "name": "stderr",
     "output_type": "stream",
     "text": [
      "/Users/souravdey/.virtualenvs/merf/lib/python3.6/site-packages/pandas/core/internals.py:490: RuntimeWarning: None of the categories were found in values. Did you mean to use\n",
      "'Categorical.from_codes(codes, categories)'?\n",
      "  return self.make_block(Categorical(self.values, **kwargs))\n",
      "INFO     [utils.py:164] Drew 10000 samples from 200 clusters.\n",
      "INFO     [utils.py:165] PTEV = 90.08538977730439, PREV = 49.526062008970186.\n"
     ]
    },
    {
     "name": "stdout",
     "output_type": "stream",
     "text": [
      "Experiment iteration: 0\n",
      "---------------------MERF----------------------"
     ]
    },
    {
     "name": "stderr",
     "output_type": "stream",
     "text": [
      "INFO     [merf.py:235] GLL is 1132.369721562736 at iteration 1.\n",
      "INFO     [merf.py:235] GLL is 983.3267770137679 at iteration 2.\n"
     ]
    },
    {
     "name": "stdout",
     "output_type": "stream",
     "text": [
      "\n",
      "---------------------Random Forest Fixed Effect Only----------------------\n",
      "---------------------Random Forest w OHE Cluster----------------------\n"
     ]
    },
    {
     "name": "stderr",
     "output_type": "stream",
     "text": [
      "/Users/souravdey/.virtualenvs/merf/lib/python3.6/site-packages/pandas/core/internals.py:490: RuntimeWarning: None of the categories were found in values. Did you mean to use\n",
      "'Categorical.from_codes(codes, categories)'?\n",
      "  return self.make_block(Categorical(self.values, **kwargs))\n",
      "INFO     [utils.py:164] Drew 10000 samples from 200 clusters.\n",
      "INFO     [utils.py:165] PTEV = 89.93527062114542, PREV = 50.35986648179024.\n"
     ]
    },
    {
     "name": "stdout",
     "output_type": "stream",
     "text": [
      "Experiment iteration: 1\n",
      "---------------------MERF----------------------\n"
     ]
    },
    {
     "name": "stderr",
     "output_type": "stream",
     "text": [
      "INFO     [merf.py:235] GLL is 1112.8139214713249 at iteration 1.\n",
      "INFO     [merf.py:235] GLL is 962.1085995647846 at iteration 2.\n"
     ]
    },
    {
     "name": "stdout",
     "output_type": "stream",
     "text": [
      "---------------------Random Forest Fixed Effect Only----------------------\n",
      "---------------------Random Forest w OHE Cluster----------------------\n"
     ]
    },
    {
     "name": "stderr",
     "output_type": "stream",
     "text": [
      "/Users/souravdey/.virtualenvs/merf/lib/python3.6/site-packages/pandas/core/internals.py:490: RuntimeWarning: None of the categories were found in values. Did you mean to use\n",
      "'Categorical.from_codes(codes, categories)'?\n",
      "  return self.make_block(Categorical(self.values, **kwargs))\n",
      "INFO     [utils.py:164] Drew 10000 samples from 200 clusters.\n",
      "INFO     [utils.py:165] PTEV = 56.60108993518346, PREV = 15.335008606553217.\n"
     ]
    },
    {
     "name": "stdout",
     "output_type": "stream",
     "text": [
      "Experiment iteration: 0\n",
      "---------------------MERF----------------------"
     ]
    },
    {
     "name": "stderr",
     "output_type": "stream",
     "text": [
      "INFO     [merf.py:235] GLL is 595.8859273146685 at iteration 1.\n",
      "INFO     [merf.py:235] GLL is 536.1849585922074 at iteration 2.\n"
     ]
    },
    {
     "name": "stdout",
     "output_type": "stream",
     "text": [
      "\n",
      "---------------------Random Forest Fixed Effect Only----------------------\n",
      "---------------------Random Forest w OHE Cluster----------------------\n"
     ]
    },
    {
     "name": "stderr",
     "output_type": "stream",
     "text": [
      "/Users/souravdey/.virtualenvs/merf/lib/python3.6/site-packages/pandas/core/internals.py:490: RuntimeWarning: None of the categories were found in values. Did you mean to use\n",
      "'Categorical.from_codes(codes, categories)'?\n",
      "  return self.make_block(Categorical(self.values, **kwargs))\n",
      "INFO     [utils.py:164] Drew 10000 samples from 200 clusters.\n",
      "INFO     [utils.py:165] PTEV = 56.96314445004167, PREV = 15.110421296248106.\n"
     ]
    },
    {
     "name": "stdout",
     "output_type": "stream",
     "text": [
      "Experiment iteration: 1\n",
      "---------------------MERF----------------------"
     ]
    },
    {
     "name": "stderr",
     "output_type": "stream",
     "text": [
      "INFO     [merf.py:235] GLL is 600.5179112498043 at iteration 1.\n",
      "INFO     [merf.py:235] GLL is 549.9883175806602 at iteration 2.\n"
     ]
    },
    {
     "name": "stdout",
     "output_type": "stream",
     "text": [
      "\n",
      "---------------------Random Forest Fixed Effect Only----------------------\n",
      "---------------------Random Forest w OHE Cluster----------------------\n"
     ]
    },
    {
     "name": "stderr",
     "output_type": "stream",
     "text": [
      "/Users/souravdey/.virtualenvs/merf/lib/python3.6/site-packages/pandas/core/internals.py:490: RuntimeWarning: None of the categories were found in values. Did you mean to use\n",
      "'Categorical.from_codes(codes, categories)'?\n",
      "  return self.make_block(Categorical(self.values, **kwargs))\n",
      "INFO     [utils.py:164] Drew 10000 samples from 200 clusters.\n",
      "INFO     [utils.py:165] PTEV = 62.095301992844654, PREV = 30.52138953404493.\n"
     ]
    },
    {
     "name": "stdout",
     "output_type": "stream",
     "text": [
      "Experiment iteration: 0\n",
      "---------------------MERF----------------------"
     ]
    },
    {
     "name": "stderr",
     "output_type": "stream",
     "text": [
      "INFO     [merf.py:235] GLL is 550.7819381769276 at iteration 1.\n",
      "INFO     [merf.py:235] GLL is 500.87023581078876 at iteration 2.\n"
     ]
    },
    {
     "name": "stdout",
     "output_type": "stream",
     "text": [
      "\n",
      "---------------------Random Forest Fixed Effect Only----------------------\n",
      "---------------------Random Forest w OHE Cluster----------------------\n"
     ]
    },
    {
     "name": "stderr",
     "output_type": "stream",
     "text": [
      "/Users/souravdey/.virtualenvs/merf/lib/python3.6/site-packages/pandas/core/internals.py:490: RuntimeWarning: None of the categories were found in values. Did you mean to use\n",
      "'Categorical.from_codes(codes, categories)'?\n",
      "  return self.make_block(Categorical(self.values, **kwargs))\n",
      "INFO     [utils.py:164] Drew 10000 samples from 200 clusters.\n",
      "INFO     [utils.py:165] PTEV = 61.63110744497759, PREV = 31.127862329325357.\n"
     ]
    },
    {
     "name": "stdout",
     "output_type": "stream",
     "text": [
      "Experiment iteration: 1\n",
      "---------------------MERF----------------------\n"
     ]
    },
    {
     "name": "stderr",
     "output_type": "stream",
     "text": [
      "INFO     [merf.py:235] GLL is 671.4288918182554 at iteration 1.\n",
      "INFO     [merf.py:235] GLL is 634.5217542465908 at iteration 2.\n"
     ]
    },
    {
     "name": "stdout",
     "output_type": "stream",
     "text": [
      "---------------------Random Forest Fixed Effect Only----------------------\n",
      "---------------------Random Forest w OHE Cluster----------------------\n"
     ]
    },
    {
     "name": "stderr",
     "output_type": "stream",
     "text": [
      "/Users/souravdey/.virtualenvs/merf/lib/python3.6/site-packages/pandas/core/internals.py:490: RuntimeWarning: None of the categories were found in values. Did you mean to use\n",
      "'Categorical.from_codes(codes, categories)'?\n",
      "  return self.make_block(Categorical(self.values, **kwargs))\n",
      "INFO     [utils.py:164] Drew 10000 samples from 200 clusters.\n",
      "INFO     [utils.py:165] PTEV = 56.86293509195036, PREV = 60.68918509154649.\n"
     ]
    },
    {
     "name": "stdout",
     "output_type": "stream",
     "text": [
      "Experiment iteration: 0\n",
      "---------------------MERF----------------------"
     ]
    },
    {
     "name": "stderr",
     "output_type": "stream",
     "text": [
      "INFO     [merf.py:235] GLL is 706.5209420503456 at iteration 1.\n",
      "INFO     [merf.py:235] GLL is 648.6911673866513 at iteration 2.\n"
     ]
    },
    {
     "name": "stdout",
     "output_type": "stream",
     "text": [
      "\n",
      "---------------------Random Forest Fixed Effect Only----------------------\n",
      "---------------------Random Forest w OHE Cluster----------------------\n"
     ]
    },
    {
     "name": "stderr",
     "output_type": "stream",
     "text": [
      "/Users/souravdey/.virtualenvs/merf/lib/python3.6/site-packages/pandas/core/internals.py:490: RuntimeWarning: None of the categories were found in values. Did you mean to use\n",
      "'Categorical.from_codes(codes, categories)'?\n",
      "  return self.make_block(Categorical(self.values, **kwargs))\n",
      "INFO     [utils.py:164] Drew 10000 samples from 200 clusters.\n",
      "INFO     [utils.py:165] PTEV = 56.39907682781137, PREV = 61.84629341406278.\n"
     ]
    },
    {
     "name": "stdout",
     "output_type": "stream",
     "text": [
      "Experiment iteration: 1\n",
      "---------------------MERF----------------------\n"
     ]
    },
    {
     "name": "stderr",
     "output_type": "stream",
     "text": [
      "INFO     [merf.py:235] GLL is 573.2791552037188 at iteration 1.\n",
      "INFO     [merf.py:235] GLL is 503.54080998194473 at iteration 2.\n"
     ]
    },
    {
     "name": "stdout",
     "output_type": "stream",
     "text": [
      "---------------------Random Forest Fixed Effect Only----------------------\n",
      "---------------------Random Forest w OHE Cluster----------------------\n"
     ]
    },
    {
     "name": "stderr",
     "output_type": "stream",
     "text": [
      "/Users/souravdey/.virtualenvs/merf/lib/python3.6/site-packages/pandas/core/internals.py:490: RuntimeWarning: None of the categories were found in values. Did you mean to use\n",
      "'Categorical.from_codes(codes, categories)'?\n",
      "  return self.make_block(Categorical(self.values, **kwargs))\n"
     ]
    }
   ],
   "source": [
    "# Creating a dictionary to hold the results of the experiments\n",
    "results = []\n",
    "for experiment in experiments:\n",
    "    results.append({'id': experiment['id'], 'ptev': [], 'prev': [],\n",
    "                    'mse_known_rf_fixed': [], 'mse_known_rf_ohe': [], 'mse_known_merf': [], \n",
    "                    'mse_new_rf_fixed': [], 'mse_new_rf_ohe': [], 'mse_new_merf': []})\n",
    "    \n",
    "for experiment, result in zip(experiments, results): \n",
    "    for experiment_iteration in range(0, N_per_experiment):\n",
    "        print(\"Experiment iteration: {}\".format(experiment_iteration))\n",
    "        # Generate data for experiment\n",
    "        dgm = MERFDataGenerator(m=experiment['m'], sigma_b=np.sqrt(experiment['sigma_b_sq']), sigma_e=experiment['sigma_e'])\n",
    "        train, test_known, test_new, train_cluster_ids, ptev, prev = dgm.generate_split_samples(train_cluster_sizes, known_cluster_sizes, new_cluster_sizes)\n",
    "        \n",
    "        # Store off PTEV and PREV\n",
    "        result['ptev'].append(ptev)\n",
    "        result['prev'].append(prev)\n",
    "        \n",
    "        # Training Data Extract\n",
    "        X_train = train[['X_0', 'X_1', 'X_2']]\n",
    "        Z_train = train[['Z']]\n",
    "        clusters_train = train['cluster']\n",
    "        y_train = train['y']\n",
    "\n",
    "        # Known Cluster Data Extract\n",
    "        X_known = test_known[['X_0', 'X_1', 'X_2']]\n",
    "        Z_known = test_known[['Z']]\n",
    "        clusters_known = test_known['cluster']\n",
    "        y_known = test_known['y']\n",
    "\n",
    "        # New Cluster Data Extract\n",
    "        X_new = test_new[['X_0', 'X_1', 'X_2']]\n",
    "        Z_new = test_new[['Z']]\n",
    "        clusters_new = test_new['cluster']\n",
    "        y_new = test_new['y']\n",
    "\n",
    "        # MERF\n",
    "        print(\"---------------------MERF----------------------\")\n",
    "        mrf = MERF(n_estimators=n_estimators, max_iterations=max_iterations)\n",
    "        mrf.fit(X_train, Z_train, clusters_train, y_train)\n",
    "        y_hat_known_merf = mrf.predict(X_known, Z_known, clusters_known)\n",
    "        y_hat_new_merf = mrf.predict(X_new, Z_new, clusters_new)\n",
    "        mse_known_merf = np.mean((y_known - y_hat_known_merf) ** 2)\n",
    "        mse_new_merf = np.mean((y_new - y_hat_new_merf) ** 2)\n",
    "        result['mse_known_merf'].append(mse_known_merf)\n",
    "        result['mse_new_merf'].append(mse_new_merf)\n",
    "\n",
    "        # Random Forest Fixed Only \n",
    "        print(\"---------------------Random Forest Fixed Effect Only----------------------\")\n",
    "        rf = RandomForestRegressor(n_estimators=n_estimators, n_jobs=-1)\n",
    "        rf.fit(X_train, y_train)\n",
    "        y_hat_known_rf_fixed = rf.predict(X_known)\n",
    "        y_hat_new_rf_fixed = rf.predict(X_new)\n",
    "        mse_known_rf_fixed = np.mean((y_known - y_hat_known_rf_fixed) ** 2)\n",
    "        mse_new_rf_fixed = np.mean((y_new - y_hat_new_rf_fixed) ** 2)\n",
    "        result['mse_known_rf_fixed'].append(mse_known_rf_fixed)\n",
    "        result['mse_new_rf_fixed'].append(mse_new_rf_fixed)\n",
    "        \n",
    "        # Random Forest with OHE Cluster\n",
    "        print(\"---------------------Random Forest w OHE Cluster----------------------\")\n",
    "        X_train_w_ohe = MERFDataGenerator.create_X_with_ohe_clusters(X_train, clusters_train, train_cluster_ids)\n",
    "        X_known_w_ohe = MERFDataGenerator.create_X_with_ohe_clusters(X_known, clusters_known, train_cluster_ids)\n",
    "        X_new_w_ohe = MERFDataGenerator.create_X_with_ohe_clusters(X_new, clusters_new, train_cluster_ids)\n",
    "        rf_ohe = RandomForestRegressor(n_estimators=n_estimators, n_jobs=-1)\n",
    "        rf_ohe.fit(X_train_w_ohe, y_train)\n",
    "        y_hat_known_rf_ohe = rf_ohe.predict(X_known_w_ohe)\n",
    "        y_hat_new_rf_ohe = rf_ohe.predict(X_new_w_ohe)\n",
    "        mse_known_rf_ohe = np.mean((y_known - y_hat_known_rf_ohe) ** 2)\n",
    "        mse_new_rf_ohe = np.mean((y_new - y_hat_new_rf_ohe) ** 2)\n",
    "        result['mse_known_rf_ohe'].append(mse_known_rf_ohe)\n",
    "        result['mse_new_rf_ohe'].append(mse_new_rf_ohe)\n"
   ]
  },
  {
   "cell_type": "code",
   "execution_count": 78,
   "metadata": {},
   "outputs": [
    {
     "data": {
      "text/plain": [
       "[{'id': 0,\n",
       "  'mse_known_merf': [2.6363674944169193, 2.6661732302860872],\n",
       "  'mse_known_rf_fixed': [3.4091131218341162, 3.3027745241171167],\n",
       "  'mse_known_rf_ohe': [3.3513540573410254, 3.2660012999161041],\n",
       "  'mse_new_merf': [3.4826861212646261, 3.2380332223656594],\n",
       "  'mse_new_rf_fixed': [3.5272654183930734, 3.2391664686121997],\n",
       "  'mse_new_rf_ohe': [3.6845934086691021, 3.2805311320264932],\n",
       "  'prev': [10.115591746917799, 10.307447108046842],\n",
       "  'ptev': [89.896087541999449, 89.724145708798559]},\n",
       " {'id': 1,\n",
       "  'mse_known_merf': [2.5269444941769308, 2.3502460819578377],\n",
       "  'mse_known_rf_fixed': [5.5458270845108073, 4.5313787884293548],\n",
       "  'mse_known_rf_ohe': [4.4388186904858031, 4.0262816487090332],\n",
       "  'mse_new_merf': [4.6969672097944706, 4.588511502467683],\n",
       "  'mse_new_rf_fixed': [4.9003689988689816, 4.7236638552216395],\n",
       "  'mse_new_rf_ohe': [4.7596187822577667, 4.6501374567497313],\n",
       "  'prev': [30.482552322314234, 30.636396130929537],\n",
       "  'ptev': [89.855466786099129, 89.809485303440397]},\n",
       " {'id': 2,\n",
       "  'mse_known_merf': [2.3219010493366055, 2.4623281261428471],\n",
       "  'mse_known_rf_fixed': [7.9012923582119114, 7.1757830561653861],\n",
       "  'mse_known_rf_ohe': [5.1687664949215408, 5.2479589874572392],\n",
       "  'mse_new_merf': [6.8211775260367284, 6.6278815025115527],\n",
       "  'mse_new_rf_fixed': [7.2582600538228519, 7.3932850147554801],\n",
       "  'mse_new_rf_ohe': [7.2667153584499102, 7.0231393528305404],\n",
       "  'prev': [49.526062008970186, 50.359866481790242],\n",
       "  'ptev': [90.085389777304385, 89.93527062114542]},\n",
       " {'id': 3,\n",
       "  'mse_known_merf': [1.5658879734056927, 1.3733866750423513],\n",
       "  'mse_known_rf_fixed': [1.6754938839915641, 1.5154098879791067],\n",
       "  'mse_known_rf_ohe': [1.5494182635607063, 1.4346855972451951],\n",
       "  'mse_new_merf': [1.6626835732895995, 1.4681545174548678],\n",
       "  'mse_new_rf_fixed': [1.6786591658916201, 1.51974311967805],\n",
       "  'mse_new_rf_ohe': [1.6310906138830057, 1.4831278698679837],\n",
       "  'prev': [15.335008606553217, 15.110421296248106],\n",
       "  'ptev': [56.60108993518346, 56.963144450041668]},\n",
       " {'id': 4,\n",
       "  'mse_known_merf': [1.4966131433593757, 1.5676080367184035],\n",
       "  'mse_known_rf_fixed': [1.8554985586296033, 1.8341765332607376],\n",
       "  'mse_known_rf_ohe': [1.6799574760798976, 1.667780210131431],\n",
       "  'mse_new_merf': [1.9448497501120896, 1.8129170140565263],\n",
       "  'mse_new_rf_fixed': [2.0168741514284805, 1.8450329026659895],\n",
       "  'mse_new_rf_ohe': [1.9946382745764581, 1.7844092977179236],\n",
       "  'prev': [30.521389534044928, 31.127862329325357],\n",
       "  'ptev': [62.095301992844654, 61.631107444977587]},\n",
       " {'id': 5,\n",
       "  'mse_known_merf': [1.4336853744378759, 1.4645331378020705],\n",
       "  'mse_known_rf_fixed': [2.136642365248556, 2.0092789735789029],\n",
       "  'mse_known_rf_ohe': [1.6433569701098427, 1.7079885423250853],\n",
       "  'mse_new_merf': [1.8648909584448581, 2.0291811616001802],\n",
       "  'mse_new_rf_fixed': [1.9732908022317079, 2.1373764317423576],\n",
       "  'mse_new_rf_ohe': [1.8641771964843883, 2.0674269013119018],\n",
       "  'prev': [60.689185091546491, 61.846293414062778],\n",
       "  'ptev': [56.862935091950362, 56.399076827811371]}]"
      ]
     },
     "execution_count": 78,
     "metadata": {},
     "output_type": "execute_result"
    }
   ],
   "source": [
    "results"
   ]
  },
  {
   "cell_type": "code",
   "execution_count": null,
   "metadata": {},
   "outputs": [],
   "source": []
  }
 ],
 "metadata": {
  "kernelspec": {
   "display_name": "Python 3",
   "language": "python",
   "name": "python3"
  },
  "language_info": {
   "codemirror_mode": {
    "name": "ipython",
    "version": 3
   },
   "file_extension": ".py",
   "mimetype": "text/x-python",
   "name": "python",
   "nbconvert_exporter": "python",
   "pygments_lexer": "ipython3",
   "version": "3.6.2"
  }
 },
 "nbformat": 4,
 "nbformat_minor": 2
}
